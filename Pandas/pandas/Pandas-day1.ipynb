{
 "cells": [
  {
   "cell_type": "code",
   "execution_count": null,
   "id": "76818aba-7f97-4486-a5a2-837c87c21935",
   "metadata": {},
   "outputs": [],
   "source": [
    "Pandas -- > Pandas is very powerful tool for data manipulation and analysis.\n",
    "\n",
    "    Or\n",
    "\n",
    "Pandas is fast, powerful flexiable and easy to use open source data analysis and manipulation tool, its builts on the top of python programming language\n",
    "\n",
    "why Use Pandas?\n",
    "\n",
    "1- Easy data manipulation and cleaning\n",
    "\n",
    "2- Powerful capabilities for data analysis\n",
    "\n",
    "3- it is handled different different data formats(csv,excels,json, SQL etc)\n",
    "\n",
    "\n",
    "History : \n",
    "\n",
    "\n",
    "in, 2008, wes mackenny started the deploying the pandas for high performanace\n",
    "\n",
    "1- Pandas is the Open source\n",
    "2- easy to use by anyone\n",
    "3- it is data analysis tool"
   ]
  },
  {
   "cell_type": "code",
   "execution_count": 1,
   "id": "7bb5798e-89a7-4a0c-93d8-f5ae3f94776d",
   "metadata": {},
   "outputs": [
    {
     "name": "stdout",
     "output_type": "stream",
     "text": [
      "Requirement already satisfied: pandas in c:\\users\\jitud\\appdata\\local\\programs\\python\\python313\\lib\\site-packages (2.2.3)\n",
      "Requirement already satisfied: numpy>=1.26.0 in c:\\users\\jitud\\appdata\\local\\programs\\python\\python313\\lib\\site-packages (from pandas) (2.2.6)\n",
      "Requirement already satisfied: python-dateutil>=2.8.2 in c:\\users\\jitud\\appdata\\local\\programs\\python\\python313\\lib\\site-packages (from pandas) (2.9.0.post0)\n",
      "Requirement already satisfied: pytz>=2020.1 in c:\\users\\jitud\\appdata\\local\\programs\\python\\python313\\lib\\site-packages (from pandas) (2025.2)\n",
      "Requirement already satisfied: tzdata>=2022.7 in c:\\users\\jitud\\appdata\\local\\programs\\python\\python313\\lib\\site-packages (from pandas) (2025.2)\n",
      "Requirement already satisfied: six>=1.5 in c:\\users\\jitud\\appdata\\local\\programs\\python\\python313\\lib\\site-packages (from python-dateutil>=2.8.2->pandas) (1.17.0)\n"
     ]
    },
    {
     "name": "stderr",
     "output_type": "stream",
     "text": [
      "\n",
      "[notice] A new release of pip is available: 25.1.1 -> 25.2\n",
      "[notice] To update, run: python.exe -m pip install --upgrade pip\n"
     ]
    }
   ],
   "source": [
    "# installation\n",
    "\n",
    "!pip install pandas"
   ]
  },
  {
   "cell_type": "code",
   "execution_count": 2,
   "id": "12cdd04b-def5-44b1-a46f-0247589c3060",
   "metadata": {},
   "outputs": [],
   "source": [
    "# Import pandas packages\n",
    "import pandas as pd"
   ]
  },
  {
   "cell_type": "code",
   "execution_count": 4,
   "id": "240aa873-dc92-4b94-bfde-ec6b8b9c96d5",
   "metadata": {},
   "outputs": [
    {
     "name": "stdout",
     "output_type": "stream",
     "text": [
      "2.2.3\n"
     ]
    }
   ],
   "source": [
    "# to check the pandas version\n",
    "print(pd.__version__)"
   ]
  },
  {
   "cell_type": "code",
   "execution_count": null,
   "id": "d10068f1-82c0-40be-8ca1-d9f58a48dca4",
   "metadata": {},
   "outputs": [],
   "source": [
    "# Pandas has two components\n",
    "\n",
    "1- Series\n",
    "\n",
    "\n",
    "2- DataFrame"
   ]
  },
  {
   "cell_type": "markdown",
   "id": "b421be45-4327-42d3-b037-29312093f0fb",
   "metadata": {},
   "source": [
    "# 1. Series\n",
    "\n",
    "\n",
    "    Series is one dimenional array like struture with homegeneous data\n",
    "\n",
    "    eg. - [23,12,3,45,6,67,67,567,567,5,756,756,756,765]"
   ]
  },
  {
   "cell_type": "code",
   "execution_count": 5,
   "id": "dcf84c7d-b6d9-4e37-8869-e858627bf358",
   "metadata": {},
   "outputs": [],
   "source": [
    "import pandas as pd"
   ]
  },
  {
   "cell_type": "code",
   "execution_count": 6,
   "id": "029144e0-4b2c-405b-9cce-072f44b8e692",
   "metadata": {},
   "outputs": [
    {
     "name": "stdout",
     "output_type": "stream",
     "text": [
      "Series([], dtype: object)\n"
     ]
    }
   ],
   "source": [
    "# create a empty object\n",
    "\n",
    "s = pd.Series()\n",
    "print(s)"
   ]
  },
  {
   "cell_type": "code",
   "execution_count": 11,
   "id": "f887d65e-c3f0-46bb-9f53-492267b6da9e",
   "metadata": {},
   "outputs": [
    {
     "data": {
      "text/plain": [
       "0     2\n",
       "1     3\n",
       "2    45\n",
       "3     6\n",
       "4     6\n",
       "dtype: int64"
      ]
     },
     "execution_count": 11,
     "metadata": {},
     "output_type": "execute_result"
    }
   ],
   "source": [
    "# from a list\n",
    "\n",
    "lst = [2,3,45,6,6]\n",
    "#print(type(lst))\n",
    "\n",
    "\n",
    "series1 = pd.Series(lst)\n",
    "#print(type(series1))\n",
    "series1\n"
   ]
  },
  {
   "cell_type": "code",
   "execution_count": 12,
   "id": "a9993d50-92df-4611-b85b-211a6cd8a60a",
   "metadata": {},
   "outputs": [
    {
     "data": {
      "text/plain": [
       "0     2\n",
       "1     3\n",
       "2    45\n",
       "3     6\n",
       "4     6\n",
       "dtype: int64"
      ]
     },
     "execution_count": 12,
     "metadata": {},
     "output_type": "execute_result"
    }
   ],
   "source": [
    "# from a tuple\n",
    "series2 = pd.Series((2,3,45,6,6))\n",
    "series2"
   ]
  },
  {
   "cell_type": "code",
   "execution_count": 13,
   "id": "f6474afe-5e2a-4101-b9b5-c0b8aa74ebaf",
   "metadata": {},
   "outputs": [
    {
     "data": {
      "text/plain": [
       "name    john\n",
       "age       20\n",
       "dtype: object"
      ]
     },
     "execution_count": 13,
     "metadata": {},
     "output_type": "execute_result"
    }
   ],
   "source": [
    "# from a dictionary\n",
    "d = {\"name\": \"john\", \"age\" : 20}\n",
    "series2 = pd.Series(d)\n",
    "series2"
   ]
  },
  {
   "cell_type": "code",
   "execution_count": 20,
   "id": "daebcbbb-891f-4e95-89d7-2d5eb009c1f8",
   "metadata": {},
   "outputs": [
    {
     "data": {
      "text/plain": [
       "0     1\n",
       "1     2\n",
       "2     3\n",
       "3    45\n",
       "4     5\n",
       "dtype: int64"
      ]
     },
     "execution_count": 20,
     "metadata": {},
     "output_type": "execute_result"
    }
   ],
   "source": [
    "# from a array\n",
    "\n",
    "import numpy as np\n",
    "\n",
    "arr = np.array([1,2,3,45,5])\n",
    "#print(type(arr))\n",
    "\n",
    "arr_series = pd.Series(arr)\n",
    "arr_series"
   ]
  },
  {
   "cell_type": "code",
   "execution_count": 21,
   "id": "c65090ea-a4dd-4550-8c05-1f8456cdf591",
   "metadata": {},
   "outputs": [
    {
     "data": {
      "text/plain": [
       "100    12\n",
       "200    14\n",
       "300    16\n",
       "400    18\n",
       "dtype: int64"
      ]
     },
     "execution_count": 21,
     "metadata": {},
     "output_type": "execute_result"
    }
   ],
   "source": [
    "# with custom index\n",
    "\n",
    "series2 = pd.Series([12,14,16,18], index=[100,200,300,400])\n",
    "series2\n"
   ]
  },
  {
   "cell_type": "markdown",
   "id": "701a0279-b7ef-4b29-ae7f-f6e2bafcb7ba",
   "metadata": {},
   "source": [
    "# DataFrame\n",
    "\n",
    "     Dataframe is two dimensional array with hetrogeneous data ."
   ]
  },
  {
   "cell_type": "code",
   "execution_count": 23,
   "id": "a7a81adc-e5a9-4038-a372-4b67de4201fe",
   "metadata": {},
   "outputs": [
    {
     "name": "stdout",
     "output_type": "stream",
     "text": [
      "Empty DataFrame\n",
      "Columns: []\n",
      "Index: []\n"
     ]
    }
   ],
   "source": [
    "# empty dataframe\n",
    "\n",
    "df = pd.DataFrame()\n",
    "print(df)"
   ]
  },
  {
   "cell_type": "code",
   "execution_count": 26,
   "id": "de72d935-bcde-41f3-8132-1eaee695a789",
   "metadata": {},
   "outputs": [
    {
     "data": {
      "text/html": [
       "<div>\n",
       "<style scoped>\n",
       "    .dataframe tbody tr th:only-of-type {\n",
       "        vertical-align: middle;\n",
       "    }\n",
       "\n",
       "    .dataframe tbody tr th {\n",
       "        vertical-align: top;\n",
       "    }\n",
       "\n",
       "    .dataframe thead th {\n",
       "        text-align: right;\n",
       "    }\n",
       "</style>\n",
       "<table border=\"1\" class=\"dataframe\">\n",
       "  <thead>\n",
       "    <tr style=\"text-align: right;\">\n",
       "      <th></th>\n",
       "      <th>Name</th>\n",
       "      <th>Age</th>\n",
       "    </tr>\n",
       "  </thead>\n",
       "  <tbody>\n",
       "    <tr>\n",
       "      <th>0</th>\n",
       "      <td>John</td>\n",
       "      <td>20</td>\n",
       "    </tr>\n",
       "    <tr>\n",
       "      <th>1</th>\n",
       "      <td>Bob</td>\n",
       "      <td>30</td>\n",
       "    </tr>\n",
       "    <tr>\n",
       "      <th>2</th>\n",
       "      <td>Cat</td>\n",
       "      <td>25</td>\n",
       "    </tr>\n",
       "  </tbody>\n",
       "</table>\n",
       "</div>"
      ],
      "text/plain": [
       "   Name  Age\n",
       "0  John   20\n",
       "1   Bob   30\n",
       "2   Cat   25"
      ]
     },
     "execution_count": 26,
     "metadata": {},
     "output_type": "execute_result"
    }
   ],
   "source": [
    "# creating a datframe from dictionary\n",
    "\n",
    "data = {\n",
    "    \"Name\" : [\"John\",\"Bob\",\"Cat\"],\n",
    "    \"Age\" : [20,30,25]\n",
    "}\n",
    "\n",
    "df = pd.DataFrame(data)\n",
    "df\n"
   ]
  },
  {
   "cell_type": "code",
   "execution_count": null,
   "id": "4c04a413-faf9-4389-8398-67824c88e98d",
   "metadata": {},
   "outputs": [],
   "source": []
  }
 ],
 "metadata": {
  "kernelspec": {
   "display_name": "Python 3 (ipykernel)",
   "language": "python",
   "name": "python3"
  },
  "language_info": {
   "codemirror_mode": {
    "name": "ipython",
    "version": 3
   },
   "file_extension": ".py",
   "mimetype": "text/x-python",
   "name": "python",
   "nbconvert_exporter": "python",
   "pygments_lexer": "ipython3",
   "version": "3.13.3"
  }
 },
 "nbformat": 4,
 "nbformat_minor": 5
}
