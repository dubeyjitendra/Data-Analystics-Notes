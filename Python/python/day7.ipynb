{
 "cells": [
  {
   "cell_type": "markdown",
   "id": "4d42162f-a7c4-41e9-bcf8-c9c81636fa80",
   "metadata": {},
   "source": [
    "# Dictionary"
   ]
  },
  {
   "cell_type": "code",
   "execution_count": null,
   "id": "8cfede29-843e-4157-86d1-4e2df9f266c1",
   "metadata": {},
   "outputs": [],
   "source": [
    "# Dictionary\n",
    "\n",
    "1- denote : {}\n",
    "\n",
    "2- Dictionary is mutable(can be modified after creation)\n",
    "\n",
    "3- its not follow the order (unordered )\n",
    "\n",
    "4- it is store the data as key and value format.  eg . {\"name\" : \"John\",\"age\": 20}"
   ]
  },
  {
   "cell_type": "code",
   "execution_count": 1,
   "id": "5c76240f-6b83-42ad-a146-55ee5e86dfb4",
   "metadata": {},
   "outputs": [
    {
     "name": "stdout",
     "output_type": "stream",
     "text": [
      "{}\n"
     ]
    }
   ],
   "source": [
    "# Dictionary Operations\n",
    "\n",
    "# empty Dictionary\n",
    "\n",
    "d = {}\n",
    "print(d)\n",
    "\n",
    "student = {\"name\": \"Bob\",\"age\" : 25,\"grade\" : \"A\"}"
   ]
  },
  {
   "cell_type": "code",
   "execution_count": 2,
   "id": "19d6eafe-9f12-4294-8582-b60e80836ccc",
   "metadata": {},
   "outputs": [
    {
     "data": {
      "text/plain": [
       "{'a': 1, 'b': 2}"
      ]
     },
     "execution_count": 2,
     "metadata": {},
     "output_type": "execute_result"
    }
   ],
   "source": [
    "lst = [('a',1),('b',2)]\n",
    "\n",
    "# converting list of tuples to dict\n",
    "dict(lst)"
   ]
  },
  {
   "cell_type": "code",
   "execution_count": 4,
   "id": "3b7c6884-ac3e-45d2-b2d9-800f00ce2a1d",
   "metadata": {},
   "outputs": [
    {
     "data": {
      "text/plain": [
       "{0: 0, 1: 1, 2: 4, 3: 9, 4: 16}"
      ]
     },
     "execution_count": 4,
     "metadata": {},
     "output_type": "execute_result"
    }
   ],
   "source": [
    "d_com = {x: x**2 for x in range(5)} # \n",
    "d_com"
   ]
  },
  {
   "cell_type": "code",
   "execution_count": 5,
   "id": "b8de92f6-aec3-4e54-8bf8-8dfdb3559225",
   "metadata": {},
   "outputs": [],
   "source": [
    "# Accessing \n",
    "student = {\"name\": \"Bob\",\"age\" : 25,\"grade\" : \"A\"}"
   ]
  },
  {
   "cell_type": "code",
   "execution_count": 10,
   "id": "45e6832c-5e6d-4929-a40d-45c75af29dd8",
   "metadata": {},
   "outputs": [
    {
     "data": {
      "text/plain": [
       "'A'"
      ]
     },
     "execution_count": 10,
     "metadata": {},
     "output_type": "execute_result"
    }
   ],
   "source": [
    "student[\"grade\"]"
   ]
  },
  {
   "cell_type": "code",
   "execution_count": 22,
   "id": "9a2129c9-e971-42c3-a275-b1455ae33d47",
   "metadata": {},
   "outputs": [
    {
     "data": {
      "text/plain": [
       "'A'"
      ]
     },
     "execution_count": 22,
     "metadata": {},
     "output_type": "execute_result"
    }
   ],
   "source": [
    "student.get(\"grade\",\"Unknown key defined\")"
   ]
  },
  {
   "cell_type": "code",
   "execution_count": 26,
   "id": "95acd086-4586-432f-ad77-d52bf6eba253",
   "metadata": {},
   "outputs": [
    {
     "name": "stdout",
     "output_type": "stream",
     "text": [
      "{'name': 'Bob', 'age': 25, 'grade': 'A', 'location': 'Mumbai'}\n"
     ]
    }
   ],
   "source": [
    "# modifying\n",
    "\n",
    "student[\"location\"] = \"Mumbai\"\n",
    "print(student)"
   ]
  },
  {
   "cell_type": "code",
   "execution_count": 27,
   "id": "1e1911e2-4ff1-4115-85cc-6b27b08a89b1",
   "metadata": {},
   "outputs": [
    {
     "name": "stdout",
     "output_type": "stream",
     "text": [
      "{'name': 'Bob', 'age': 25, 'grade': 'A', 'location': 'Mumbai'}\n"
     ]
    }
   ],
   "source": [
    "print(student)"
   ]
  },
  {
   "cell_type": "code",
   "execution_count": null,
   "id": "ab07f154-0cc6-4005-b803-6fc25d096685",
   "metadata": {},
   "outputs": [],
   "source": [
    "del student[\"grade\"]\n",
    "del student"
   ]
  },
  {
   "cell_type": "code",
   "execution_count": 31,
   "id": "8f4988e8-4483-41e5-a858-b1e2bf444b7d",
   "metadata": {},
   "outputs": [
    {
     "name": "stdout",
     "output_type": "stream",
     "text": [
      "dict_keys(['name', 'age', 'grade', 'location'])\n",
      "dict_values(['Bob', 25, 'A', 'Mumbai'])\n",
      "dict_items([('name', 'Bob'), ('age', 25), ('grade', 'A'), ('location', 'Mumbai')])\n",
      "Mumbai\n"
     ]
    }
   ],
   "source": [
    "# dict methods\n",
    "student = {'name': 'Bob', 'age': 25, 'grade': 'A', 'location': 'Mumbai'}\n",
    "\n",
    "print(student.keys())\n",
    "print(student.values())\n",
    "print(student.items())\n",
    "print(student.pop(\"location\"))"
   ]
  },
  {
   "cell_type": "code",
   "execution_count": 32,
   "id": "82a16249-724b-4087-b568-e64e733f3c62",
   "metadata": {},
   "outputs": [
    {
     "data": {
      "text/plain": [
       "{'name': 'Bob', 'age': 25, 'grade': 'A'}"
      ]
     },
     "execution_count": 32,
     "metadata": {},
     "output_type": "execute_result"
    }
   ],
   "source": [
    "student"
   ]
  },
  {
   "cell_type": "code",
   "execution_count": null,
   "id": "f50dfd1c-8e8b-4cea-866b-75a6216ca461",
   "metadata": {},
   "outputs": [],
   "source": [
    "# []---->list\n",
    "# ()-----> tuple\n",
    "# {} ---> dict curly bracket\n",
    "\n",
    "student[]\n",
    "student.get() # function\n",
    "print() ---> "
   ]
  },
  {
   "cell_type": "code",
   "execution_count": 34,
   "id": "0cd73893-9257-46a4-a8c0-1d9e748ce0e8",
   "metadata": {},
   "outputs": [
    {
     "data": {
      "text/plain": [
       "True"
      ]
     },
     "execution_count": 34,
     "metadata": {},
     "output_type": "execute_result"
    }
   ],
   "source": [
    "# Membership \n",
    "\"name\" in student # "
   ]
  },
  {
   "cell_type": "code",
   "execution_count": 35,
   "id": "e59862cc-024c-4fd8-a545-9354ba9b48de",
   "metadata": {},
   "outputs": [
    {
     "data": {
      "text/plain": [
       "True"
      ]
     },
     "execution_count": 35,
     "metadata": {},
     "output_type": "execute_result"
    }
   ],
   "source": [
    "lst = [1,2,43,4,5,6,6,7]\n",
    "\n",
    "43 in lst"
   ]
  },
  {
   "cell_type": "code",
   "execution_count": 36,
   "id": "1c28ff09-15e5-45e5-8446-8e4bf94dabdd",
   "metadata": {},
   "outputs": [
    {
     "data": {
      "text/plain": [
       "False"
      ]
     },
     "execution_count": 36,
     "metadata": {},
     "output_type": "execute_result"
    }
   ],
   "source": [
    "\"name\" not in student # "
   ]
  },
  {
   "cell_type": "code",
   "execution_count": 37,
   "id": "980e9bd5-5214-4502-8509-6f3a209152e1",
   "metadata": {},
   "outputs": [
    {
     "data": {
      "text/plain": [
       "{'name': 'Bob', 'age': 25, 'grade': 'A'}"
      ]
     },
     "execution_count": 37,
     "metadata": {},
     "output_type": "execute_result"
    }
   ],
   "source": [
    "student"
   ]
  },
  {
   "cell_type": "code",
   "execution_count": 38,
   "id": "b5142688-3b37-4027-b61e-013e802788bf",
   "metadata": {},
   "outputs": [
    {
     "data": {
      "text/plain": [
       "'A'"
      ]
     },
     "execution_count": 38,
     "metadata": {},
     "output_type": "execute_result"
    }
   ],
   "source": [
    "student[\"grade\"]"
   ]
  },
  {
   "cell_type": "code",
   "execution_count": 39,
   "id": "312aedcb-6caa-4b82-84ad-e631abbcaada",
   "metadata": {},
   "outputs": [
    {
     "data": {
      "text/plain": [
       "'A'"
      ]
     },
     "execution_count": 39,
     "metadata": {},
     "output_type": "execute_result"
    }
   ],
   "source": [
    "student.get(\"grade\")"
   ]
  },
  {
   "cell_type": "markdown",
   "id": "4bcf3731-7d9a-4dea-a9e3-7b188138d5c4",
   "metadata": {},
   "source": [
    "# Sets"
   ]
  },
  {
   "cell_type": "code",
   "execution_count": null,
   "id": "d963a669-4175-495e-82d5-7000c0a78edc",
   "metadata": {},
   "outputs": [],
   "source": [
    "1.  set is denoted by {} \n",
    "\n",
    "2- Set is mutable\n",
    "\n",
    "3- there is no key and values associated, only value will be there.\n",
    "\n",
    "4- No duplicate value allowed\n",
    "\n",
    "5- no follow the specific order"
   ]
  },
  {
   "cell_type": "code",
   "execution_count": 43,
   "id": "37aaa071-923c-4e34-a5a6-812eea350102",
   "metadata": {},
   "outputs": [
    {
     "name": "stdout",
     "output_type": "stream",
     "text": [
      "{1}\n"
     ]
    }
   ],
   "source": [
    "s = set()\n",
    "print(s)"
   ]
  },
  {
   "cell_type": "code",
   "execution_count": 41,
   "id": "3404bbf3-768d-44fe-b0e2-187424a784a9",
   "metadata": {},
   "outputs": [
    {
     "data": {
      "text/plain": [
       "set"
      ]
     },
     "execution_count": 41,
     "metadata": {},
     "output_type": "execute_result"
    }
   ],
   "source": [
    "s1  = {1}\n",
    "type(s1)"
   ]
  },
  {
   "cell_type": "code",
   "execution_count": 44,
   "id": "cca3474f-2a02-43cb-b4cb-3d7484daf916",
   "metadata": {},
   "outputs": [
    {
     "name": "stdout",
     "output_type": "stream",
     "text": [
      "{1, 3, 4, 5, 24}\n"
     ]
    }
   ],
   "source": [
    "numbers = set([1,24,3,4,5,5])\n",
    "print(numbers)"
   ]
  },
  {
   "cell_type": "code",
   "execution_count": 45,
   "id": "b7e236de-fa2c-4f22-b5f8-9f5ba8e77e61",
   "metadata": {},
   "outputs": [
    {
     "name": "stdout",
     "output_type": "stream",
     "text": [
      "{1, 3, 4, 5, 24}\n"
     ]
    }
   ],
   "source": [
    "numbers = {1,24,3,4,5,5}\n",
    "print(numbers)"
   ]
  },
  {
   "cell_type": "code",
   "execution_count": 47,
   "id": "f45d442d-5479-4741-81c3-0896929949e7",
   "metadata": {},
   "outputs": [
    {
     "name": "stdout",
     "output_type": "stream",
     "text": [
      "{'Hello'}\n"
     ]
    }
   ],
   "source": [
    "values = set(\"Hello\")\n",
    "print(values)"
   ]
  },
  {
   "cell_type": "code",
   "execution_count": 51,
   "id": "33553304-2393-4a18-9da7-b8619f5c4dcb",
   "metadata": {},
   "outputs": [
    {
     "name": "stdout",
     "output_type": "stream",
     "text": [
      "1\n",
      "3\n",
      "4\n",
      "5\n",
      "24\n"
     ]
    }
   ],
   "source": [
    "# set accessing\n",
    "numbers = {1,24,3,4,5,5}\n",
    "for num in numbers:\n",
    "    print(num)"
   ]
  },
  {
   "cell_type": "code",
   "execution_count": 62,
   "id": "20c7823d-007e-42fc-8c37-bf332f27896e",
   "metadata": {},
   "outputs": [
    {
     "data": {
      "text/plain": [
       "{'Zebra', 'dear', 'elephant', 'lion', 'wolf'}"
      ]
     },
     "execution_count": 62,
     "metadata": {},
     "output_type": "execute_result"
    }
   ],
   "source": [
    "# sets operation\n",
    "animal = {\"lion\",\"dear\",\"elephant\",\"wolf\"}\n",
    "animal.add(\"Zebra\")\n",
    "animal"
   ]
  },
  {
   "cell_type": "code",
   "execution_count": 63,
   "id": "85d21308-2950-41e4-ba2f-b3d5361eca9d",
   "metadata": {},
   "outputs": [
    {
     "data": {
      "text/plain": [
       "{'Zebra', 'dear', 'elephant', 'lion', 'wolf'}"
      ]
     },
     "execution_count": 63,
     "metadata": {},
     "output_type": "execute_result"
    }
   ],
   "source": [
    "animal"
   ]
  },
  {
   "cell_type": "code",
   "execution_count": 64,
   "id": "b7d8e9ee-ae78-485c-af2c-de776d06e421",
   "metadata": {},
   "outputs": [],
   "source": [
    "animal.update([\"Zebra\",\"monkey\"])"
   ]
  },
  {
   "cell_type": "code",
   "execution_count": 65,
   "id": "33010135-a15e-49ba-8186-b00c68197f3b",
   "metadata": {},
   "outputs": [
    {
     "data": {
      "text/plain": [
       "{'Zebra', 'dear', 'elephant', 'lion', 'monkey', 'wolf'}"
      ]
     },
     "execution_count": 65,
     "metadata": {},
     "output_type": "execute_result"
    }
   ],
   "source": [
    "animal"
   ]
  },
  {
   "cell_type": "code",
   "execution_count": 66,
   "id": "c5c78fbf-b56a-45ca-9657-b07bca093b87",
   "metadata": {},
   "outputs": [],
   "source": [
    "animal.remove(\"Zebra\")"
   ]
  },
  {
   "cell_type": "code",
   "execution_count": 67,
   "id": "8f4e5354-3611-4097-9ce7-d56857f777a5",
   "metadata": {},
   "outputs": [
    {
     "data": {
      "text/plain": [
       "{'dear', 'elephant', 'lion', 'monkey', 'wolf'}"
      ]
     },
     "execution_count": 67,
     "metadata": {},
     "output_type": "execute_result"
    }
   ],
   "source": [
    "animal"
   ]
  },
  {
   "cell_type": "code",
   "execution_count": 69,
   "id": "fc63da5e-54cd-4d42-afc1-aad35a8dccc0",
   "metadata": {},
   "outputs": [
    {
     "data": {
      "text/plain": [
       "False"
      ]
     },
     "execution_count": 69,
     "metadata": {},
     "output_type": "execute_result"
    }
   ],
   "source": [
    "'dear' not in animal"
   ]
  },
  {
   "cell_type": "code",
   "execution_count": 75,
   "id": "938488ff-212d-48b3-88d0-8776fc812137",
   "metadata": {},
   "outputs": [],
   "source": [
    "set1 = {1,2,3,4}\n",
    "set2 = {2,3,4,5}\n",
    "\n",
    "#union \n",
    "union = set1 | set2\n"
   ]
  },
  {
   "cell_type": "code",
   "execution_count": 76,
   "id": "098f3d15-c399-4d2f-9a8f-8f62ff2c20ab",
   "metadata": {},
   "outputs": [
    {
     "data": {
      "text/plain": [
       "{1, 2, 3, 4, 5}"
      ]
     },
     "execution_count": 76,
     "metadata": {},
     "output_type": "execute_result"
    }
   ],
   "source": [
    "union"
   ]
  },
  {
   "cell_type": "code",
   "execution_count": 77,
   "id": "eb07d170-a5d0-4669-aa65-897d992b8151",
   "metadata": {},
   "outputs": [
    {
     "data": {
      "text/plain": [
       "{2, 3, 4}"
      ]
     },
     "execution_count": 77,
     "metadata": {},
     "output_type": "execute_result"
    }
   ],
   "source": [
    "#union \n",
    "intersection = set1 & set2\n",
    "intersection"
   ]
  },
  {
   "cell_type": "code",
   "execution_count": 79,
   "id": "68f06191-547e-45b4-9e84-004c13a0aeb7",
   "metadata": {},
   "outputs": [
    {
     "data": {
      "text/plain": [
       "{5}"
      ]
     },
     "execution_count": 79,
     "metadata": {},
     "output_type": "execute_result"
    }
   ],
   "source": [
    "#union \n",
    "difference = set2 - set1\n",
    "difference"
   ]
  },
  {
   "cell_type": "code",
   "execution_count": null,
   "id": "b61ee58f-9b93-4e06-9d36-4ad9ec24c8b2",
   "metadata": {},
   "outputs": [],
   "source": []
  }
 ],
 "metadata": {
  "kernelspec": {
   "display_name": "Python 3 (ipykernel)",
   "language": "python",
   "name": "python3"
  },
  "language_info": {
   "codemirror_mode": {
    "name": "ipython",
    "version": 3
   },
   "file_extension": ".py",
   "mimetype": "text/x-python",
   "name": "python",
   "nbconvert_exporter": "python",
   "pygments_lexer": "ipython3",
   "version": "3.13.3"
  }
 },
 "nbformat": 4,
 "nbformat_minor": 5
}
