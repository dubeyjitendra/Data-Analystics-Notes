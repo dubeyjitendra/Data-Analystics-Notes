{
 "cells": [
  {
   "cell_type": "code",
   "execution_count": null,
   "id": "fea02a6d-b7ff-41ab-9858-c01ff5d27820",
   "metadata": {},
   "outputs": [],
   "source": [
    "# Module  -----> module is refer to python file. eg. - main.py, app.py\n",
    "\n",
    "# packages  --- collection of python file its called a package"
   ]
  },
  {
   "cell_type": "code",
   "execution_count": 3,
   "id": "a61f8021-89a9-469c-85bc-697c3d73776b",
   "metadata": {},
   "outputs": [],
   "source": [
    "import encodings"
   ]
  },
  {
   "cell_type": "code",
   "execution_count": null,
   "id": "62d93ec0-18eb-46f2-bca5-8291beccd146",
   "metadata": {},
   "outputs": [],
   "source": []
  }
 ],
 "metadata": {
  "kernelspec": {
   "display_name": "Python 3 (ipykernel)",
   "language": "python",
   "name": "python3"
  },
  "language_info": {
   "codemirror_mode": {
    "name": "ipython",
    "version": 3
   },
   "file_extension": ".py",
   "mimetype": "text/x-python",
   "name": "python",
   "nbconvert_exporter": "python",
   "pygments_lexer": "ipython3",
   "version": "3.13.3"
  }
 },
 "nbformat": 4,
 "nbformat_minor": 5
}
