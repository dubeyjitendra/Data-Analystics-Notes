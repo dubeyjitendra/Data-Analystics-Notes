{
 "cells": [
  {
   "cell_type": "code",
   "execution_count": null,
   "id": "578a0562-24d8-41f3-94c5-98ed9d4cc1c0",
   "metadata": {},
   "outputs": [],
   "source": [
    "String = > String is sequence of characters\n",
    "\n",
    "1- String is immutable\n",
    "2- Indexed start with zero.\n",
    "3- It can be loop through\n",
    "\n",
    "Charat"
   ]
  },
  {
   "cell_type": "code",
   "execution_count": 2,
   "id": "2cde9a51-4cdb-49cb-8c28-0abe93b69366",
   "metadata": {},
   "outputs": [
    {
     "name": "stdout",
     "output_type": "stream",
     "text": [
      "j\n",
      "o\n",
      "h\n",
      "n\n"
     ]
    }
   ],
   "source": [
    "# loop through\n",
    "for i in \"john\":\n",
    "    print(i)"
   ]
  },
  {
   "cell_type": "code",
   "execution_count": null,
   "id": "29c20361-d716-418e-ae4f-0a56a50aacc3",
   "metadata": {},
   "outputs": [],
   "source": [
    "# Characteristics\n",
    "\n",
    "1- String literals : single quote , double quote and triple quotes\n",
    "\n",
    "2- support unicode charaters\n",
    "\n",
    "3- string is usages \"regex\"\n",
    "\n",
    "4- It can also use f-string formatting"
   ]
  },
  {
   "cell_type": "code",
   "execution_count": 10,
   "id": "838be889-3203-4494-b3c0-cc030495ff27",
   "metadata": {},
   "outputs": [
    {
     "name": "stdout",
     "output_type": "stream",
     "text": [
      "amit Jadhav\n",
      "Helllo Helllo Helllo Helllo Helllo \n"
     ]
    }
   ],
   "source": [
    "# string creation\n",
    "\n",
    "name = \"John\"\n",
    "message= 'hello world'\n",
    "mutli_line = \"\"\" This is a\n",
    "                multi string lines\"\"\"\n",
    "\n",
    "\n",
    "# string operations\n",
    "first_name = \"amit\"\n",
    "last_name = \"Jadhav\"\n",
    "\n",
    "full_name = first_name + \" \" + last_name\n",
    "print(full_name)\n",
    "\n",
    "repeat_names = \"Helllo \" * 5 \n",
    "print(repeat_names)"
   ]
  },
  {
   "cell_type": "code",
   "execution_count": 23,
   "id": "13a10ddc-bc59-418a-923f-6993ea085aed",
   "metadata": {},
   "outputs": [
    {
     "name": "stdout",
     "output_type": "stream",
     "text": [
      "P\n",
      "g\n",
      "g\n",
      "n\n",
      "g\n",
      "Pytho\n",
      "tho\n",
      "Python Programmin\n",
      "g\n"
     ]
    },
    {
     "data": {
      "text/plain": [
       "'gnimmargorP nohtyP'"
      ]
     },
     "execution_count": 23,
     "metadata": {},
     "output_type": "execute_result"
    }
   ],
   "source": [
    "# string indexing and slicing\n",
    "\n",
    "text = \"Python Programming\"\n",
    "# indexing is always start with zero\n",
    "print(text[0])\n",
    "print(text[17])\n",
    "print(text[-1])\n",
    "print(text[-2])\n",
    "print(text[-8])\n",
    "\n",
    "## slciing \n",
    "print(text[0:5])\n",
    "print(text[2:5])\n",
    "print(text[:-1])\n",
    "print(text[-1:])\n",
    "\n",
    "# palindrome \n",
    "\n",
    "text[::-1]"
   ]
  },
  {
   "cell_type": "code",
   "execution_count": 44,
   "id": "ddb402cf-c220-4c82-be0d-9ae3910749a0",
   "metadata": {},
   "outputs": [
    {
     "name": "stdout",
     "output_type": "stream",
     "text": [
      "length : 26\n",
      "upper : PYTHON IS AWESOME LANGUAGE\n",
      "lower : python is awesome language\n",
      "capitalize : Python is awesome language\n",
      "title : Python Is Awesome Language\n",
      "split : ['python', 'is', 'awesome', 'language']\n",
      "max : y\n",
      "startwith : True\n",
      "startwith : 7\n"
     ]
    }
   ],
   "source": [
    "# string methods\n",
    "t = \"python is awesome language\"\n",
    "print(f\"length : {len(t)}\")\n",
    "print(f\"upper : {t.upper()}\")\n",
    "print(f\"lower : {t.lower()}\")\n",
    "print(f\"capitalize : {t.capitalize()}\")\n",
    "print(f\"title : {t.title()}\")\n",
    "print(f\"split : {t.split(\" \")}\")\n",
    "print(f\"max : {max(t)}\")\n",
    "print(f\"startwith : {t.startswith(\"py\")}\")\n",
    "print(f\"startwith : {t.find(\"is\")}\")"
   ]
  },
  {
   "cell_type": "code",
   "execution_count": null,
   "id": "8350307a-cf50-4b0e-b88f-0c2a357e2f2a",
   "metadata": {},
   "outputs": [],
   "source": []
  }
 ],
 "metadata": {
  "kernelspec": {
   "display_name": "Python 3 (ipykernel)",
   "language": "python",
   "name": "python3"
  },
  "language_info": {
   "codemirror_mode": {
    "name": "ipython",
    "version": 3
   },
   "file_extension": ".py",
   "mimetype": "text/x-python",
   "name": "python",
   "nbconvert_exporter": "python",
   "pygments_lexer": "ipython3",
   "version": "3.13.3"
  }
 },
 "nbformat": 4,
 "nbformat_minor": 5
}
