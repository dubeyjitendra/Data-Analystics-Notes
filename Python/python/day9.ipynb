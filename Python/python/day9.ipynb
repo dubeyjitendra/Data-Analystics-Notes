{
 "cells": [
  {
   "cell_type": "code",
   "execution_count": null,
   "id": "a0ba015e-eda8-45de-8627-0692af008383",
   "metadata": {},
   "outputs": [],
   "source": [
    "# Transfer statement \n",
    "\n",
    "1- break\n",
    "\n",
    "2- pass\n",
    "\n",
    "3- continue\n"
   ]
  },
  {
   "cell_type": "code",
   "execution_count": 2,
   "id": "fbce356e-9b02-4c75-83b1-84110c66f652",
   "metadata": {},
   "outputs": [
    {
     "name": "stdout",
     "output_type": "stream",
     "text": [
      "1\n",
      "2\n",
      "4\n",
      "4\n"
     ]
    }
   ],
   "source": [
    "numbers = [1,2,4,4,5,6,7,8]\n",
    "\n",
    "for num in numbers:\n",
    "    if num == 5:\n",
    "        break\n",
    "    print(num)\n",
    "    "
   ]
  },
  {
   "cell_type": "code",
   "execution_count": 3,
   "id": "264883be-772d-4c2d-9b07-91b94c9c3b3a",
   "metadata": {},
   "outputs": [
    {
     "name": "stdout",
     "output_type": "stream",
     "text": [
      "1\n"
     ]
    }
   ],
   "source": [
    "i = 0\n",
    "while i < 10:\n",
    "    i = i +  1  -> assignment operator\n",
    "    print(i)\n",
    "    break\n",
    "    "
   ]
  },
  {
   "cell_type": "code",
   "execution_count": 6,
   "id": "176dc100-d052-4789-ae5f-a22756d452bb",
   "metadata": {},
   "outputs": [
    {
     "name": "stdout",
     "output_type": "stream",
     "text": [
      "0\n",
      "1\n",
      "2\n",
      "3\n",
      "4\n",
      "Pause and restart\n",
      "6\n",
      "7\n",
      "8\n",
      "9\n"
     ]
    }
   ],
   "source": [
    "# continue\n",
    "\n",
    "for i in range(10):\n",
    "    if i  == 5:\n",
    "        print(\"Pause and restart\")\n",
    "        continue\n",
    "    print(i)\n"
   ]
  },
  {
   "cell_type": "code",
   "execution_count": 7,
   "id": "04b47cc4-c475-4d34-b3a7-94788cf485c6",
   "metadata": {},
   "outputs": [],
   "source": [
    "# pass\n",
    "name = \"John\"\n",
    "if name == \"John\":\n",
    "    pass\n",
    "\n",
    "for i in range(10):\n",
    "    pass\n",
    "\n",
    "i = 0\n",
    "while i < 10:\n",
    "    pass\n",
    "\n",
    "def add():\n",
    "    pass\n",
    "    "
   ]
  },
  {
   "cell_type": "markdown",
   "id": "04190218-94c3-4b9e-9b7e-e8a871dc2455",
   "metadata": {},
   "source": [
    "# Operator"
   ]
  },
  {
   "cell_type": "code",
   "execution_count": null,
   "id": "560c06a6-88d6-4cbc-af71-eee1647ed237",
   "metadata": {},
   "outputs": [],
   "source": [
    "Python Operator are  special symbols or keywords that perform on one or more operands(variables, values or expressions)\n",
    "\n",
    "\n",
    "Types:\n",
    "\n",
    "1- Arithematic Operator --> Perform the mathematical calculations( +, - ,/ ,*, //,%,**)\n",
    "\n",
    "2- Comparison Operator -- compare values and return boolean values ( ==, !=,<,>,<=,>=)\n",
    "\n",
    "3- Assignment operator  - --> assign value to the variable( =, +=, -=)\n",
    "\n",
    "4- logical operator   ---> Combine or modify boolean expression (and, or, not)\n",
    "\n",
    "5- Bitwise Operator  --- > bits of integer (| ,&,^)\n",
    "\n",
    "6- Membership Operator --> check for presence within a sequence( in , not in)\n",
    "\n",
    "7- identity Operator  --> Compare object memory address( is ,is not)"
   ]
  },
  {
   "cell_type": "markdown",
   "id": "a6d08f0e-8d43-4074-b9aa-e9cdb6eb5e24",
   "metadata": {},
   "source": [
    "# Arithematic Operator"
   ]
  },
  {
   "cell_type": "code",
   "execution_count": 15,
   "id": "49087ef5-6cc6-48b8-a7a1-8f60ed185047",
   "metadata": {},
   "outputs": [
    {
     "name": "stdout",
     "output_type": "stream",
     "text": [
      "15\n",
      "5\n",
      "2.0\n",
      "50\n",
      "0\n",
      "2\n",
      "100000\n"
     ]
    }
   ],
   "source": [
    "x =  10\n",
    "y = 5\n",
    "\n",
    "result  = x  + y\n",
    "print(result)\n",
    "\n",
    "result  = x  - y\n",
    "print(result)\n",
    "\n",
    "result  = x  / y\n",
    "print(result)\n",
    "\n",
    "result  = x  * y\n",
    "print(result)\n",
    "\n",
    "result  = x  % y\n",
    "print(result)\n",
    "\n",
    "result  = x  // y\n",
    "print(result)\n",
    "\n",
    "result  = x  ** y\n",
    "print(result)"
   ]
  },
  {
   "cell_type": "markdown",
   "id": "accded46-9206-4a07-ae15-55a0e4a0f064",
   "metadata": {},
   "source": [
    "# Comparison Operator"
   ]
  },
  {
   "cell_type": "code",
   "execution_count": 20,
   "id": "83947958-8b48-45a2-8b29-2b904324e40f",
   "metadata": {},
   "outputs": [
    {
     "name": "stdout",
     "output_type": "stream",
     "text": [
      "Eligible for work\n",
      "same value\n",
      "age is less than 50\n"
     ]
    }
   ],
   "source": [
    "age  = 25\n",
    "\n",
    "if age >= 18:\n",
    "    print(\"Eligible for work\")\n",
    "\n",
    "if age == 25:\n",
    "    print(\"same value\")\n",
    "\n",
    "if age < 50:\n",
    "    print(\"age is less than 50\")\n"
   ]
  },
  {
   "cell_type": "markdown",
   "id": "b6c16e90-6652-4268-9003-3844db88a0ea",
   "metadata": {},
   "source": [
    "# Assignment operator"
   ]
  },
  {
   "cell_type": "code",
   "execution_count": null,
   "id": "a28c602f-c998-44fd-a2b6-262605af0983",
   "metadata": {},
   "outputs": [],
   "source": [
    "count = 0 \n",
    "\n",
    "count = count + 1 # 1\n",
    "\n",
    "count += 1  # 2---> count = count + 1\n",
    "\n",
    "count -=1 ---> count = count -1\n"
   ]
  },
  {
   "cell_type": "markdown",
   "id": "f3b9d1c9-2e2d-4fbf-9351-c568593119c1",
   "metadata": {},
   "source": [
    "#  logical operator"
   ]
  },
  {
   "cell_type": "code",
   "execution_count": 22,
   "id": "da0f16c2-994c-419d-b9fa-37da7799628f",
   "metadata": {},
   "outputs": [
    {
     "name": "stdout",
     "output_type": "stream",
     "text": [
      "They have to work\n",
      "They have to work\n"
     ]
    }
   ],
   "source": [
    "age = 25\n",
    "if age >=18 and age <=60:\n",
    "    print(\"They have to work\")\n",
    "\n",
    "\n",
    "if age >=18 or age <=60:\n",
    "    print(\"They have to work\")"
   ]
  },
  {
   "cell_type": "markdown",
   "id": "7d329144-0591-40e9-b4ce-4f29bb00e54a",
   "metadata": {},
   "source": [
    "#  Bitwise Operator"
   ]
  },
  {
   "cell_type": "code",
   "execution_count": 32,
   "id": "a112c0a0-a630-493f-95d0-80fc9fca54bf",
   "metadata": {},
   "outputs": [
    {
     "data": {
      "text/plain": [
       "2"
      ]
     },
     "execution_count": 32,
     "metadata": {},
     "output_type": "execute_result"
    }
   ],
   "source": [
    "2 & 3"
   ]
  },
  {
   "cell_type": "code",
   "execution_count": 27,
   "id": "2ad8b28e-bc93-4274-b459-b58a017c19f0",
   "metadata": {},
   "outputs": [
    {
     "data": {
      "text/plain": [
       "4"
      ]
     },
     "execution_count": 27,
     "metadata": {},
     "output_type": "execute_result"
    }
   ],
   "source": [
    "4 & 5"
   ]
  },
  {
   "cell_type": "code",
   "execution_count": 28,
   "id": "1ed6a94f-02de-42d3-8949-bd9833ede839",
   "metadata": {},
   "outputs": [
    {
     "data": {
      "text/plain": [
       "3"
      ]
     },
     "execution_count": 28,
     "metadata": {},
     "output_type": "execute_result"
    }
   ],
   "source": [
    "2 | 3"
   ]
  },
  {
   "cell_type": "code",
   "execution_count": 29,
   "id": "776680c9-445c-4beb-ba87-70927ccb42f1",
   "metadata": {},
   "outputs": [
    {
     "data": {
      "text/plain": [
       "2"
      ]
     },
     "execution_count": 29,
     "metadata": {},
     "output_type": "execute_result"
    }
   ],
   "source": [
    "2 | 2"
   ]
  },
  {
   "cell_type": "code",
   "execution_count": 33,
   "id": "eefc59da-2c40-4c87-9194-8fb844cd1665",
   "metadata": {},
   "outputs": [],
   "source": [
    "x = 2\n",
    "y = 3"
   ]
  },
  {
   "cell_type": "code",
   "execution_count": 35,
   "id": "13f5d73c-645c-44e4-a5ac-1cf9e5b9c9dc",
   "metadata": {},
   "outputs": [
    {
     "data": {
      "text/plain": [
       "2"
      ]
     },
     "execution_count": 35,
     "metadata": {},
     "output_type": "execute_result"
    }
   ],
   "source": [
    "x & y"
   ]
  },
  {
   "cell_type": "code",
   "execution_count": 38,
   "id": "26dde9b2-05a7-4d9e-ab50-846eda9948f5",
   "metadata": {},
   "outputs": [
    {
     "data": {
      "text/plain": [
       "'0b1001'"
      ]
     },
     "execution_count": 38,
     "metadata": {},
     "output_type": "execute_result"
    }
   ],
   "source": [
    "bin(9)"
   ]
  },
  {
   "cell_type": "markdown",
   "id": "9c4caa96-cf9c-4067-b867-b83d537b3cb5",
   "metadata": {},
   "source": [
    "# Membership Operator"
   ]
  },
  {
   "cell_type": "code",
   "execution_count": 45,
   "id": "0399e153-961b-479c-994f-96c7d5964058",
   "metadata": {},
   "outputs": [
    {
     "name": "stdout",
     "output_type": "stream",
     "text": [
      "1\n",
      "2\n",
      "3\n",
      "No\n",
      "Yes\n"
     ]
    }
   ],
   "source": [
    "#in , not in \n",
    "\n",
    "lst = [1,2,3]\n",
    "\n",
    "for i in lst:\n",
    "    print(i)\n",
    "\n",
    "if 21 in lst:\n",
    "    print(\"Yes\")\n",
    "else:\n",
    "    print(\"No\")\n",
    "\n",
    "if 21 not in lst:\n",
    "    print(\"Yes\")\n",
    "else:\n",
    "    print(\"No\")"
   ]
  },
  {
   "cell_type": "markdown",
   "id": "489c9e68-3245-4502-939e-36edacf933fc",
   "metadata": {},
   "source": [
    "# identity Operator"
   ]
  },
  {
   "cell_type": "code",
   "execution_count": 52,
   "id": "7868e0cb-487a-41bc-8e7a-339fa4213e2e",
   "metadata": {},
   "outputs": [
    {
     "name": "stdout",
     "output_type": "stream",
     "text": [
      "age is 2 year\n"
     ]
    },
    {
     "name": "stderr",
     "output_type": "stream",
     "text": [
      "<>:9: SyntaxWarning: \"is\" with 'int' literal. Did you mean \"==\"?\n",
      "<>:9: SyntaxWarning: \"is\" with 'int' literal. Did you mean \"==\"?\n",
      "C:\\Users\\jitud\\AppData\\Local\\Temp\\ipykernel_15080\\2348820079.py:9: SyntaxWarning: \"is\" with 'int' literal. Did you mean \"==\"?\n",
      "  if age is 20:\n"
     ]
    }
   ],
   "source": [
    "a = 10\n",
    "b = 5\n",
    "\n",
    "a is not b\n",
    "\n",
    "b is a\n",
    "\n",
    "age  = 20\n",
    "if age is 20:\n",
    "    print(\"age is 2 year\")"
   ]
  },
  {
   "cell_type": "markdown",
   "id": "d795a514-7cd5-4417-9214-3bc897188ce3",
   "metadata": {},
   "source": [
    "# convert number to binary"
   ]
  },
  {
   "cell_type": "code",
   "execution_count": 56,
   "id": "8e818179-3823-4d6d-b1a1-3f819b636adb",
   "metadata": {},
   "outputs": [
    {
     "name": "stdout",
     "output_type": "stream",
     "text": [
      "0b10111\n",
      "0b110010\n",
      "0b10110\n"
     ]
    }
   ],
   "source": [
    "print(bin(23))\n",
    "print(bin(50))\n",
    "print(bin(22))"
   ]
  },
  {
   "cell_type": "markdown",
   "id": "4c850adc-12f5-4082-9216-97d55908ff20",
   "metadata": {},
   "source": [
    "# convert binary to number\n"
   ]
  },
  {
   "cell_type": "code",
   "execution_count": 59,
   "id": "5a8c8c8f-9cc1-4aec-a9c4-8b3315ad0ec7",
   "metadata": {},
   "outputs": [
    {
     "name": "stdout",
     "output_type": "stream",
     "text": [
      "23\n",
      "50\n",
      "22\n"
     ]
    }
   ],
   "source": [
    "print(0b10111)\n",
    "print(0b110010)\n",
    "print(0b10110)"
   ]
  },
  {
   "cell_type": "code",
   "execution_count": 63,
   "id": "28a063c6-f6d5-4fa3-8ae5-e6d4854ecd5a",
   "metadata": {},
   "outputs": [
    {
     "data": {
      "text/plain": [
       "'0o6'"
      ]
     },
     "execution_count": 63,
     "metadata": {},
     "output_type": "execute_result"
    }
   ],
   "source": [
    "#number to hexa\n",
    "\n",
    "hex(8)\n",
    "oct(6)"
   ]
  },
  {
   "cell_type": "code",
   "execution_count": null,
   "id": "95bd4a2a-dbf5-40e0-a187-f0578ca42889",
   "metadata": {},
   "outputs": [],
   "source": []
  }
 ],
 "metadata": {
  "kernelspec": {
   "display_name": "Python 3 (ipykernel)",
   "language": "python",
   "name": "python3"
  },
  "language_info": {
   "codemirror_mode": {
    "name": "ipython",
    "version": 3
   },
   "file_extension": ".py",
   "mimetype": "text/x-python",
   "name": "python",
   "nbconvert_exporter": "python",
   "pygments_lexer": "ipython3",
   "version": "3.13.3"
  }
 },
 "nbformat": 4,
 "nbformat_minor": 5
}
