{
 "cells": [
  {
   "cell_type": "code",
   "execution_count": null,
   "id": "2c6e21e1-351f-4b54-9484-1b644ef4a14b",
   "metadata": {},
   "outputs": [],
   "source": [
    "Object --> Object is an Instance of a class."
   ]
  },
  {
   "cell_type": "code",
   "execution_count": 8,
   "id": "90121845-ae59-452e-862c-4c816ddbd3c4",
   "metadata": {},
   "outputs": [
    {
     "name": "stdout",
     "output_type": "stream",
     "text": [
      "black\n",
      "Lion makes a sound\n",
      "100\n",
      "black\n"
     ]
    }
   ],
   "source": [
    "class Animal:\n",
    "    # class Attribute(all instance can access) \n",
    "    color = \"black\"\n",
    "\n",
    "    # constructor \n",
    "    def __init__(self, name):\n",
    "        # instances attribute\n",
    "        self.name = name\n",
    "\n",
    "    def make_sound(self):\n",
    "        return f\"{self.name} makes a sound\"\n",
    "\n",
    "    def get_animal_count(self):\n",
    "        count = 100\n",
    "        return count\n",
    "\n",
    "    @classmethod\n",
    "    def get_color(cls):\n",
    "        return cls.color\n",
    "        \n",
    "\n",
    "animal_obj = Animal(\"Lion\")\n",
    "print(animal_obj.color)\n",
    "print(animal_obj.make_sound())\n",
    "print(animal_obj.get_animal_count())\n",
    "print(Animal.get_color())"
   ]
  },
  {
   "cell_type": "code",
   "execution_count": null,
   "id": "789cf750-1eb5-49fd-9b2d-6331e7329948",
   "metadata": {},
   "outputs": [],
   "source": [
    "implicit ---> a program is handle internally \n",
    "explicit ---> a instruction is handle by externally"
   ]
  },
  {
   "cell_type": "code",
   "execution_count": null,
   "id": "d855397b-1eec-472c-9c35-081658a8e8fe",
   "metadata": {},
   "outputs": [],
   "source": [
    "# exercise \n",
    "\n",
    "#write a five program using as object of the class"
   ]
  },
  {
   "cell_type": "markdown",
   "id": "07e66b86-b28b-42bf-bd20-a73e3e75c443",
   "metadata": {},
   "source": [
    "# Inheritance"
   ]
  },
  {
   "cell_type": "markdown",
   "id": "da6cf022-9656-43ad-8727-3c2ff0725a38",
   "metadata": {},
   "source": [
    "##### Definition\n",
    "The Process of inherting the property of parent to child class is called the Inheritance\n"
   ]
  },
  {
   "cell_type": "markdown",
   "id": "4b112e90-6f03-426f-a784-ef7026b2ca4f",
   "metadata": {},
   "source": [
    "# Type of Inheritance"
   ]
  },
  {
   "cell_type": "code",
   "execution_count": null,
   "id": "2c91e49f-0c19-4d33-9256-335d664fb878",
   "metadata": {},
   "outputs": [],
   "source": [
    "# Single Inheritance\n",
    "# Multiple Inheritance\n",
    "# Multi-level Inheritance\n",
    "# Hierarchical Inheritance\n",
    "# Hybrid Inheritance"
   ]
  },
  {
   "cell_type": "markdown",
   "id": "45773cd1-98dc-4220-be7f-907dbd4e1f35",
   "metadata": {},
   "source": [
    "##### Single Inheritance"
   ]
  },
  {
   "cell_type": "code",
   "execution_count": 21,
   "id": "d0230a60-b31b-48e1-a194-42e303fe1695",
   "metadata": {},
   "outputs": [
    {
     "name": "stdout",
     "output_type": "stream",
     "text": [
      "{'name': 'Rex', 'age': 3}\n",
      "Rex fetch all ball\n",
      "Rex makes a sound\n",
      "black\n",
      "black\n"
     ]
    }
   ],
   "source": [
    "class Dog(Animal):\n",
    "\n",
    "    def __init__(self,name, age):\n",
    "        super().__init__(name) # call parent constructor\n",
    "        self.age = age\n",
    "\n",
    "    def fetch(self):\n",
    "        return f\"{self.name} fetch all ball\"\n",
    "\n",
    "\n",
    "my_dog = Dog(\"Rex\",3)\n",
    "print(my_dog.__dict__) # magic method\n",
    "print(my_dog.__) # magic functions\n",
    "print(my_dog.fetch())\n",
    "print(my_dog.make_sound())\n",
    "print(my_dog.color)\n"
   ]
  },
  {
   "cell_type": "code",
   "execution_count": 23,
   "id": "87c068aa-733f-45ff-ab3c-556e2207982f",
   "metadata": {},
   "outputs": [
    {
     "name": "stdout",
     "output_type": "stream",
     "text": [
      "I can fly\n",
      "I can swim\n",
      "I can swim and fly\n"
     ]
    }
   ],
   "source": [
    "# Multiple Inheritance\n",
    "\n",
    "class Fly:\n",
    "    def fly(self):\n",
    "        return f\"I can fly\"\n",
    "\n",
    "class Swim:\n",
    "    def swim(self):\n",
    "        return f\"I can swim\"\n",
    "\n",
    "class Duck(Fly,Swim):\n",
    "    def make_sound(self):\n",
    "        return f\"I can swim and fly\"\n",
    "\n",
    "d = Duck()\n",
    "print(d.fly())\n",
    "print(d.swim())\n",
    "print(d.make_sound())\n",
    "\n"
   ]
  },
  {
   "cell_type": "code",
   "execution_count": 24,
   "id": "fecf2dbe-bc98-443e-a0f1-ac4a73e6d9d9",
   "metadata": {},
   "outputs": [
    {
     "name": "stdout",
     "output_type": "stream",
     "text": [
      "I can fly\n",
      "I can swim\n",
      "I can swim and fly\n"
     ]
    }
   ],
   "source": [
    "# Multi-level Inheritance\n",
    "\n",
    "class Fly:\n",
    "    def fly(self):\n",
    "        return f\"I can fly\"\n",
    "\n",
    "class Swim(Fly):\n",
    "    def swim(self):\n",
    "        return f\"I can swim\"\n",
    "\n",
    "class Duck(Swim):\n",
    "    def make_sound(self):\n",
    "        return f\"I can swim and fly\"\n",
    "\n",
    "d1 = Duck()\n",
    "print(d1.fly())\n",
    "print(d1.swim())\n",
    "print(d1.make_sound())\n"
   ]
  },
  {
   "cell_type": "code",
   "execution_count": 26,
   "id": "883a5957-2219-44d7-af60-2ed87cdbfe07",
   "metadata": {},
   "outputs": [
    {
     "name": "stdout",
     "output_type": "stream",
     "text": [
      "I can fly\n",
      "I can swim and fly\n"
     ]
    }
   ],
   "source": [
    "# Hierarchical Inheritance\n",
    "\n",
    "class Fly:\n",
    "    def fly(self):\n",
    "        return f\"I can fly\"\n",
    "\n",
    "class Swim(Fly):\n",
    "    def swim(self):\n",
    "        return f\"I can swim\"\n",
    "\n",
    "class Duck(Fly):\n",
    "    def make_sound(self):\n",
    "        return f\"I can swim and fly\"\n",
    "\n",
    "d1 = Duck()\n",
    "print(d1.fly())\n",
    "print(d1.make_sound())\n"
   ]
  },
  {
   "cell_type": "code",
   "execution_count": 37,
   "id": "433ee493-e242-4831-a137-f6d736fc8898",
   "metadata": {},
   "outputs": [
    {
     "name": "stdout",
     "output_type": "stream",
     "text": [
      "I can fly\n",
      "I can swim and fly\n",
      "I can swim and fly\n"
     ]
    }
   ],
   "source": [
    "# Hybrid Inheritance\n",
    "\n",
    "class Fly:\n",
    "    def fly(self):\n",
    "        return f\"I can fly\"\n",
    "\n",
    "class Swim(Fly):\n",
    "    def swim(self):\n",
    "        return f\"I can swim\"\n",
    "\n",
    "class Duck(Swim,Fly):\n",
    "    def make_sound(self):\n",
    "        return f\"I can swim and fly\"\n",
    "\n",
    "class Bird(Swim):\n",
    "    def jump(self):\n",
    "        return f\"I can jumpy\"\n",
    "\n",
    "d2 = Duck()\n",
    "print(d2.fly())\n",
    "print(d2.make_sound())\n",
    "print(d2.make_sound())"
   ]
  },
  {
   "cell_type": "code",
   "execution_count": null,
   "id": "fd202aaa-16cb-4265-9648-ce21b7e92670",
   "metadata": {},
   "outputs": [],
   "source": [
    "# MRO"
   ]
  }
 ],
 "metadata": {
  "kernelspec": {
   "display_name": "Python 3 (ipykernel)",
   "language": "python",
   "name": "python3"
  },
  "language_info": {
   "codemirror_mode": {
    "name": "ipython",
    "version": 3
   },
   "file_extension": ".py",
   "mimetype": "text/x-python",
   "name": "python",
   "nbconvert_exporter": "python",
   "pygments_lexer": "ipython3",
   "version": "3.13.3"
  }
 },
 "nbformat": 4,
 "nbformat_minor": 5
}
