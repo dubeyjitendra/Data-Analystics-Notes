{
 "cells": [
  {
   "cell_type": "code",
   "execution_count": null,
   "id": "83f8be5c-e30f-4c70-a2ac-a9a555239fff",
   "metadata": {},
   "outputs": [],
   "source": [
    "OOPs- Object Oriented Programming language\n",
    "\n",
    "object---basis \n",
    "\n",
    "class\n",
    "object\n",
    "inheritance\n",
    "polymorphism\n",
    "encapsulation"
   ]
  },
  {
   "cell_type": "code",
   "execution_count": null,
   "id": "ee90d747-b0bd-4680-ac43-e4d0897d54c0",
   "metadata": {},
   "outputs": [],
   "source": [
    "# Class\n",
    "\n",
    "a class serves as a bluprint or template for creating objects.\n",
    "\n",
    "    Definition:\n",
    "    - class is the blueprint of the object\n",
    "    - class is the tempate for creating the objects\n",
    "\n",
    "    attribute ---> human, car, color,size,\n",
    "    behavior ---> "
   ]
  },
  {
   "cell_type": "code",
   "execution_count": 6,
   "id": "1e81fd22-c6c5-4c28-9b30-5f40f80650d7",
   "metadata": {},
   "outputs": [
    {
     "name": "stdout",
     "output_type": "stream",
     "text": [
      "german familiaris\n",
      "30\n",
      "barking\n",
      "I can run\n"
     ]
    }
   ],
   "source": [
    "class Dog:\n",
    "    # class attributes\n",
    "    species = \"german familiaris\"\n",
    "    color = \"dark black\"\n",
    "    size = 30\n",
    "\n",
    "    # constructor\n",
    "    def __init__(self,name,age):\n",
    "        # instance attributes\n",
    "        self.name = name\n",
    "        self.age = age\n",
    "\n",
    "    # behaviors\n",
    "    def bark(self):\n",
    "        z = 5+ 10 # local variable\n",
    "        return \"barking\"\n",
    "\n",
    "    def running(self):\n",
    "        return \"I can run\"\n",
    "\n",
    "\n",
    "# creating the objects of the class(Dog)\n",
    "\n",
    "my_dog = Dog(\"Budy\",3) \n",
    "print(my_dog.species)\n",
    "print(my_dog.size)\n",
    "print(my_dog.bark())\n",
    "print(my_dog.running())"
   ]
  },
  {
   "cell_type": "code",
   "execution_count": null,
   "id": "0b404bd5-222a-4d38-b759-4534beee5800",
   "metadata": {},
   "outputs": [],
   "source": [
    "# Questions\n",
    "\n",
    "# create  5 different class using the name of Human,Animal,Snake,Car,Person"
   ]
  }
 ],
 "metadata": {
  "kernelspec": {
   "display_name": "Python 3 (ipykernel)",
   "language": "python",
   "name": "python3"
  },
  "language_info": {
   "codemirror_mode": {
    "name": "ipython",
    "version": 3
   },
   "file_extension": ".py",
   "mimetype": "text/x-python",
   "name": "python",
   "nbconvert_exporter": "python",
   "pygments_lexer": "ipython3",
   "version": "3.13.3"
  }
 },
 "nbformat": 4,
 "nbformat_minor": 5
}
