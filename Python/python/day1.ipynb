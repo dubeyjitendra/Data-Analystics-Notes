{
 "cells": [
  {
   "cell_type": "markdown",
   "id": "b6028ca1-11bd-46e5-990a-1e2372d9f174",
   "metadata": {},
   "source": [
    "Python Installation\n",
    "\n",
    "Editor\n",
    "\n",
    "Python overview/ history\n",
    "\n",
    "Python comments/variables/keyowords"
   ]
  },
  {
   "cell_type": "markdown",
   "id": "81242447-b385-4150-9f0f-26d624fac00b",
   "metadata": {},
   "source": [
    "Timing : 8:30 am to 9:30 am"
   ]
  },
  {
   "cell_type": "code",
   "execution_count": null,
   "id": "1838931c-9c25-4c90-9e56-050b914303b0",
   "metadata": {},
   "outputs": [],
   "source": [
    "# 8879997954"
   ]
  },
  {
   "cell_type": "markdown",
   "id": "422d3f76-d3e9-4a66-90aa-f565d03d038e",
   "metadata": {},
   "source": [
    "Python- Guido van rossum - 1989 -- Feb 1991- 0.9.0"
   ]
  },
  {
   "cell_type": "markdown",
   "id": "c9a1100b-ded6-4006-ae34-7f1797637da7",
   "metadata": {},
   "source": [
    "Jan -19994 - 1.0.0 \n",
    "\n",
    "Oct - 2000 - 2.0.0 - list comprehensions,garge collector and unicode code\n",
    "\n",
    "Dec- 2008 - 3.0.0 "
   ]
  },
  {
   "cell_type": "code",
   "execution_count": 9,
   "id": "f2d32cb3-9e1e-45e7-bc06-0716671ee31f",
   "metadata": {},
   "outputs": [
    {
     "ename": "SyntaxError",
     "evalue": "Missing parentheses in call to 'print'. Did you mean print(...)? (4030627537.py, line 1)",
     "output_type": "error",
     "traceback": [
      "  \u001b[36mCell\u001b[39m\u001b[36m \u001b[39m\u001b[32mIn[9]\u001b[39m\u001b[32m, line 1\u001b[39m\n\u001b[31m    \u001b[39m\u001b[31mprint \"hello world\" # python 2- to many version\u001b[39m\n    ^\n\u001b[31mSyntaxError\u001b[39m\u001b[31m:\u001b[39m Missing parentheses in call to 'print'. Did you mean print(...)?\n"
     ]
    }
   ],
   "source": [
    "print \"hello world\" # python 2- to many version"
   ]
  },
  {
   "cell_type": "code",
   "execution_count": 6,
   "id": "67025d56-e97f-4b88-ad28-42370abcdeb6",
   "metadata": {},
   "outputs": [
    {
     "name": "stdout",
     "output_type": "stream",
     "text": [
      "hello world\n"
     ]
    }
   ],
   "source": [
    "print(\"hello world\")"
   ]
  },
  {
   "cell_type": "markdown",
   "id": "f5d40e53-5187-4b9a-a366-a00383345be3",
   "metadata": {},
   "source": [
    "Python - Python is a high level , interpreted, oops language\n",
    "\n",
    "Python is the general purpose programming language\n",
    "\n",
    "- Simple\n",
    "\n",
    "- easy to learn\n",
    "\n",
    "- interpreted\n",
    "\n",
    "# Key Characteristics\n",
    "\n",
    "\n",
    "    1- interpreted language\n",
    "\n",
    "    2- dynamic typing\n",
    "\n",
    "    3- cross plateform\n",
    "\n",
    "    4- Object -Oriented programming language\n",
    "        \n"
   ]
  },
  {
   "cell_type": "markdown",
   "id": "b6e0dcf1-2b44-47b1-8c76-4e5a1b0bf05c",
   "metadata": {},
   "source": [
    "PyPI - Python Package Index\n",
    "\n",
    "\n",
    "# Installer packages\n",
    "PIP - Python Installer packages\n",
    "\n",
    "Conda\n",
    "\n",
    "UV\n",
    "\n",
    "Poetry"
   ]
  },
  {
   "cell_type": "markdown",
   "id": "be30a322-af7b-4d64-9fe0-89d5bd49c6a3",
   "metadata": {},
   "source": [
    "# Installation"
   ]
  },
  {
   "cell_type": "code",
   "execution_count": null,
   "id": "c3dc1204-ffd2-4365-b7cc-c310c2b9375a",
   "metadata": {},
   "outputs": [],
   "source": [
    "https://bootstrap.pypa.io/get-pip.py\n",
    "https://www.jetbrains.com/pycharm/download/download-thanks.html?platform=windows&code=PCC\n",
    "https://www.python.org/ftp/python/3.10.0/python-3.10.0-amd64.exe"
   ]
  }
 ],
 "metadata": {
  "kernelspec": {
   "display_name": "Python 3 (ipykernel)",
   "language": "python",
   "name": "python3"
  },
  "language_info": {
   "codemirror_mode": {
    "name": "ipython",
    "version": 3
   },
   "file_extension": ".py",
   "mimetype": "text/x-python",
   "name": "python",
   "nbconvert_exporter": "python",
   "pygments_lexer": "ipython3",
   "version": "3.13.3"
  }
 },
 "nbformat": 4,
 "nbformat_minor": 5
}
