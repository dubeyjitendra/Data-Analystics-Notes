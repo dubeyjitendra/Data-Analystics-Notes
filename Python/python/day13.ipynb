{
 "cells": [
  {
   "cell_type": "markdown",
   "id": "1a6eb10b-715b-46df-a204-0fc33c024ab6",
   "metadata": {},
   "source": [
    "# Exception Handling"
   ]
  },
  {
   "cell_type": "code",
   "execution_count": null,
   "id": "59dc90de-a160-4880-bab9-c18fd762fd8d",
   "metadata": {},
   "outputs": [],
   "source": [
    "Exections are events that disrupt the normal flow of python execution.\n",
    "\n"
   ]
  },
  {
   "cell_type": "code",
   "execution_count": 6,
   "id": "8a93ba63-9c1b-43bf-bc10-682d7143afd9",
   "metadata": {},
   "outputs": [
    {
     "name": "stdout",
     "output_type": "stream",
     "text": [
      "Error :  division by zero\n",
      "None\n"
     ]
    }
   ],
   "source": [
    "def main(x, y):\n",
    "    try:\n",
    "        z = x / y\n",
    "        return z\n",
    "    except Exception as e:\n",
    "        print(f\"Error :{e}\")\n",
    "        return None\n",
    "\n",
    "print(main(100,0))\n"
   ]
  },
  {
   "cell_type": "code",
   "execution_count": null,
   "id": "850bead0-cfe1-4e2d-9f14-516231987e81",
   "metadata": {},
   "outputs": [],
   "source": []
  },
  {
   "cell_type": "code",
   "execution_count": null,
   "id": "c469e827-dcf5-40de-8c9d-6066eaf8d84c",
   "metadata": {},
   "outputs": [],
   "source": [
    "# Exceptions/errors\n",
    "\n",
    "    1- synatx error\n",
    "    2- logical error"
   ]
  },
  {
   "cell_type": "code",
   "execution_count": 7,
   "id": "e8928efd-72e4-43d1-b776-c99b3661131c",
   "metadata": {},
   "outputs": [
    {
     "ename": "SyntaxError",
     "evalue": "expected ':' (150094245.py, line 3)",
     "output_type": "error",
     "traceback": [
      "  \u001b[36mCell\u001b[39m\u001b[36m \u001b[39m\u001b[32mIn[7]\u001b[39m\u001b[32m, line 3\u001b[39m\n\u001b[31m    \u001b[39m\u001b[31mfor i in range(10)\u001b[39m\n                      ^\n\u001b[31mSyntaxError\u001b[39m\u001b[31m:\u001b[39m expected ':'\n"
     ]
    }
   ],
   "source": [
    "# 1- synatx error\n",
    "\n",
    "for i in range(10)\n",
    "    print(i)"
   ]
  },
  {
   "cell_type": "code",
   "execution_count": 8,
   "id": "cf48513c-5a3e-4193-834e-ce7aa274e770",
   "metadata": {},
   "outputs": [
    {
     "ename": "SyntaxError",
     "evalue": "expected ':' (3366914128.py, line 1)",
     "output_type": "error",
     "traceback": [
      "  \u001b[36mCell\u001b[39m\u001b[36m \u001b[39m\u001b[32mIn[8]\u001b[39m\u001b[32m, line 1\u001b[39m\n\u001b[31m    \u001b[39m\u001b[31mif a > 3\u001b[39m\n            ^\n\u001b[31mSyntaxError\u001b[39m\u001b[31m:\u001b[39m expected ':'\n"
     ]
    }
   ],
   "source": [
    "if a > 3"
   ]
  },
  {
   "cell_type": "code",
   "execution_count": null,
   "id": "322dc437-f9e3-4ad9-9a5a-0b2b37135540",
   "metadata": {},
   "outputs": [],
   "source": [
    "# Indent error"
   ]
  },
  {
   "cell_type": "code",
   "execution_count": 9,
   "id": "a356cdeb-3772-4dd9-a615-5172783cf7a3",
   "metadata": {},
   "outputs": [
    {
     "ename": "IndentationError",
     "evalue": "expected an indented block after 'for' statement on line 1 (3979827255.py, line 2)",
     "output_type": "error",
     "traceback": [
      "  \u001b[36mCell\u001b[39m\u001b[36m \u001b[39m\u001b[32mIn[9]\u001b[39m\u001b[32m, line 2\u001b[39m\n\u001b[31m    \u001b[39m\u001b[31mprint(i)\u001b[39m\n    ^\n\u001b[31mIndentationError\u001b[39m\u001b[31m:\u001b[39m expected an indented block after 'for' statement on line 1\n"
     ]
    }
   ],
   "source": [
    "for i in range(10):\n",
    "print(i)"
   ]
  },
  {
   "cell_type": "code",
   "execution_count": 19,
   "id": "5023a3b9-2d33-4f8b-8c92-e6a183598b74",
   "metadata": {},
   "outputs": [],
   "source": [
    "# Logical error\n",
    "\n",
    "\n",
    "def cal_average(a,b):\n",
    "    return a + b /2"
   ]
  },
  {
   "cell_type": "code",
   "execution_count": 20,
   "id": "3797a26b-fab0-466d-be58-a99e481e4621",
   "metadata": {},
   "outputs": [
    {
     "data": {
      "text/plain": [
       "10.0"
      ]
     },
     "execution_count": 20,
     "metadata": {},
     "output_type": "execute_result"
    }
   ],
   "source": [
    "cal_average(5,10) # BODMAS --->  BODMAS stands for Brackets, Orders (or Of), Division, Multiplication, Addition, and Subtraction"
   ]
  },
  {
   "cell_type": "code",
   "execution_count": 13,
   "id": "01fcd161-f01d-4c96-8051-cadeb628d849",
   "metadata": {},
   "outputs": [
    {
     "data": {
      "text/plain": [
       "7.5"
      ]
     },
     "execution_count": 13,
     "metadata": {},
     "output_type": "execute_result"
    }
   ],
   "source": [
    "5+ 10\n",
    "15 /2"
   ]
  },
  {
   "cell_type": "code",
   "execution_count": 22,
   "id": "4c9c1ec3-2530-4463-be11-a0b365a0049c",
   "metadata": {},
   "outputs": [
    {
     "ename": "NameError",
     "evalue": "name 'age' is not defined",
     "output_type": "error",
     "traceback": [
      "\u001b[31m---------------------------------------------------------------------------\u001b[39m",
      "\u001b[31mNameError\u001b[39m                                 Traceback (most recent call last)",
      "\u001b[36mCell\u001b[39m\u001b[36m \u001b[39m\u001b[32mIn[22]\u001b[39m\u001b[32m, line 3\u001b[39m\n\u001b[32m      1\u001b[39m \u001b[38;5;66;03m# Built-IN Error\u001b[39;00m\n\u001b[32m----> \u001b[39m\u001b[32m3\u001b[39m \u001b[38;5;28mprint\u001b[39m(\u001b[43mage\u001b[49m)\n",
      "\u001b[31mNameError\u001b[39m: name 'age' is not defined"
     ]
    }
   ],
   "source": [
    "# Built-IN Error\n",
    "\n",
    "print(age)"
   ]
  },
  {
   "cell_type": "code",
   "execution_count": 23,
   "id": "626fcdc4-f949-4fbf-a0b9-baf774bbfbd7",
   "metadata": {},
   "outputs": [
    {
     "ename": "IndexError",
     "evalue": "list index out of range",
     "output_type": "error",
     "traceback": [
      "\u001b[31m---------------------------------------------------------------------------\u001b[39m",
      "\u001b[31mIndexError\u001b[39m                                Traceback (most recent call last)",
      "\u001b[36mCell\u001b[39m\u001b[36m \u001b[39m\u001b[32mIn[23]\u001b[39m\u001b[32m, line 2\u001b[39m\n\u001b[32m      1\u001b[39m lst = [\u001b[32m1\u001b[39m,\u001b[32m2\u001b[39m,\u001b[32m3\u001b[39m,\u001b[32m3\u001b[39m,\u001b[32m4\u001b[39m]\n\u001b[32m----> \u001b[39m\u001b[32m2\u001b[39m \u001b[43mlst\u001b[49m\u001b[43m[\u001b[49m\u001b[32;43m7\u001b[39;49m\u001b[43m]\u001b[49m\n",
      "\u001b[31mIndexError\u001b[39m: list index out of range"
     ]
    }
   ],
   "source": [
    "lst = [1,2,3,3,4]\n",
    "lst[7]"
   ]
  },
  {
   "cell_type": "code",
   "execution_count": 26,
   "id": "b3886106-5efe-4f73-970f-3181b997b479",
   "metadata": {},
   "outputs": [
    {
     "ename": "ModuleNotFoundError",
     "evalue": "No module named 'OS'",
     "output_type": "error",
     "traceback": [
      "\u001b[31m---------------------------------------------------------------------------\u001b[39m",
      "\u001b[31mModuleNotFoundError\u001b[39m                       Traceback (most recent call last)",
      "\u001b[36mCell\u001b[39m\u001b[36m \u001b[39m\u001b[32mIn[26]\u001b[39m\u001b[32m, line 1\u001b[39m\n\u001b[32m----> \u001b[39m\u001b[32m1\u001b[39m \u001b[38;5;28;01mimport\u001b[39;00m\u001b[38;5;250m \u001b[39m\u001b[34;01mOS\u001b[39;00m\n",
      "\u001b[31mModuleNotFoundError\u001b[39m: No module named 'OS'"
     ]
    }
   ],
   "source": [
    "import OS"
   ]
  },
  {
   "cell_type": "code",
   "execution_count": 27,
   "id": "8b3c8939-6551-4c32-9830-9977eff74e21",
   "metadata": {},
   "outputs": [
    {
     "ename": "FileNotFoundError",
     "evalue": "[Errno 2] No such file or directory: 'demo.txt'",
     "output_type": "error",
     "traceback": [
      "\u001b[31m---------------------------------------------------------------------------\u001b[39m",
      "\u001b[31mFileNotFoundError\u001b[39m                         Traceback (most recent call last)",
      "\u001b[36mCell\u001b[39m\u001b[36m \u001b[39m\u001b[32mIn[27]\u001b[39m\u001b[32m, line 1\u001b[39m\n\u001b[32m----> \u001b[39m\u001b[32m1\u001b[39m \u001b[38;5;28;43mopen\u001b[39;49m\u001b[43m(\u001b[49m\u001b[33;43m'\u001b[39;49m\u001b[33;43mdemo.txt\u001b[39;49m\u001b[33;43m'\u001b[39;49m\u001b[43m,\u001b[49m\u001b[33;43m'\u001b[39;49m\u001b[33;43mr\u001b[39;49m\u001b[33;43m'\u001b[39;49m\u001b[43m)\u001b[49m\n",
      "\u001b[36mFile \u001b[39m\u001b[32m~\\AppData\\Local\\Programs\\Python\\Python313\\Lib\\site-packages\\IPython\\core\\interactiveshell.py:326\u001b[39m, in \u001b[36m_modified_open\u001b[39m\u001b[34m(file, *args, **kwargs)\u001b[39m\n\u001b[32m    319\u001b[39m \u001b[38;5;28;01mif\u001b[39;00m file \u001b[38;5;129;01min\u001b[39;00m {\u001b[32m0\u001b[39m, \u001b[32m1\u001b[39m, \u001b[32m2\u001b[39m}:\n\u001b[32m    320\u001b[39m     \u001b[38;5;28;01mraise\u001b[39;00m \u001b[38;5;167;01mValueError\u001b[39;00m(\n\u001b[32m    321\u001b[39m         \u001b[33mf\u001b[39m\u001b[33m\"\u001b[39m\u001b[33mIPython won\u001b[39m\u001b[33m'\u001b[39m\u001b[33mt let you open fd=\u001b[39m\u001b[38;5;132;01m{\u001b[39;00mfile\u001b[38;5;132;01m}\u001b[39;00m\u001b[33m by default \u001b[39m\u001b[33m\"\u001b[39m\n\u001b[32m    322\u001b[39m         \u001b[33m\"\u001b[39m\u001b[33mas it is likely to crash IPython. If you know what you are doing, \u001b[39m\u001b[33m\"\u001b[39m\n\u001b[32m    323\u001b[39m         \u001b[33m\"\u001b[39m\u001b[33myou can use builtins\u001b[39m\u001b[33m'\u001b[39m\u001b[33m open.\u001b[39m\u001b[33m\"\u001b[39m\n\u001b[32m    324\u001b[39m     )\n\u001b[32m--> \u001b[39m\u001b[32m326\u001b[39m \u001b[38;5;28;01mreturn\u001b[39;00m \u001b[43mio_open\u001b[49m\u001b[43m(\u001b[49m\u001b[43mfile\u001b[49m\u001b[43m,\u001b[49m\u001b[43m \u001b[49m\u001b[43m*\u001b[49m\u001b[43margs\u001b[49m\u001b[43m,\u001b[49m\u001b[43m \u001b[49m\u001b[43m*\u001b[49m\u001b[43m*\u001b[49m\u001b[43mkwargs\u001b[49m\u001b[43m)\u001b[49m\n",
      "\u001b[31mFileNotFoundError\u001b[39m: [Errno 2] No such file or directory: 'demo.txt'"
     ]
    }
   ],
   "source": [
    "open('demo.txt','r')"
   ]
  },
  {
   "cell_type": "code",
   "execution_count": 28,
   "id": "00cb1a1d-d8f0-4988-a66d-6b821a0c7796",
   "metadata": {},
   "outputs": [
    {
     "name": "stdout",
     "output_type": "stream",
     "text": [
      "[Errno 2] No such file or directory: 'demo.txt'\n"
     ]
    }
   ],
   "source": [
    "try:\n",
    "    open('demo.txt','r')\n",
    "\n",
    "except Exception as e:\n",
    "    print(e)\n",
    "\n",
    "finally:\n",
    "    pass"
   ]
  },
  {
   "cell_type": "code",
   "execution_count": 31,
   "id": "998829fc-c7d8-498e-aa19-ece49b316e8b",
   "metadata": {},
   "outputs": [
    {
     "name": "stdout",
     "output_type": "stream",
     "text": [
      " unsupported operand type(s) for +: 'int' and 'str'\n",
      "pass\n"
     ]
    }
   ],
   "source": [
    "try:\n",
    "    print(10 + '5')\n",
    "except Exception as e:\n",
    "    print(f\" {e}\")\n",
    "finally:\n",
    "    pass"
   ]
  },
  {
   "cell_type": "code",
   "execution_count": 33,
   "id": "4ff4ee89-3a14-4d57-8fa5-e443a6132e1d",
   "metadata": {},
   "outputs": [],
   "source": [
    "# Custom Exceptions\n",
    "\n",
    "class valueError(Exception):\n",
    "    pass\n",
    "  "
   ]
  },
  {
   "cell_type": "code",
   "execution_count": 35,
   "id": "5be7a82c-c955-4fae-ae38-03fde037cb57",
   "metadata": {},
   "outputs": [
    {
     "name": "stdin",
     "output_type": "stream",
     "text": [
      "Pass the number less than 10  : 3\n"
     ]
    },
    {
     "ename": "valueError",
     "evalue": "Value is too small",
     "output_type": "error",
     "traceback": [
      "\u001b[31m---------------------------------------------------------------------------\u001b[39m",
      "\u001b[31mvalueError\u001b[39m                                Traceback (most recent call last)",
      "\u001b[36mCell\u001b[39m\u001b[36m \u001b[39m\u001b[32mIn[35]\u001b[39m\u001b[32m, line 3\u001b[39m\n\u001b[32m      1\u001b[39m s = \u001b[38;5;28mint\u001b[39m(\u001b[38;5;28minput\u001b[39m(\u001b[33m\"\u001b[39m\u001b[33mPass the number less than 10  :\u001b[39m\u001b[33m\"\u001b[39m ))\n\u001b[32m      2\u001b[39m \u001b[38;5;28;01mif\u001b[39;00m s < \u001b[32m10\u001b[39m:\n\u001b[32m----> \u001b[39m\u001b[32m3\u001b[39m     \u001b[38;5;28;01mraise\u001b[39;00m valueError(\u001b[33m\"\u001b[39m\u001b[33mValue is too small\u001b[39m\u001b[33m\"\u001b[39m)\n",
      "\u001b[31mvalueError\u001b[39m: Value is too small"
     ]
    }
   ],
   "source": [
    "s = int(input(\"Pass the number less than 10  :\" ))\n",
    "if s < 10:\n",
    "    raise valueError(\"Value is too small\")"
   ]
  },
  {
   "cell_type": "code",
   "execution_count": null,
   "id": "09f0f33a-e6b6-42e5-a991-ae3e6de77e3e",
   "metadata": {},
   "outputs": [],
   "source": [
    "# Nested try and except block"
   ]
  },
  {
   "cell_type": "code",
   "execution_count": null,
   "id": "b596dc10-6e8f-4945-9438-cb537b493841",
   "metadata": {},
   "outputs": [],
   "source": [
    "try:\n",
    "    try:\n",
    "        z =  m1 /m2\n",
    "    except Exception as e:\n",
    "        print(e)\n",
    "\n",
    "except execption as e:\n",
    "    print(e)"
   ]
  }
 ],
 "metadata": {
  "kernelspec": {
   "display_name": "Python 3 (ipykernel)",
   "language": "python",
   "name": "python3"
  },
  "language_info": {
   "codemirror_mode": {
    "name": "ipython",
    "version": 3
   },
   "file_extension": ".py",
   "mimetype": "text/x-python",
   "name": "python",
   "nbconvert_exporter": "python",
   "pygments_lexer": "ipython3",
   "version": "3.13.3"
  }
 },
 "nbformat": 4,
 "nbformat_minor": 5
}
