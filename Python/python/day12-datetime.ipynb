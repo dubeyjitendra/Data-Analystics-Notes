{
 "cells": [
  {
   "cell_type": "code",
   "execution_count": 4,
   "id": "f4a7669d-23ce-41b9-80ab-7a7e1c01e70f",
   "metadata": {},
   "outputs": [],
   "source": [
    "from datetime import datetime, date, time, timedelta"
   ]
  },
  {
   "cell_type": "code",
   "execution_count": 3,
   "id": "3602b45e-4625-4832-8f84-8b0b824afec0",
   "metadata": {},
   "outputs": [
    {
     "name": "stdout",
     "output_type": "stream",
     "text": [
      "2025-08-08 08:46:20.768325\n"
     ]
    }
   ],
   "source": [
    "# current datetime\n",
    "\n",
    "print(datetime.datetime.now())"
   ]
  },
  {
   "cell_type": "code",
   "execution_count": 5,
   "id": "e53ca5a4-41c2-4e4b-852c-8ab02710f02c",
   "metadata": {},
   "outputs": [
    {
     "name": "stdout",
     "output_type": "stream",
     "text": [
      "2025-08-08 08:47:03.197959\n"
     ]
    }
   ],
   "source": [
    "print(datetime.now())"
   ]
  },
  {
   "cell_type": "code",
   "execution_count": 6,
   "id": "51691430-b7af-4d81-a550-4b30999b9d77",
   "metadata": {},
   "outputs": [
    {
     "name": "stdout",
     "output_type": "stream",
     "text": [
      "2025-08-08 08:47:13.658087\n"
     ]
    }
   ],
   "source": [
    "print(datetime.today())"
   ]
  },
  {
   "cell_type": "code",
   "execution_count": null,
   "id": "1795b482-1703-4b3f-b325-3c2e52d244b8",
   "metadata": {},
   "outputs": [],
   "source": [
    "date- Year-month-day\n",
    "time- hour-minute-second-microsecond"
   ]
  },
  {
   "cell_type": "code",
   "execution_count": 10,
   "id": "6c780b59-90a1-4866-8d6b-dc8eaba073fc",
   "metadata": {},
   "outputs": [
    {
     "name": "stdout",
     "output_type": "stream",
     "text": [
      "['__add__', '__class__', '__delattr__', '__dir__', '__doc__', '__eq__', '__format__', '__ge__', '__getattribute__', '__getstate__', '__gt__', '__hash__', '__init__', '__init_subclass__', '__le__', '__lt__', '__ne__', '__new__', '__radd__', '__reduce__', '__reduce_ex__', '__replace__', '__repr__', '__rsub__', '__setattr__', '__sizeof__', '__str__', '__sub__', '__subclasshook__', 'astimezone', 'combine', 'ctime', 'date', 'day', 'dst', 'fold', 'fromisocalendar', 'fromisoformat', 'fromordinal', 'fromtimestamp', 'hour', 'isocalendar', 'isoformat', 'isoweekday', 'max', 'microsecond', 'min', 'minute', 'month', 'now', 'replace', 'resolution', 'second', 'strftime', 'strptime', 'time', 'timestamp', 'timetuple', 'timetz', 'today', 'toordinal', 'tzinfo', 'tzname', 'utcfromtimestamp', 'utcnow', 'utcoffset', 'utctimetuple', 'weekday', 'year']\n"
     ]
    }
   ],
   "source": [
    "print(dir(datetime))"
   ]
  },
  {
   "cell_type": "code",
   "execution_count": 11,
   "id": "501b24fc-1c2d-499c-a719-37535dcd3b79",
   "metadata": {},
   "outputs": [],
   "source": [
    "now = datetime.now()"
   ]
  },
  {
   "cell_type": "code",
   "execution_count": 12,
   "id": "4386fe1e-c79a-45de-8b20-44dc0c475434",
   "metadata": {},
   "outputs": [
    {
     "name": "stdout",
     "output_type": "stream",
     "text": [
      "2025-08-08 08:51:06.662194\n"
     ]
    }
   ],
   "source": [
    "print(now)"
   ]
  },
  {
   "cell_type": "code",
   "execution_count": 21,
   "id": "635a572c-16ec-405f-ae30-2280e1645196",
   "metadata": {},
   "outputs": [
    {
     "name": "stdout",
     "output_type": "stream",
     "text": [
      "2025\n",
      "8\n",
      "8\n",
      "8\n",
      "51\n",
      "6\n",
      "662194\n",
      "====================\n",
      "4\n"
     ]
    }
   ],
   "source": [
    "# Year\n",
    "print(now.year)\n",
    "# month\n",
    "print(now.month)\n",
    "# day\n",
    "print(now.day)\n",
    "# hour\n",
    "print(now.hour)\n",
    "# minute\n",
    "print(now.minute)\n",
    "# second\n",
    "print(now.second)\n",
    "# microsecond\n",
    "print(now.microsecond)\n",
    "############\n",
    "print(\"=\" * 20)\n",
    "# weekday\n",
    "print(now.weekday())"
   ]
  },
  {
   "cell_type": "code",
   "execution_count": 35,
   "id": "3a781896-0150-46db-ad75-2afeb1ec987d",
   "metadata": {},
   "outputs": [
    {
     "name": "stdout",
     "output_type": "stream",
     "text": [
      "08-08-2025 08:51:06\n",
      "08/08/2025 08:51:06\n",
      "08 August,2025 08:51:06\n",
      "08 Aug,2025 08:51:06\n"
     ]
    }
   ],
   "source": [
    "# Formating\n",
    "formatted_date = now.strftime(\"%d-%m-%Y %H:%M:%S\")\n",
    "print(formatted_date)\n",
    "\n",
    "formatted_date1 = now.strftime(\"%d/%m/%Y %H:%M:%S\")\n",
    "print(formatted_date1)\n",
    "\n",
    "formatted_date1 = now.strftime(\"%m %B,%Y %H:%M:%S\") # %B full month name\n",
    "print(formatted_date1)\n",
    "\n",
    "formatted_date1 = now.strftime(\"%m %b,%Y %H:%M:%S\") # %b short month name\n",
    "print(formatted_date1)"
   ]
  },
  {
   "cell_type": "code",
   "execution_count": 45,
   "id": "d4d47e15-16d0-4386-9eb2-0e25cc72a3e0",
   "metadata": {},
   "outputs": [
    {
     "name": "stdout",
     "output_type": "stream",
     "text": [
      "2025-07-10 10:30:20\n",
      "<class 'datetime.datetime'>\n"
     ]
    }
   ],
   "source": [
    "# parsing\n",
    "\n",
    "date_string = \"2025-7-10 10:30:20\"\n",
    "parse_date = datetime.strptime(date_string,\"%Y-%m-%d %H:%M:%S\")\n",
    "print(parse_date)\n",
    "print(type(parse_date))"
   ]
  },
  {
   "cell_type": "code",
   "execution_count": null,
   "id": "3e5e2362-a0f6-41f7-a32f-5bd438f56346",
   "metadata": {},
   "outputs": [],
   "source": [
    "# Timedelta"
   ]
  },
  {
   "cell_type": "code",
   "execution_count": 51,
   "id": "779750be-3463-42e1-9ca1-3cfafb4ea455",
   "metadata": {},
   "outputs": [
    {
     "name": "stdout",
     "output_type": "stream",
     "text": [
      "2025-08-15 08:51:06.662194\n",
      "2025-08-01 08:51:06.662194\n"
     ]
    }
   ],
   "source": [
    "td1 = now + timedelta(days = 7)\n",
    "print(td1)\n",
    "\n",
    "td2 = now - timedelta(days = 7)\n",
    "print(td2)"
   ]
  },
  {
   "cell_type": "code",
   "execution_count": 54,
   "id": "e35d5d06-4ee2-4a13-b319-b92e53a04289",
   "metadata": {},
   "outputs": [
    {
     "name": "stdout",
     "output_type": "stream",
     "text": [
      "2025-07-18 04:21:06.662194\n"
     ]
    }
   ],
   "source": [
    "td3 = now - timedelta(weeks =2 ,days = 7, hours= 4, minutes= 30)\n",
    "print(td3)"
   ]
  },
  {
   "cell_type": "code",
   "execution_count": 55,
   "id": "6e318efd-63a6-4287-9580-bce167850563",
   "metadata": {},
   "outputs": [
    {
     "data": {
      "text/plain": [
       "datetime.timedelta(days=21, seconds=16200)"
      ]
     },
     "execution_count": 55,
     "metadata": {},
     "output_type": "execute_result"
    }
   ],
   "source": [
    "## time differece\n",
    "\n",
    "now - td3"
   ]
  },
  {
   "cell_type": "markdown",
   "id": "46286e28-1242-4675-8ae7-1a0060eb3aee",
   "metadata": {},
   "source": [
    "# Time"
   ]
  },
  {
   "cell_type": "code",
   "execution_count": 56,
   "id": "455de54c-f98a-4d5c-9a03-b87ce1eceee4",
   "metadata": {},
   "outputs": [],
   "source": [
    "import time"
   ]
  },
  {
   "cell_type": "code",
   "execution_count": 58,
   "id": "b1bf0254-831f-493f-8215-f372039f3686",
   "metadata": {},
   "outputs": [
    {
     "name": "stdout",
     "output_type": "stream",
     "text": [
      "['_STRUCT_TM_ITEMS', '__doc__', '__loader__', '__name__', '__package__', '__spec__', 'altzone', 'asctime', 'ctime', 'daylight', 'get_clock_info', 'gmtime', 'localtime', 'mktime', 'monotonic', 'monotonic_ns', 'perf_counter', 'perf_counter_ns', 'process_time', 'process_time_ns', 'sleep', 'strftime', 'strptime', 'struct_time', 'thread_time', 'thread_time_ns', 'time', 'time_ns', 'timezone', 'tzname']\n"
     ]
    }
   ],
   "source": [
    "print(dir(time))"
   ]
  },
  {
   "cell_type": "code",
   "execution_count": 59,
   "id": "9274714d-0430-4e80-a2a8-2f8542654586",
   "metadata": {},
   "outputs": [
    {
     "data": {
      "text/plain": [
       "1754624671.5946977"
      ]
     },
     "execution_count": 59,
     "metadata": {},
     "output_type": "execute_result"
    }
   ],
   "source": [
    "# time\n",
    "time.time()"
   ]
  },
  {
   "cell_type": "code",
   "execution_count": 61,
   "id": "168b9a6d-2437-4abb-b437-923377b3d35f",
   "metadata": {},
   "outputs": [
    {
     "name": "stdout",
     "output_type": "stream",
     "text": [
      "start time...\n",
      "Completed\n"
     ]
    }
   ],
   "source": [
    "# sleep\n",
    "print(\"start time...\")\n",
    "time.sleep(5)\n",
    "print(\"Completed\")"
   ]
  },
  {
   "cell_type": "code",
   "execution_count": 62,
   "id": "57ebef1e-4bba-4b8a-be5a-a40226e3fae4",
   "metadata": {},
   "outputs": [
    {
     "data": {
      "text/plain": [
       "'Fri Aug  8 09:16:59 2025'"
      ]
     },
     "execution_count": 62,
     "metadata": {},
     "output_type": "execute_result"
    }
   ],
   "source": [
    "time.ctime() # human date time readable format"
   ]
  },
  {
   "cell_type": "code",
   "execution_count": 65,
   "id": "6511d43e-70f3-4f91-9b1f-3ad0043a8fc7",
   "metadata": {},
   "outputs": [
    {
     "name": "stdout",
     "output_type": "stream",
     "text": [
      "time.struct_time(tm_year=2025, tm_mon=8, tm_mday=8, tm_hour=3, tm_min=47, tm_sec=55, tm_wday=4, tm_yday=220, tm_isdst=0)\n"
     ]
    }
   ],
   "source": [
    "print(time.gmtime()) # utc "
   ]
  },
  {
   "cell_type": "code",
   "execution_count": 66,
   "id": "89dac22d-7251-4272-a4ad-d5d7c062caf7",
   "metadata": {},
   "outputs": [
    {
     "name": "stdout",
     "output_type": "stream",
     "text": [
      "time.struct_time(tm_year=2025, tm_mon=8, tm_mday=8, tm_hour=9, tm_min=18, tm_sec=11, tm_wday=4, tm_yday=220, tm_isdst=0)\n"
     ]
    }
   ],
   "source": [
    "print(time.localtime())"
   ]
  },
  {
   "cell_type": "code",
   "execution_count": 70,
   "id": "45329bb9-c524-44a8-ba70-e66a0c82eac3",
   "metadata": {},
   "outputs": [
    {
     "name": "stdout",
     "output_type": "stream",
     "text": [
      "333333283333335000000\n",
      "2.9227259159088135\n",
      "2.9228016000124626\n",
      "2.765625\n"
     ]
    }
   ],
   "source": [
    "start_time = time.time()\n",
    "perf_counter = time.perf_counter()\n",
    "start_process_time = time.process_time()\n",
    "\n",
    "result = sum( i**2 for i in range(10000000))\n",
    "print(result)\n",
    "endtime = time.time() - start_time\n",
    "end_perf_counter = time.perf_counter()- perf_counter\n",
    "end_processtime = time.process_time() - start_process_time\n",
    "\n",
    "print(endtime)\n",
    "print(end_perf_counter)\n",
    "print(end_processtime)"
   ]
  },
  {
   "cell_type": "code",
   "execution_count": null,
   "id": "f4596ed2-9590-401a-9ab3-08e3bf93a890",
   "metadata": {},
   "outputs": [],
   "source": []
  }
 ],
 "metadata": {
  "kernelspec": {
   "display_name": "Python 3 (ipykernel)",
   "language": "python",
   "name": "python3"
  },
  "language_info": {
   "codemirror_mode": {
    "name": "ipython",
    "version": 3
   },
   "file_extension": ".py",
   "mimetype": "text/x-python",
   "name": "python",
   "nbconvert_exporter": "python",
   "pygments_lexer": "ipython3",
   "version": "3.13.3"
  }
 },
 "nbformat": 4,
 "nbformat_minor": 5
}
