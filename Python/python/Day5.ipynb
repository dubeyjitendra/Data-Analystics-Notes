{
 "cells": [
  {
   "cell_type": "code",
   "execution_count": null,
   "id": "d3590a1e-1128-4674-be29-a2d1f1cd3d4b",
   "metadata": {},
   "outputs": [],
   "source": [
    "LIST -->\n",
    "\n",
    "List is denoted by Square bracket []\n",
    "\n",
    "List is a mutable -- > it means, can be modified after creation\n",
    "\n",
    "2- Element maintain their ordered.\n",
    "\n",
    "3- Accessing the value by Index (0)\n",
    "\n",
    "4- List can store differnt data types (Heterogeneous)\n",
    "\n",
    "5- It can size the on runtime\n",
    "\n"
   ]
  },
  {
   "cell_type": "code",
   "execution_count": 1,
   "id": "82ee342b-d800-4bac-a4e5-8b15f717376c",
   "metadata": {},
   "outputs": [
    {
     "name": "stdout",
     "output_type": "stream",
     "text": [
      "[]\n"
     ]
    }
   ],
   "source": [
    "# 1 (empty list creation)\n",
    "\n",
    "lst = []\n",
    "print(lst)\n",
    "\n",
    "\n"
   ]
  },
  {
   "cell_type": "code",
   "execution_count": 2,
   "id": "fcb51d99-a2ab-443b-bcd0-5abf5ae24a75",
   "metadata": {},
   "outputs": [],
   "source": [
    "# List Creation\n",
    "\n",
    "numbers = [1,2,3,4,5,6]\n",
    "\n",
    "miseed_value = [1,\"hello\", 3.14,True,234,100,\"John\"]"
   ]
  },
  {
   "cell_type": "code",
   "execution_count": 4,
   "id": "b43a55fb-26d0-48b7-86f0-45fe1536ab32",
   "metadata": {},
   "outputs": [
    {
     "data": {
      "text/plain": [
       "[0, 1, 2, 3, 4]"
      ]
     },
     "execution_count": 4,
     "metadata": {},
     "output_type": "execute_result"
    }
   ],
   "source": [
    "list(range(5))"
   ]
  },
  {
   "cell_type": "code",
   "execution_count": 7,
   "id": "a13f4260-03a2-440d-9524-6bb7c909f686",
   "metadata": {},
   "outputs": [
    {
     "name": "stdout",
     "output_type": "stream",
     "text": [
      "[1, 2, 3, 4, 5, 2, 4, 6, 7, 9]\n",
      "[1, 2, 3, 4, 5, 1, 2, 3, 4, 5]\n"
     ]
    }
   ],
   "source": [
    "# LIst operations\n",
    "\n",
    "list1 = [1,2,3,4,5]\n",
    "list2 = [2,4,6,7,9]\n",
    "\n",
    "lst = list1 +  list2\n",
    "print(lst)\n",
    "lst1 = list1 *  2\n",
    "print(lst1)"
   ]
  },
  {
   "cell_type": "code",
   "execution_count": 9,
   "id": "e3312c97-8de9-4199-a7e2-8c9e0fc4d75f",
   "metadata": {},
   "outputs": [
    {
     "name": "stdout",
     "output_type": "stream",
     "text": [
      "[1, 1, 2, 3]\n"
     ]
    }
   ],
   "source": [
    "l1 = [1,2,3]\n",
    "l2 = [1]\n",
    "\n",
    "l3= l2 + l1\n",
    "print(l3)"
   ]
  },
  {
   "cell_type": "code",
   "execution_count": 12,
   "id": "9ac5cec3-7973-4a5c-bf0f-8ae31b13d2e7",
   "metadata": {},
   "outputs": [
    {
     "name": "stdout",
     "output_type": "stream",
     "text": [
      "apple\n"
     ]
    },
    {
     "ename": "IndexError",
     "evalue": "list index out of range",
     "output_type": "error",
     "traceback": [
      "\u001b[31m---------------------------------------------------------------------------\u001b[39m",
      "\u001b[31mIndexError\u001b[39m                                Traceback (most recent call last)",
      "\u001b[36mCell\u001b[39m\u001b[36m \u001b[39m\u001b[32mIn[12]\u001b[39m\u001b[32m, line 8\u001b[39m\n\u001b[32m      4\u001b[39m           \u001b[38;5;66;03m#  0       1       2        3         #=> indexes\u001b[39;00m\n\u001b[32m      6\u001b[39m \u001b[38;5;28mprint\u001b[39m(fruits[\u001b[32m0\u001b[39m])\n\u001b[32m----> \u001b[39m\u001b[32m8\u001b[39m \u001b[38;5;28mprint\u001b[39m(\u001b[43mfruits\u001b[49m\u001b[43m[\u001b[49m\u001b[32;43m4\u001b[39;49m\u001b[43m]\u001b[49m)\n",
      "\u001b[31mIndexError\u001b[39m: list index out of range"
     ]
    }
   ],
   "source": [
    "# Index and slicing\n",
    "fruits = [\"apple\",\"mango\",\"cherry\", \"banana\"]  #=> values\n",
    "\n",
    "          #  0       1       2        3         #=> indexes\n",
    "\n",
    "print(fruits[0])\n",
    "\n",
    "print(fruits[4]) # error"
   ]
  },
  {
   "cell_type": "code",
   "execution_count": 13,
   "id": "e0a38095-da74-409c-883c-a7c4a225d681",
   "metadata": {},
   "outputs": [
    {
     "name": "stdout",
     "output_type": "stream",
     "text": [
      "[]\n"
     ]
    }
   ],
   "source": [
    "s = []\n",
    "print(s)\n"
   ]
  },
  {
   "cell_type": "code",
   "execution_count": 14,
   "id": "52a0e914-3d6f-4885-8d13-56931379b706",
   "metadata": {},
   "outputs": [
    {
     "name": "stdout",
     "output_type": "stream",
     "text": [
      "['apple', 'mango']\n"
     ]
    }
   ],
   "source": [
    "print(fruits[0:2])"
   ]
  },
  {
   "cell_type": "code",
   "execution_count": 15,
   "id": "e8c1a1f7-b765-41bc-a7c0-83ec04de1758",
   "metadata": {},
   "outputs": [
    {
     "name": "stdout",
     "output_type": "stream",
     "text": [
      "['apple', 'mango', 'cherry']\n"
     ]
    }
   ],
   "source": [
    "print(fruits[0:-1])"
   ]
  },
  {
   "cell_type": "code",
   "execution_count": 16,
   "id": "7471650f-03c3-42a0-a601-caa52ed5538c",
   "metadata": {},
   "outputs": [
    {
     "name": "stdout",
     "output_type": "stream",
     "text": [
      "['apple', 'mango', 'cherry']\n"
     ]
    }
   ],
   "source": [
    "print(fruits[:-1])"
   ]
  },
  {
   "cell_type": "code",
   "execution_count": 27,
   "id": "5045a938-a694-4aff-b33e-db4df7e42238",
   "metadata": {},
   "outputs": [
    {
     "name": "stdout",
     "output_type": "stream",
     "text": [
      "[1]\n",
      "[1, 2]\n",
      "[4, 1, 2]\n"
     ]
    }
   ],
   "source": [
    "# modifing list\n",
    "\n",
    "lst = [1]\n",
    "print(lst)\n",
    "\n",
    "lst.append(2)\n",
    "print(lst)\n",
    "\n",
    "lst.insert(0,4) # \n",
    "print(lst)"
   ]
  },
  {
   "cell_type": "code",
   "execution_count": 28,
   "id": "4b79d558-fd9b-485b-8cf8-c2791201f7f1",
   "metadata": {},
   "outputs": [
    {
     "name": "stdout",
     "output_type": "stream",
     "text": [
      "[4, 1, 2, 10]\n"
     ]
    }
   ],
   "source": [
    "lst.insert(20,10) # \n",
    "print(lst)"
   ]
  },
  {
   "cell_type": "code",
   "execution_count": 30,
   "id": "d7c21744-cd08-41d1-ba57-d1e2f1bccbae",
   "metadata": {},
   "outputs": [
    {
     "name": "stdout",
     "output_type": "stream",
     "text": [
      "[4, 1, 2]\n"
     ]
    }
   ],
   "source": [
    "lst.remove(10) #  any values of the deletion\n",
    "print(lst)"
   ]
  },
  {
   "cell_type": "code",
   "execution_count": 32,
   "id": "020abcd9-b9a6-425e-b63b-1532b2866789",
   "metadata": {},
   "outputs": [
    {
     "data": {
      "text/plain": [
       "2"
      ]
     },
     "execution_count": 32,
     "metadata": {},
     "output_type": "execute_result"
    }
   ],
   "source": [
    "lst.pop() ## last values deleteion"
   ]
  },
  {
   "cell_type": "code",
   "execution_count": 33,
   "id": "4397f353-ef06-4d41-87b3-9b6ce19466a6",
   "metadata": {},
   "outputs": [
    {
     "data": {
      "text/plain": [
       "[4, 1]"
      ]
     },
     "execution_count": 33,
     "metadata": {},
     "output_type": "execute_result"
    }
   ],
   "source": [
    "lst"
   ]
  },
  {
   "cell_type": "code",
   "execution_count": 34,
   "id": "422fe39d-66d3-4d04-9d3f-af87eb5376b6",
   "metadata": {},
   "outputs": [],
   "source": [
    "del lst[0] # index wise deletions"
   ]
  },
  {
   "cell_type": "code",
   "execution_count": 35,
   "id": "e8417f5d-a499-45d3-90f9-59340365d331",
   "metadata": {},
   "outputs": [
    {
     "data": {
      "text/plain": [
       "[1]"
      ]
     },
     "execution_count": 35,
     "metadata": {},
     "output_type": "execute_result"
    }
   ],
   "source": [
    "lst"
   ]
  },
  {
   "cell_type": "code",
   "execution_count": 47,
   "id": "96c6241c-6519-4aa1-a50c-d358c5e9d7fc",
   "metadata": {},
   "outputs": [
    {
     "name": "stdout",
     "output_type": "stream",
     "text": [
      "length 14\n",
      "Max 67\n",
      "Min 1\n",
      "Sum 250\n",
      "find 2\n",
      "index 5\n",
      "index 11\n"
     ]
    }
   ],
   "source": [
    "# list methods\n",
    "\n",
    "numbers = [2,4,5,6,7,8,67,10,11,23,45,56,1,5]\n",
    "\n",
    "print(f\"length {len(numbers)}\")\n",
    "\n",
    "print(f\"Max {max(numbers)}\")\n",
    "\n",
    "print(f\"Min {min(numbers)}\")\n",
    "\n",
    "print(f\"Sum {sum(numbers)}\")\n",
    "\n",
    "print(f\"find {numbers.count(5)}\")\n",
    "\n",
    "print(f\"index {numbers.index(8)}\") # value of index\n",
    "\n",
    "print(f\"index {numbers[8]}\")  ## index of the value"
   ]
  },
  {
   "cell_type": "code",
   "execution_count": 48,
   "id": "7f7f118b-74cf-4eb6-a438-cdb4507bdce0",
   "metadata": {},
   "outputs": [
    {
     "name": "stdout",
     "output_type": "stream",
     "text": [
      "sort [1, 2, 4, 5, 5, 6, 7, 8, 10, 11, 23, 45, 56, 67]\n"
     ]
    }
   ],
   "source": [
    "print(f\"sort {sorted(numbers)}\") # ascending "
   ]
  },
  {
   "cell_type": "code",
   "execution_count": 53,
   "id": "b711c315-db05-4c81-8790-ea9a0d48157b",
   "metadata": {},
   "outputs": [
    {
     "name": "stdout",
     "output_type": "stream",
     "text": [
      "[5, 1, 56, 45, 23, 11, 10, 67, 8, 7, 6, 5, 4, 2]\n"
     ]
    }
   ],
   "source": [
    "numbers.reverse()\n",
    "print(numbers)"
   ]
  },
  {
   "cell_type": "code",
   "execution_count": 57,
   "id": "b1ca01b7-09b4-4078-9411-ba5f7ba3eda1",
   "metadata": {},
   "outputs": [],
   "source": [
    "squares = [ x ** 3 for x in numbers]  # list comprehensions"
   ]
  },
  {
   "cell_type": "code",
   "execution_count": 58,
   "id": "cd0ca467-bf89-4bf0-aa1a-06f788c8d990",
   "metadata": {},
   "outputs": [
    {
     "data": {
      "text/plain": [
       "[125, 1, 175616, 91125, 12167, 1331, 1000, 300763, 512, 343, 216, 125, 64, 8]"
      ]
     },
     "execution_count": 58,
     "metadata": {},
     "output_type": "execute_result"
    }
   ],
   "source": [
    "squares"
   ]
  },
  {
   "cell_type": "code",
   "execution_count": null,
   "id": "574bbb40-02fd-4f98-bd8a-ad16629fd2c5",
   "metadata": {},
   "outputs": [],
   "source": []
  }
 ],
 "metadata": {
  "kernelspec": {
   "display_name": "Python 3 (ipykernel)",
   "language": "python",
   "name": "python3"
  },
  "language_info": {
   "codemirror_mode": {
    "name": "ipython",
    "version": 3
   },
   "file_extension": ".py",
   "mimetype": "text/x-python",
   "name": "python",
   "nbconvert_exporter": "python",
   "pygments_lexer": "ipython3",
   "version": "3.13.3"
  }
 },
 "nbformat": 4,
 "nbformat_minor": 5
}
