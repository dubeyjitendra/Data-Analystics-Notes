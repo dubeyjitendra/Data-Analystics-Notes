{
 "cells": [
  {
   "cell_type": "markdown",
   "id": "f89e08f1-2ac9-4d6e-b1b2-db113ae07c53",
   "metadata": {},
   "source": [
    "# Function"
   ]
  },
  {
   "cell_type": "code",
   "execution_count": null,
   "id": "010940bd-4db2-43d5-acb7-cf16b724588d",
   "metadata": {},
   "outputs": [],
   "source": [
    "Definition : A function is a reusable block of code that perform specific task, it takes input(Parameters), process it and \n",
    "                returns the output.\n",
    "\n",
    "\n",
    "Core Usages:\n",
    "\n",
    "    1- Function hide implemenation details and provide a simple interface\n",
    "    2- Function is use for reusability(write ones and use multiple times)\n",
    "    3- Modularity: Break complex promplex problem into smaller pieces.\n",
    "\n",
    "Synax:\n",
    "\n",
    "def <name_of_the_function>(parametes):\n",
    "    <body_of_statement>\n",
    "    return <returns_the_value>"
   ]
  },
  {
   "cell_type": "markdown",
   "id": "95bdc3fc-8f67-40df-a072-48e7358a677e",
   "metadata": {},
   "source": [
    "# Type of Function:"
   ]
  },
  {
   "cell_type": "markdown",
   "id": "b5bd8ea6-cc8a-4ae0-9a61-f394e59aff5d",
   "metadata": {},
   "source": [
    "1- Built-in Function\n",
    "\n",
    "2- User defined Function\n",
    "\n",
    "3- Anonymous Function"
   ]
  },
  {
   "cell_type": "code",
   "execution_count": null,
   "id": "47936e25-8021-429c-8ed9-0a218d325a13",
   "metadata": {},
   "outputs": [],
   "source": [
    "# 1- Built-in Function\n",
    "\n",
    "print(\"Hello\")\n",
    "len(\"john\")\n",
    "type()\n",
    "input()\n",
    "int()\n",
    "str()\n",
    "dict()\n"
   ]
  },
  {
   "cell_type": "code",
   "execution_count": 1,
   "id": "c39d8bbe-4b32-4c3a-8707-0d25374cd680",
   "metadata": {},
   "outputs": [
    {
     "data": {
      "text/plain": [
       "'Hello world'"
      ]
     },
     "execution_count": 1,
     "metadata": {},
     "output_type": "execute_result"
    }
   ],
   "source": [
    "# 2- User defined Function\n",
    "\n",
    "# 1\n",
    "\n",
    "def greet():\n",
    "    return f\"Hello world\"\n",
    "\n",
    "greet()"
   ]
  },
  {
   "cell_type": "code",
   "execution_count": 10,
   "id": "944a4ba5-2e8b-4f82-ba75-6e14c64cdc38",
   "metadata": {},
   "outputs": [
    {
     "name": "stdout",
     "output_type": "stream",
     "text": [
      "Hello : John\n",
      "Hello : Bob\n"
     ]
    }
   ],
   "source": [
    "# 2\n",
    "\n",
    "# Function\n",
    "def greet(name):\n",
    "    return f\"Hello : {name}\"\n",
    "\n",
    "# calling the function\n",
    "print(greet(\"John\"))\n",
    "print(greet(\"Bob\"))\n"
   ]
  },
  {
   "cell_type": "code",
   "execution_count": null,
   "id": "51fd73b6-e652-4ae7-b91b-afe2d860eb0d",
   "metadata": {},
   "outputs": [],
   "source": [
    "# Defined input Paraters types\n",
    "\n",
    "# 1- Default arguments(parameters)\n",
    "\n",
    "# 2- Required arguments\n",
    "\n",
    "# 3- keyword arguments\n",
    "\n",
    "# 4- variable-length arguments"
   ]
  },
  {
   "cell_type": "code",
   "execution_count": 17,
   "id": "8b739a16-2abb-4188-b3e5-c45b30c94222",
   "metadata": {},
   "outputs": [
    {
     "name": "stdout",
     "output_type": "stream",
     "text": [
      "Bob\n"
     ]
    },
    {
     "data": {
      "text/plain": [
       "'Hello Mr bob'"
      ]
     },
     "execution_count": 17,
     "metadata": {},
     "output_type": "execute_result"
    }
   ],
   "source": [
    "# 1- Default arguments(parameters)\n",
    "\n",
    "def user_name(name = \"Bob\"):\n",
    "    return name\n",
    "\n",
    "print(user_name())\n",
    "\n",
    "# 2\n",
    "def greet_with_title(name = \"John\",title = \"Mr\"):\n",
    "    return f\"Hello {title} {name}\"\n",
    "\n",
    "greet_with_title(\"bob\")\n",
    "    \n"
   ]
  },
  {
   "cell_type": "code",
   "execution_count": 20,
   "id": "666f6ace-e4f9-4ac3-a3d8-15bdd248ece7",
   "metadata": {},
   "outputs": [
    {
     "data": {
      "text/plain": [
       "30"
      ]
     },
     "execution_count": 20,
     "metadata": {},
     "output_type": "execute_result"
    }
   ],
   "source": [
    "# 2- Required arguments(parameters)\n",
    "\n",
    "def add(value1, value2):\n",
    "    sum_output = value1 + value2\n",
    "    return sum_output\n",
    "\n",
    "add(10,20)\n"
   ]
  },
  {
   "cell_type": "code",
   "execution_count": 22,
   "id": "ceebd5be-3e6e-47b4-bbdb-d65f5e209995",
   "metadata": {},
   "outputs": [
    {
     "data": {
      "text/plain": [
       "' John Cena 40'"
      ]
     },
     "execution_count": 22,
     "metadata": {},
     "output_type": "execute_result"
    }
   ],
   "source": [
    "# 3- Keyword arguments\n",
    "\n",
    "def print_the_name(name, age):\n",
    "    return f\" {name} {age}\"\n",
    "\n",
    "print_the_name(name = \"John Cena\", age = 40) "
   ]
  },
  {
   "cell_type": "code",
   "execution_count": 25,
   "id": "0112dced-8e73-4cf8-bccf-8c647898c14e",
   "metadata": {},
   "outputs": [
    {
     "name": "stdout",
     "output_type": "stream",
     "text": [
      "['amit', 'pranav', 'deepak', 'raghav']\n"
     ]
    }
   ],
   "source": [
    "# 4 Variable length arguments\n",
    "\n",
    "def names(*names):\n",
    "    for name in names:\n",
    "        print(name)\n",
    "\n",
    "Lst = [\"amit\",\"pranav\",\"deepak\",\"raghav\"]\n",
    "names(Lst)  \n"
   ]
  },
  {
   "cell_type": "code",
   "execution_count": null,
   "id": "9922b6aa-a9f0-4d87-8a2a-90055f92798e",
   "metadata": {},
   "outputs": [],
   "source": []
  },
  {
   "cell_type": "code",
   "execution_count": null,
   "id": "d759c8a9-3ac8-4c94-83f2-082defa6aa7b",
   "metadata": {},
   "outputs": [],
   "source": [
    "what is the *args vs **kwargs?\n"
   ]
  },
  {
   "cell_type": "code",
   "execution_count": 7,
   "id": "5a16408e-ba6c-47eb-87dd-93e46df9fd2f",
   "metadata": {},
   "outputs": [
    {
     "name": "stdout",
     "output_type": "stream",
     "text": [
      "240\n"
     ]
    }
   ],
   "source": [
    "def square(x,y,z,m):\n",
    "    z1  = x * y * z * m\n",
    "    return z1\n",
    "\n",
    "print(square(10,2,3,4))\n",
    "\n",
    "    "
   ]
  },
  {
   "cell_type": "code",
   "execution_count": 13,
   "id": "d5a6cd2b-2983-4d99-b6e4-dac3067ff022",
   "metadata": {},
   "outputs": [
    {
     "name": "stdout",
     "output_type": "stream",
     "text": [
      "[4, 9, 16, 25, 36, 36, 49, 64, 64, 9604, 36, 36, 25, 25, 3025, 25, 25]\n"
     ]
    }
   ],
   "source": [
    "def square(*square):\n",
    "    square = [s * s for s in square]\n",
    "    return square\n",
    "\n",
    "print(square(2,3,4,5,6,6,7,8,8,98,6,6,5,5,55,5,5))"
   ]
  },
  {
   "cell_type": "code",
   "execution_count": 2,
   "id": "0dc73172-a159-4921-9bfe-da3d90843204",
   "metadata": {},
   "outputs": [
    {
     "name": "stdout",
     "output_type": "stream",
     "text": [
      "25284\n"
     ]
    }
   ],
   "source": [
    "def sum_all(*n):\n",
    "    z = sum(n)\n",
    "    return z\n",
    "\n",
    "print(sum_all(2,3,4,5,6,6,7,8,8,98,6,6,5,5,55,5,5,4,4,4,4,4,4,32,223,423,4,24344))"
   ]
  },
  {
   "cell_type": "code",
   "execution_count": 15,
   "id": "164812d7-7089-4122-9f9f-cb02532ba784",
   "metadata": {},
   "outputs": [
    {
     "name": "stdout",
     "output_type": "stream",
     "text": [
      "('name', 'John')\n",
      "('age', 22)\n",
      "('location', 'NYC')\n",
      "('mobile_number', 232322232)\n"
     ]
    }
   ],
   "source": [
    "# **kwargs\n",
    "\n",
    "def names(**names):\n",
    "    for name in names.items():\n",
    "        print(name)\n",
    "\n",
    "names(name=\"John\",age= 22,location= \"NYC\",mobile_number=232322232)"
   ]
  },
  {
   "cell_type": "code",
   "execution_count": 5,
   "id": "ff2ba485-708c-4e88-a134-e8a5ebfc2b6d",
   "metadata": {},
   "outputs": [
    {
     "name": "stdout",
     "output_type": "stream",
     "text": [
      "('name', 'Alice')\n",
      "('age', 30)\n",
      "('job', 'engineer')\n",
      "('course', 'graduate')\n"
     ]
    }
   ],
   "source": [
    "def print_info(**info):\n",
    "    for value in info.items():\n",
    "        print(f\"{value}\")\n",
    "\n",
    "print_info(name=\"Alice\",age= 30,job=\"engineer\",course=\"graduate\")"
   ]
  },
  {
   "cell_type": "code",
   "execution_count": 10,
   "id": "b35b9357-5671-4e5e-8c87-9e3273c08da7",
   "metadata": {},
   "outputs": [
    {
     "name": "stdout",
     "output_type": "stream",
     "text": [
      "('name', 'Alice')\n",
      "('age', 30)\n",
      "('job', 'engineer')\n",
      "('course', 'graduate')\n",
      "('city', 'delhi')\n",
      "('education', 'mumbai')\n"
     ]
    }
   ],
   "source": [
    "def print_info(**info):\n",
    "    for value in info.items():\n",
    "        print(f\"{value}\")\n",
    "\n",
    "print_info(name=\"Alice\",age= 30,job=\"engineer\",course=\"graduate\",city=\"delhi\",education=\"mumbai\")"
   ]
  },
  {
   "cell_type": "markdown",
   "id": "15ff8336-b1a7-488a-a82c-e1efa83e2525",
   "metadata": {},
   "source": [
    "# Anonymous Function"
   ]
  },
  {
   "cell_type": "code",
   "execution_count": 11,
   "id": "10c3959c-e6c3-4b32-89ac-aa9b6ab1a1c9",
   "metadata": {},
   "outputs": [
    {
     "data": {
      "text/plain": [
       "30"
      ]
     },
     "execution_count": 11,
     "metadata": {},
     "output_type": "execute_result"
    }
   ],
   "source": [
    "def add(m,n):\n",
    "    z = m + n\n",
    "    return z\n",
    "add(10,20)"
   ]
  },
  {
   "cell_type": "code",
   "execution_count": 12,
   "id": "3d3cb9b1-6a9e-4b62-a154-315c5f83492a",
   "metadata": {},
   "outputs": [
    {
     "data": {
      "text/plain": [
       "30"
      ]
     },
     "execution_count": 12,
     "metadata": {},
     "output_type": "execute_result"
    }
   ],
   "source": [
    "add_value = lambda x,y: x + y\n",
    "add_value(10,20)"
   ]
  },
  {
   "cell_type": "code",
   "execution_count": 16,
   "id": "224be058-d685-4cc6-8cba-16396a4edc0c",
   "metadata": {},
   "outputs": [
    {
     "data": {
      "text/plain": [
       "'hello world'"
      ]
     },
     "execution_count": 16,
     "metadata": {},
     "output_type": "execute_result"
    }
   ],
   "source": [
    "hello_world = lambda : \"hello world\"\n",
    "hello_world()"
   ]
  },
  {
   "cell_type": "code",
   "execution_count": 17,
   "id": "116a14ea-7fe2-460e-801b-9e7008957bbd",
   "metadata": {},
   "outputs": [
    {
     "data": {
      "text/plain": [
       "4"
      ]
     },
     "execution_count": 17,
     "metadata": {},
     "output_type": "execute_result"
    }
   ],
   "source": [
    "v1 = lambda : 2 * 2\n",
    "v1()"
   ]
  },
  {
   "cell_type": "code",
   "execution_count": 27,
   "id": "5c1e7f36-933e-4424-957d-fdfecb39ebc1",
   "metadata": {},
   "outputs": [
    {
     "data": {
      "text/plain": [
       "[2, 4, 4, 66, 8678, 678, 78]"
      ]
     },
     "execution_count": 27,
     "metadata": {},
     "output_type": "execute_result"
    }
   ],
   "source": [
    "lst = [2,4,4,5,66,57,67,67,8678,678,78,7]\n",
    "list(filter(lambda x : (x % 2 == 0),lst))\n"
   ]
  },
  {
   "cell_type": "code",
   "execution_count": 25,
   "id": "89838ea9-d1a8-4e2b-92ce-a89a0afbb4e8",
   "metadata": {},
   "outputs": [
    {
     "data": {
      "text/plain": [
       "96"
      ]
     },
     "execution_count": 25,
     "metadata": {},
     "output_type": "execute_result"
    }
   ],
   "source": [
    "double = lambda x :  x * 2 * 2\n",
    "double(24)"
   ]
  },
  {
   "cell_type": "code",
   "execution_count": null,
   "id": "dbb66ffe-101d-412b-9341-5ac734fa716d",
   "metadata": {},
   "outputs": [],
   "source": [
    "# Recurvise Function (a function call itself is called recursive function)\n",
    "\n",
    "#factorial = 5 =  5 x 4 x 3 x 2 x 1 = 120\n"
   ]
  },
  {
   "cell_type": "code",
   "execution_count": 30,
   "id": "802b348c-d731-4d9b-a8db-6b0c05e7e6a2",
   "metadata": {},
   "outputs": [
    {
     "data": {
      "text/plain": [
       "120"
      ]
     },
     "execution_count": 30,
     "metadata": {},
     "output_type": "execute_result"
    }
   ],
   "source": [
    "def factorial(n):\n",
    "    if n == 1:\n",
    "        return 1\n",
    "        \n",
    "    return n * factorial(n-1)\n",
    "\n",
    "factorial(5)"
   ]
  },
  {
   "cell_type": "code",
   "execution_count": null,
   "id": "3d77c133-ffbe-44ea-aba2-89bb5b8418e2",
   "metadata": {},
   "outputs": [],
   "source": [
    "# fibonacci number\n",
    "\n",
    "0, 1, 1, 2, 3, 5, 8, 13, 21\n",
    "\n",
    "0,1,1,2,3,5,8\n",
    "\n",
    "0,1,1,2,3,5,8,13,21,34,55\n"
   ]
  },
  {
   "cell_type": "code",
   "execution_count": 31,
   "id": "de68d70c-44a0-4d9a-8090-0a19feccc7ff",
   "metadata": {},
   "outputs": [
    {
     "data": {
      "text/plain": [
       "8"
      ]
     },
     "execution_count": 31,
     "metadata": {},
     "output_type": "execute_result"
    }
   ],
   "source": [
    "def fibonacci_number(n):\n",
    "    if n <= 1:\n",
    "        return n\n",
    "\n",
    "    return fibonacci_number(n-1) + fibonacci_number(n-2)\n",
    "\n",
    "fibonacci_number(6)"
   ]
  },
  {
   "cell_type": "code",
   "execution_count": 32,
   "id": "106ab1a4-5e51-403a-90e8-93586a620a09",
   "metadata": {},
   "outputs": [
    {
     "data": {
      "text/plain": [
       "55"
      ]
     },
     "execution_count": 32,
     "metadata": {},
     "output_type": "execute_result"
    }
   ],
   "source": [
    "fibonacci_number(10)"
   ]
  },
  {
   "cell_type": "code",
   "execution_count": null,
   "id": "bef3c1dd-10be-453b-bd29-9ca0d5dcf951",
   "metadata": {},
   "outputs": [],
   "source": []
  }
 ],
 "metadata": {
  "kernelspec": {
   "display_name": "Python 3 (ipykernel)",
   "language": "python",
   "name": "python3"
  },
  "language_info": {
   "codemirror_mode": {
    "name": "ipython",
    "version": 3
   },
   "file_extension": ".py",
   "mimetype": "text/x-python",
   "name": "python",
   "nbconvert_exporter": "python",
   "pygments_lexer": "ipython3",
   "version": "3.13.3"
  }
 },
 "nbformat": 4,
 "nbformat_minor": 5
}
