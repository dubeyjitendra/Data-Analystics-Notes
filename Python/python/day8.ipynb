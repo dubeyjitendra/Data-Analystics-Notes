{
 "cells": [
  {
   "cell_type": "markdown",
   "id": "0eb84ae0-e025-4642-8f00-98d53ec76acf",
   "metadata": {},
   "source": [
    "# Control flow statements\n",
    "\n",
    "    1- Conditional statements(if/else/elif)\n",
    "    2- Iterative/loop statement (for, while)\n",
    "    3- Transfer statement(break,continue, pass)\n",
    "\n"
   ]
  },
  {
   "cell_type": "markdown",
   "id": "4f7de41f-427b-4dd1-ba9d-c64070554426",
   "metadata": {},
   "source": [
    "### 1-  Conditional statements(if/else/elif)"
   ]
  },
  {
   "cell_type": "code",
   "execution_count": null,
   "id": "c65cfcdc-93a6-49db-a954-5fa8bf3694b5",
   "metadata": {},
   "outputs": [],
   "source": [
    "# Syntax\n",
    "if <Condition>:\n",
    "    <body>   \n",
    "\n",
    "    "
   ]
  },
  {
   "cell_type": "code",
   "execution_count": 2,
   "id": "8fed226c-54a1-4cec-aeb6-6763e5895c82",
   "metadata": {},
   "outputs": [],
   "source": [
    "grade = 70\n",
    "\n",
    "if grade > 60:\n",
    "    print(\"Grade A\")"
   ]
  },
  {
   "cell_type": "code",
   "execution_count": 4,
   "id": "866724e5-e2a2-4d7b-8b94-8f1c1189bdcd",
   "metadata": {},
   "outputs": [
    {
     "data": {
      "text/plain": [
       "True"
      ]
     },
     "execution_count": 4,
     "metadata": {},
     "output_type": "execute_result"
    }
   ],
   "source": [
    "grade > 60"
   ]
  },
  {
   "cell_type": "code",
   "execution_count": 7,
   "id": "c4e071e2-c26c-4287-8c68-51ba7741de00",
   "metadata": {},
   "outputs": [
    {
     "name": "stdin",
     "output_type": "stream",
     "text": [
      " Please input the value  :  80\n"
     ]
    },
    {
     "name": "stdout",
     "output_type": "stream",
     "text": [
      "Grade B\n"
     ]
    }
   ],
   "source": [
    "#  if and else\n",
    "input_value = int(input(\" Please input the value  : \"))\n",
    "if grade > input_value:\n",
    "    print(\"Grade A\")\n",
    "else:\n",
    "    print(\"Grade B\")\n",
    "    "
   ]
  },
  {
   "cell_type": "code",
   "execution_count": 11,
   "id": "7247a179-1ce2-4bfd-a4a2-88ea2b2a245d",
   "metadata": {},
   "outputs": [
    {
     "name": "stdin",
     "output_type": "stream",
     "text": [
      " Please input the value  :  70\n"
     ]
    },
    {
     "name": "stdout",
     "output_type": "stream",
     "text": [
      "Grade C\n"
     ]
    }
   ],
   "source": [
    "# if ,elif and else\n",
    "input_value = int(input(\" Please input the value  : \"))\n",
    "if grade > input_value:\n",
    "    print(\"Grade A\")\n",
    "elif grade <= input_value:\n",
    "    print(\"Grade C\")\n",
    "else:\n",
    "    print(\"Grade B\")"
   ]
  },
  {
   "cell_type": "code",
   "execution_count": 15,
   "id": "c9332b2d-cf04-46b1-8c8d-734b3384d727",
   "metadata": {},
   "outputs": [
    {
     "name": "stdout",
     "output_type": "stream",
     "text": [
      "Grade A++\n"
     ]
    }
   ],
   "source": [
    "## \n",
    "score  = 90\n",
    "\n",
    "\n",
    "if score >=90:\n",
    "    print(\"Grade A++\")\n",
    "elif score >=80:\n",
    "    print(\"Grade A\")\n",
    "elif score>=70:\n",
    "    print(\"Grade B\")\n",
    "elif score >=60:\n",
    "    print(\"Grade C\")\n",
    "else:\n",
    "    print(\"Grade D\")"
   ]
  },
  {
   "cell_type": "code",
   "execution_count": 17,
   "id": "3c6b84d6-41ba-4731-97d0-07be53b52d4d",
   "metadata": {},
   "outputs": [
    {
     "name": "stdin",
     "output_type": "stream",
     "text": [
      " Please pass the Input Value :  85\n"
     ]
    },
    {
     "name": "stdout",
     "output_type": "stream",
     "text": [
      "Grade A\n"
     ]
    }
   ],
   "source": [
    "score  = int(input(\" Please pass the Input Value : \"))\n",
    "\n",
    "if score >=90:\n",
    "    print(\"Grade A++\")\n",
    "elif score >=80:\n",
    "    print(\"Grade A\")\n",
    "elif score>=70:\n",
    "    print(\"Grade B\")\n",
    "elif score >=60:\n",
    "    print(\"Grade C\")\n",
    "else:\n",
    "    print(\"Grade D\")"
   ]
  },
  {
   "cell_type": "code",
   "execution_count": 18,
   "id": "7dc5e458-50bc-4e05-8804-bcadb1d6c961",
   "metadata": {},
   "outputs": [
    {
     "name": "stdout",
     "output_type": "stream",
     "text": [
      "Username is correct\n",
      "Password is correct\n"
     ]
    }
   ],
   "source": [
    "username = \"admin\"\n",
    "password = \"12345\"\n",
    "\n",
    "if username == \"admin\" :\n",
    "    print(\"Username is correct\")\n",
    "\n",
    "if password == \"12345\":\n",
    "    print(\"Password is correct\")"
   ]
  },
  {
   "cell_type": "code",
   "execution_count": 20,
   "id": "a4ade392-5e98-42c3-8e72-29226b3cbeb8",
   "metadata": {},
   "outputs": [
    {
     "name": "stdout",
     "output_type": "stream",
     "text": [
      "Username and password are correct\n"
     ]
    }
   ],
   "source": [
    "# multiple condition\n",
    "\n",
    "if username == \"admin\" or password == \"12345\":\n",
    "    print(\"Username and password are correct\")\n",
    "elif username == \"admin1\" or password == \"123456\":\n",
    "    print(\"Username and password are incorrect\")\n",
    "else:\n",
    "    if username == \"admin2\":\n",
    "        print(username)"
   ]
  },
  {
   "cell_type": "code",
   "execution_count": 21,
   "id": "46486099-d37b-40da-8e3f-7d3897b65113",
   "metadata": {},
   "outputs": [
    {
     "name": "stdout",
     "output_type": "stream",
     "text": [
      "Rain started\n"
     ]
    }
   ],
   "source": [
    "# nested condition\n",
    "\n",
    "temp =  25\n",
    "is_rain = False\n",
    "wind= True\n",
    "\n",
    "if temp > 20 :\n",
    "    if is_rain == False:\n",
    "        print(\"Rain started\")\n",
    "    else:\n",
    "        print(\"not started\")\n",
    "else:\n",
    "    print(\"no rain\")"
   ]
  },
  {
   "cell_type": "markdown",
   "id": "6a18779e-3918-48ee-9624-4d0fb7690b30",
   "metadata": {},
   "source": [
    "##  Iterative/loop statement (for, while)"
   ]
  },
  {
   "cell_type": "code",
   "execution_count": null,
   "id": "d5e72353-85d4-44ad-bebb-229bc23b0cde",
   "metadata": {},
   "outputs": [],
   "source": [
    "Loops -- Iterate over sequences (string, list, tuple, sets, dictionaries)\n",
    "\n",
    "Synatx :\n",
    "for <variable> in iterable:\n",
    "    <code block to execute>"
   ]
  },
  {
   "cell_type": "code",
   "execution_count": 22,
   "id": "e5cc32b8-0345-4963-ba72-c272e2ca3935",
   "metadata": {},
   "outputs": [
    {
     "name": "stdout",
     "output_type": "stream",
     "text": [
      "H\n",
      "e\n",
      "l\n",
      "l\n",
      "o\n",
      " \n",
      "P\n",
      "y\n",
      "t\n",
      "h\n",
      "o\n",
      "n\n"
     ]
    }
   ],
   "source": [
    "words = \"Hello Python\"\n",
    "\n",
    "for word in words:\n",
    "    print(word)\n"
   ]
  },
  {
   "cell_type": "code",
   "execution_count": 23,
   "id": "bef51566-6292-4acf-a30a-c2ec0cad6584",
   "metadata": {},
   "outputs": [
    {
     "name": "stdout",
     "output_type": "stream",
     "text": [
      "1\n",
      "2\n",
      "3\n",
      "4\n",
      "5\n",
      "6\n",
      "7\n",
      "8\n"
     ]
    }
   ],
   "source": [
    "numbers = [1,2,3,4,5,6,7,8]\n",
    "\n",
    "for num in numbers:\n",
    "    print(num)"
   ]
  },
  {
   "cell_type": "code",
   "execution_count": null,
   "id": "457e9425-2725-4b0c-8022-fc3c61e7b03e",
   "metadata": {},
   "outputs": [],
   "source": [
    "# for( i= 0; i <10; i++){\n",
    "# }"
   ]
  },
  {
   "cell_type": "code",
   "execution_count": 26,
   "id": "6fca1a2e-865c-45c3-a1f1-0e0f8ee53114",
   "metadata": {},
   "outputs": [
    {
     "name": "stdout",
     "output_type": "stream",
     "text": [
      "1\n",
      "2\n",
      "3\n",
      "4\n",
      "5\n",
      "6\n",
      "7\n",
      "8\n",
      "9\n",
      "10\n"
     ]
    }
   ],
   "source": [
    "for i in range(1,11):\n",
    "    print(i)"
   ]
  },
  {
   "cell_type": "code",
   "execution_count": 39,
   "id": "cd8251b7-8d3b-45bd-a8a0-70d0038ed1c5",
   "metadata": {},
   "outputs": [
    {
     "name": "stdout",
     "output_type": "stream",
     "text": [
      "0\n",
      "=====\n",
      "0\n",
      "1\n",
      "=====\n",
      "0\n",
      "1\n",
      "2\n",
      "=====\n",
      "0\n",
      "1\n",
      "2\n",
      "3\n",
      "=====\n",
      "0\n",
      "1\n",
      "2\n",
      "3\n",
      "4\n",
      "=====\n",
      "0\n",
      "1\n",
      "2\n",
      "3\n",
      "4\n"
     ]
    }
   ],
   "source": [
    "for j in range(5):\n",
    "    print(j)\n",
    "    print(\"=\" * 5)\n",
    "    for m in range(j+1):\n",
    "        print(m)\n",
    "    \n"
   ]
  },
  {
   "cell_type": "code",
   "execution_count": null,
   "id": "651c7d5e-1ab1-4a10-9956-9c8693a7e810",
   "metadata": {},
   "outputs": [],
   "source": [
    "# while \n",
    "\n",
    "1- initilization is must\n",
    "\n",
    "2- Add incremental varible\n",
    "\n",
    "# Synatx:\n",
    "    while <condition> : \n",
    "        <code block for execute>"
   ]
  },
  {
   "cell_type": "code",
   "execution_count": 40,
   "id": "8828e21c-7873-4bef-b9da-5ba276bdfdbe",
   "metadata": {},
   "outputs": [
    {
     "name": "stdout",
     "output_type": "stream",
     "text": [
      "1\n",
      "2\n",
      "3\n",
      "4\n",
      "5\n",
      "6\n",
      "7\n",
      "8\n",
      "9\n",
      "10\n"
     ]
    }
   ],
   "source": [
    "count = 0 # initilization\n",
    "\n",
    "while count < 10:\n",
    "    count = count + 1 # incrementable variable\n",
    "    print(count)"
   ]
  },
  {
   "cell_type": "code",
   "execution_count": 41,
   "id": "466a1b61-893c-4a76-a0e5-870960cd84d0",
   "metadata": {},
   "outputs": [
    {
     "name": "stdout",
     "output_type": "stream",
     "text": [
      "9\n",
      "8\n",
      "7\n",
      "6\n",
      "5\n",
      "4\n",
      "3\n",
      "2\n",
      "1\n"
     ]
    }
   ],
   "source": [
    "a =  10\n",
    "while a > 1:\n",
    "    a =  a -1\n",
    "    print(a)"
   ]
  },
  {
   "cell_type": "code",
   "execution_count": null,
   "id": "6c339922-2658-431a-abc1-8502564bee87",
   "metadata": {},
   "outputs": [],
   "source": []
  }
 ],
 "metadata": {
  "kernelspec": {
   "display_name": "Python 3 (ipykernel)",
   "language": "python",
   "name": "python3"
  },
  "language_info": {
   "codemirror_mode": {
    "name": "ipython",
    "version": 3
   },
   "file_extension": ".py",
   "mimetype": "text/x-python",
   "name": "python",
   "nbconvert_exporter": "python",
   "pygments_lexer": "ipython3",
   "version": "3.13.3"
  }
 },
 "nbformat": 4,
 "nbformat_minor": 5
}
