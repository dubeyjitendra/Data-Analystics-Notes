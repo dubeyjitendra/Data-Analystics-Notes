{
 "cells": [
  {
   "cell_type": "markdown",
   "id": "2d11d586-e3e6-4444-b48a-8c380dcd9f45",
   "metadata": {},
   "source": [
    " # File I/O"
   ]
  },
  {
   "cell_type": "code",
   "execution_count": null,
   "id": "e7ea2a89-74f2-4771-80ae-58e1d7d13952",
   "metadata": {},
   "outputs": [],
   "source": [
    "FILE I/O referes to the process of reading data from files(input) and writing the data to files(Output).\n",
    "    "
   ]
  },
  {
   "cell_type": "code",
   "execution_count": null,
   "id": "2ea2a257-a74a-4c39-96a8-421516ec26db",
   "metadata": {},
   "outputs": [],
   "source": [
    "File :\n",
    "\n",
    "\n",
    "file path \n",
    "\n",
    "file mode method - r,rw,r+,ra, wr,w+,wa,\n",
    "\n",
    "File Buffering - size\n",
    "\n",
    "encoding method-utf-8, utf-16,ASCII, ISO-LATIN1\n"
   ]
  },
  {
   "cell_type": "code",
   "execution_count": 10,
   "id": "93fccce0-48ea-4a42-9fb7-2ecedf20a48f",
   "metadata": {},
   "outputs": [],
   "source": [
    "# basic file create\n",
    "f = open('demo.txt','w+')\n",
    "f.read()\n",
    "f.close() # always close the files.\n",
    "\n",
    "\n",
    "where -->\n",
    "##  Mode Methods\n",
    "r -- read\n",
    "w --> write\n",
    "w+---> create/write\n",
    "rw+--->read,create/write\n",
    "w+r -->\n",
    "a--> append\n",
    "r+ --> read/write\n",
    "b --binary files\n",
    "rb - read binary\n",
    "wb - write binary\n",
    "ab -- append binary\n"
   ]
  },
  {
   "cell_type": "code",
   "execution_count": 11,
   "id": "64773e47-3605-4331-aa2d-8d1e7696f185",
   "metadata": {},
   "outputs": [],
   "source": [
    "# 2\n",
    "\n",
    "\n",
    "\n",
    "with open('example.txt','w+') as file:\n",
    "    file.write(\"Hi, This is the python lecture class\")\n"
   ]
  },
  {
   "cell_type": "code",
   "execution_count": null,
   "id": "b639249c-87a7-4815-9b21-83d263a70bb2",
   "metadata": {},
   "outputs": [],
   "source": [
    "with -- > context manager\n",
    "\n",
    "1- automatically close the file\n",
    "2 - memory management is good compare to basic file opening\n"
   ]
  },
  {
   "cell_type": "code",
   "execution_count": null,
   "id": "8374d797-e8fc-4b73-8d91-a79e6a794970",
   "metadata": {},
   "outputs": [],
   "source": [
    "# File Objects method\n",
    "\n",
    "1- file.read()\n",
    "2- file.write()\n",
    "3- file.readlines()\n",
    "4- file.close()\n",
    "5- file.flush()"
   ]
  },
  {
   "cell_type": "markdown",
   "id": "a645240b-cc4f-412e-a92e-d1204ad293db",
   "metadata": {},
   "source": [
    "# File Write"
   ]
  },
  {
   "cell_type": "code",
   "execution_count": 13,
   "id": "09c99f0f-b8b3-4776-ac0d-9f4ca0452205",
   "metadata": {},
   "outputs": [],
   "source": [
    "f1  = open('C:\\\\Users\\\\jitud\\\\21-July\\\\python\\\\demo.txt','w')\n",
    "f1.write(\"Hello, Python\")\n",
    "f1.close()"
   ]
  },
  {
   "cell_type": "code",
   "execution_count": 15,
   "id": "82f1ca55-5dd0-4a2e-b058-009e1c1a07b3",
   "metadata": {},
   "outputs": [],
   "source": [
    "# Or\n",
    "\n",
    "with open('C:\\\\Users\\\\jitud\\\\21-July\\\\python\\\\demo.txt','w') as f2:\n",
    "    f2.write(\"Hello, worlds\")\n"
   ]
  },
  {
   "cell_type": "markdown",
   "id": "94cf2bf1-f6b2-400f-a783-391048b11867",
   "metadata": {},
   "source": [
    "# FILE READ"
   ]
  },
  {
   "cell_type": "code",
   "execution_count": 23,
   "id": "3ace9925-a942-45a5-9883-d3e81725903a",
   "metadata": {},
   "outputs": [
    {
     "name": "stdout",
     "output_type": "stream",
     "text": [
      "Hello, worlds\n",
      "New Lines added\n",
      "New Lines added\n",
      "New Lines added\n"
     ]
    }
   ],
   "source": [
    "with open('C:\\\\Users\\\\jitud\\\\21-July\\\\python\\\\demo.txt','r') as f3:\n",
    "    print(f3.read())"
   ]
  },
  {
   "cell_type": "markdown",
   "id": "41b2de89-2991-400a-ba82-a8c8538e4f49",
   "metadata": {},
   "source": [
    "# FILE Append"
   ]
  },
  {
   "cell_type": "code",
   "execution_count": 22,
   "id": "8affcf09-9535-4b37-8266-11ff882e0973",
   "metadata": {},
   "outputs": [],
   "source": [
    "with open('C:\\\\Users\\\\jitud\\\\21-July\\\\python\\\\demo.txt','a') as f3:\n",
    "    f3.write(\"\\nNew Lines added\")"
   ]
  },
  {
   "cell_type": "markdown",
   "id": "cca0518c-57ad-4dee-a0e3-e5c3c25d57d3",
   "metadata": {},
   "source": [
    "# File readlines"
   ]
  },
  {
   "cell_type": "code",
   "execution_count": 24,
   "id": "00e877da-cc0d-465c-83b5-d5a4de4a40e0",
   "metadata": {},
   "outputs": [
    {
     "name": "stdout",
     "output_type": "stream",
     "text": [
      "['Hello, worlds\\n', 'New Lines added\\n', 'New Lines added\\n', 'New Lines added']\n"
     ]
    }
   ],
   "source": [
    "with open('C:\\\\Users\\\\jitud\\\\21-July\\\\python\\\\demo.txt','r') as f3:\n",
    "    print(f3.readlines())"
   ]
  },
  {
   "cell_type": "markdown",
   "id": "10da514f-3cfc-4e31-908b-370be6939166",
   "metadata": {},
   "source": [
    "# FIle specific no of characters"
   ]
  },
  {
   "cell_type": "code",
   "execution_count": 26,
   "id": "6b665de2-9f7b-4ccc-a3e7-3d3836027d1f",
   "metadata": {},
   "outputs": [
    {
     "name": "stdout",
     "output_type": "stream",
     "text": [
      "Hello, \n"
     ]
    }
   ],
   "source": [
    "with open('C:\\\\Users\\\\jitud\\\\21-July\\\\python\\\\demo.txt','r') as f3:\n",
    "    print(f3.read(7))"
   ]
  },
  {
   "cell_type": "markdown",
   "id": "07cb427c-141a-4ac3-bc4e-3f2b2f256555",
   "metadata": {},
   "source": [
    "# File Positioning"
   ]
  },
  {
   "cell_type": "code",
   "execution_count": null,
   "id": "f89d6003-18e7-47a3-8eda-35e41f4396d6",
   "metadata": {},
   "outputs": [],
   "source": [
    "File.tell\n",
    "File.seek"
   ]
  },
  {
   "cell_type": "code",
   "execution_count": 31,
   "id": "ffbb93f9-4dc4-4ae0-a818-d72cda8e1a58",
   "metadata": {},
   "outputs": [
    {
     "name": "stdout",
     "output_type": "stream",
     "text": [
      "0\n",
      "5\n",
      "0\n"
     ]
    }
   ],
   "source": [
    "with open('C:\\\\Users\\\\jitud\\\\21-July\\\\python\\\\demo.txt','r+') as f3:\n",
    "    print(f3.tell()) # current cursor position\n",
    "    c = f3.read(5)\n",
    "    print(f3.tell())\n",
    "    f3.seek(0) # set the cursor postion\n",
    "    print(f3.tell())\n",
    "    "
   ]
  },
  {
   "cell_type": "code",
   "execution_count": null,
   "id": "88e85358-00c1-449f-851c-1bdd2d5f7a7c",
   "metadata": {},
   "outputs": [],
   "source": [
    "# \n",
    "\n",
    "with open('file.txt', 'w+') as f:\n",
    "    f.write()\n",
    "    f.read()\n",
    "    f.append()\n",
    "    "
   ]
  },
  {
   "cell_type": "code",
   "execution_count": null,
   "id": "c2a28392-fd7e-40cf-953c-589661df53d1",
   "metadata": {},
   "outputs": [],
   "source": [
    "try:\n",
    "    \n",
    "    with open('file.txt', 'w+') as f:\n",
    "        f.write()\n",
    "        f.read()\n",
    "        f.append()\n",
    "except Exception as e:\n",
    "    print(e)\n"
   ]
  }
 ],
 "metadata": {
  "kernelspec": {
   "display_name": "Python 3 (ipykernel)",
   "language": "python",
   "name": "python3"
  },
  "language_info": {
   "codemirror_mode": {
    "name": "ipython",
    "version": 3
   },
   "file_extension": ".py",
   "mimetype": "text/x-python",
   "name": "python",
   "nbconvert_exporter": "python",
   "pygments_lexer": "ipython3",
   "version": "3.13.3"
  }
 },
 "nbformat": 4,
 "nbformat_minor": 5
}
