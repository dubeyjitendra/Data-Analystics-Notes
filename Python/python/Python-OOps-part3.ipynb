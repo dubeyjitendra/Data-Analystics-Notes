{
 "cells": [
  {
   "cell_type": "code",
   "execution_count": null,
   "id": "283b91a5-6545-47bc-a29f-c646fb217c36",
   "metadata": {},
   "outputs": [],
   "source": [
    "MRO --> Method Resolution Order\n",
    "\n",
    "- C3 linearization algorithm---order \n",
    "\n",
    "- child classses are checked br=efore parent class\n",
    "- Parent classes are checked in the order they appear in the inheritance list\n",
    "- Order is cosistent and that avoid ambiguity\n"
   ]
  },
  {
   "cell_type": "code",
   "execution_count": 26,
   "id": "692f669f-9403-429f-b801-3e9988fddcb4",
   "metadata": {},
   "outputs": [
    {
     "name": "stdout",
     "output_type": "stream",
     "text": [
      "Class E\n"
     ]
    }
   ],
   "source": [
    "class A:\n",
    "    pass\n",
    "\n",
    "class B(A):\n",
    "    pass\n",
    "\n",
    "class C(A):\n",
    "    pass\n",
    "\n",
    "class D(B,C,A): # child, child parent,  parent, parent,parent\n",
    "    def method(self):\n",
    "        print(\"Class D\")\n",
    "\n",
    "class E(D):\n",
    "    def method(self):\n",
    "        print(\"Class E\")\n",
    "\n",
    "e = E()\n",
    "e.method()"
   ]
  },
  {
   "cell_type": "code",
   "execution_count": 27,
   "id": "d8ba0618-6ea7-40fa-91be-2251d263e1d0",
   "metadata": {},
   "outputs": [
    {
     "name": "stdout",
     "output_type": "stream",
     "text": [
      "Class D\n"
     ]
    }
   ],
   "source": [
    "d = D()\n",
    "d.method()"
   ]
  },
  {
   "cell_type": "markdown",
   "id": "6a44c522-fc1b-47c1-8132-4a8465342b41",
   "metadata": {},
   "source": [
    "# PolyMorphism"
   ]
  },
  {
   "cell_type": "code",
   "execution_count": null,
   "id": "6affae16-41fa-445a-9911-c79e82a2b8e2",
   "metadata": {},
   "outputs": [],
   "source": [
    "poly + morphism ---> Many Forms\n",
    "\n",
    "\n",
    "Its the ability of different object to respond to the same interface in their own specfic way\n",
    "Same method call can behave differently depeding on the object that recieve it."
   ]
  },
  {
   "cell_type": "code",
   "execution_count": 35,
   "id": "a62e9dcb-0734-44af-9e5b-f07816dfef17",
   "metadata": {},
   "outputs": [
    {
     "name": "stdout",
     "output_type": "stream",
     "text": [
      "I can not fly\n"
     ]
    }
   ],
   "source": [
    "class Parrot:\n",
    "    \n",
    "    def fly(self):\n",
    "        print(\"I can fly\")\n",
    "\n",
    "    def run(self):\n",
    "        print(\"I can not run\")\n",
    "\n",
    "class Penguin(Parrot):\n",
    "\n",
    "    def fly(self):\n",
    "        print(\"I can not fly\")\n",
    "\n",
    "    def run(self):\n",
    "        print(\"I can run\") \n",
    "\n",
    "\n",
    "p = Parrot()\n",
    "p2 = Penguin()\n",
    "\n",
    "\n",
    "def flying_test(cls):\n",
    "    cls.fly()\n",
    "\n",
    "flying_test(p2)\n",
    "#flying_test(p2)\n",
    "        "
   ]
  },
  {
   "cell_type": "markdown",
   "id": "51020106-8540-422b-aaa3-b6dbf6ebef61",
   "metadata": {},
   "source": [
    "## Type of PolyMorphism\n",
    "\n",
    "1- Method Overloading\n",
    "\n",
    "2- Method Overriding"
   ]
  },
  {
   "cell_type": "code",
   "execution_count": 39,
   "id": "9533f081-66f9-427c-98aa-d9f88abd0d4b",
   "metadata": {},
   "outputs": [
    {
     "name": "stdout",
     "output_type": "stream",
     "text": [
      "I can jump\n"
     ]
    }
   ],
   "source": [
    "#1- Method Overloading\n",
    "\n",
    "#rule 1 : Method overloading is happen within the same name of the class\n",
    "#rule 2 : Method overloading is happen within the same name of the class with different parameter even call the last name of method\n",
    "class Parrot:\n",
    "    \n",
    "    def fly(self):\n",
    "        print(\"I can fly\")\n",
    "\n",
    "    def run(self):\n",
    "        print(\"I can not run\")\n",
    "\n",
    "    def fly(self):\n",
    "        print(\"I can jump\")\n",
    "\n",
    "        \n",
    "p1 = Parrot()\n",
    "p1.fly()"
   ]
  },
  {
   "cell_type": "code",
   "execution_count": 41,
   "id": "638b0fef-9f7a-456e-9d1f-a6ba87b72222",
   "metadata": {},
   "outputs": [
    {
     "name": "stdout",
     "output_type": "stream",
     "text": [
      "I can not fly\n"
     ]
    }
   ],
   "source": [
    "#1- Method Overriding\n",
    "\n",
    "#it works on 2 different class, Method Overriding is required at least 2 class even one class can call to another class\n",
    "\n",
    "class Parrot:\n",
    "    \n",
    "    def fly(self):\n",
    "        print(\"I can fly\")\n",
    "\n",
    "    def run(self):\n",
    "        print(\"I can not run\")\n",
    "\n",
    "class Penguin(Parrot):\n",
    "\n",
    "    def fly(self):\n",
    "        print(\"I can not fly\")\n",
    "\n",
    "    def run(self):\n",
    "        print(\"I can run\") \n",
    "\n",
    "p3 = Penguin()\n",
    "p3.fly()"
   ]
  },
  {
   "cell_type": "code",
   "execution_count": null,
   "id": "2a5e046b-dd2e-41af-aeca-68e6d321af8e",
   "metadata": {},
   "outputs": [],
   "source": [
    "# Encapsulation\n",
    "\n",
    "Enacapsulation is hiding the information from outside of the world.\n",
    "\n",
    "Enacapsulation is hiding the information form others\n",
    "\n",
    "# denoted by\n",
    "__ = private\n",
    "\n",
    "- Acess modifiers \n",
    "\n",
    "    1- private Acess modifiers \n",
    "\n",
    "    2- public Acess modifiers \n",
    "    "
   ]
  },
  {
   "cell_type": "code",
   "execution_count": 47,
   "id": "091dde63-0ff9-4fbe-9724-8dfabd14cf59",
   "metadata": {},
   "outputs": [
    {
     "name": "stdout",
     "output_type": "stream",
     "text": [
      "I am started selling the computer parts\n",
      "None\n",
      "Medium\n"
     ]
    },
    {
     "ename": "AttributeError",
     "evalue": "'Computer' object has no attribute '__max_price'",
     "output_type": "error",
     "traceback": [
      "\u001b[31m---------------------------------------------------------------------------\u001b[39m",
      "\u001b[31mAttributeError\u001b[39m                            Traceback (most recent call last)",
      "\u001b[36mCell\u001b[39m\u001b[36m \u001b[39m\u001b[32mIn[47]\u001b[39m\u001b[32m, line 22\u001b[39m\n\u001b[32m     20\u001b[39m \u001b[38;5;66;03m#print(c.__maxprice) #  private acess modifier\u001b[39;00m\n\u001b[32m     21\u001b[39m \u001b[38;5;28mprint\u001b[39m(c.size) \u001b[38;5;66;03m# public acess modifier\u001b[39;00m\n\u001b[32m---> \u001b[39m\u001b[32m22\u001b[39m \u001b[38;5;28mprint\u001b[39m(\u001b[43mc\u001b[49m\u001b[43m.\u001b[49m\u001b[43m__max_price\u001b[49m())\n",
      "\u001b[31mAttributeError\u001b[39m: 'Computer' object has no attribute '__max_price'"
     ]
    }
   ],
   "source": [
    "class Computer:\n",
    "\n",
    "    def __init__(self):\n",
    "        self.__maxprice = 500\n",
    "        self.size = \"Medium\"\n",
    "\n",
    "    def sell(self):\n",
    "        print(\"I am started selling the computer parts\")\n",
    "\n",
    "    def price(self, price):\n",
    "        self.__maxprice = price\n",
    "        return self.__maxprice\n",
    "\n",
    "    def __max_price(self):\n",
    "        print(\"We are giving the max price\")\n",
    "\n",
    "c = Computer()\n",
    "\n",
    "print(c.sell())\n",
    "#print(c.__maxprice) #  private acess modifier\n",
    "print(c.size) # public acess modifier\n",
    "print(c.__max_price())\n",
    "        "
   ]
  },
  {
   "cell_type": "code",
   "execution_count": 48,
   "id": "e4d610d7-ca1f-479b-9283-0537b6432a00",
   "metadata": {},
   "outputs": [
    {
     "ename": "AttributeError",
     "evalue": "'Product' object has no attribute '__max_price'",
     "output_type": "error",
     "traceback": [
      "\u001b[31m---------------------------------------------------------------------------\u001b[39m",
      "\u001b[31mAttributeError\u001b[39m                            Traceback (most recent call last)",
      "\u001b[36mCell\u001b[39m\u001b[36m \u001b[39m\u001b[32mIn[48]\u001b[39m\u001b[32m, line 5\u001b[39m\n\u001b[32m      2\u001b[39m     \u001b[38;5;28;01mpass\u001b[39;00m\n\u001b[32m      4\u001b[39m p4 = Product()\n\u001b[32m----> \u001b[39m\u001b[32m5\u001b[39m \u001b[43mp4\u001b[49m\u001b[43m.\u001b[49m\u001b[43m__max_price\u001b[49m()\n",
      "\u001b[31mAttributeError\u001b[39m: 'Product' object has no attribute '__max_price'"
     ]
    }
   ],
   "source": [
    "class Product(Computer):\n",
    "    pass\n",
    "\n",
    "p4 = Product()\n",
    "p4.__max_price()\n",
    "\n",
    "    "
   ]
  },
  {
   "cell_type": "code",
   "execution_count": null,
   "id": "75a0c83e-9342-4498-b678-9971bc837001",
   "metadata": {},
   "outputs": [],
   "source": []
  }
 ],
 "metadata": {
  "kernelspec": {
   "display_name": "Python 3 (ipykernel)",
   "language": "python",
   "name": "python3"
  },
  "language_info": {
   "codemirror_mode": {
    "name": "ipython",
    "version": 3
   },
   "file_extension": ".py",
   "mimetype": "text/x-python",
   "name": "python",
   "nbconvert_exporter": "python",
   "pygments_lexer": "ipython3",
   "version": "3.13.3"
  }
 },
 "nbformat": 4,
 "nbformat_minor": 5
}
