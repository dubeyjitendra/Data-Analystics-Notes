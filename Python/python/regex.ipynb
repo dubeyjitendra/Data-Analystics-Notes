{
 "cells": [
  {
   "cell_type": "markdown",
   "id": "473193f8-b1aa-4f8d-a31d-5f8892385c69",
   "metadata": {},
   "source": [
    "# Regex - Regular expression\n",
    "\n",
    "    Regular expression are sequences of charatcers that form search patteren.\n",
    "\n",
    "    Used For :\n",
    "\n",
    "    1- Pattern Matching : finding specific pattern in text.\n",
    "\n",
    "    2- Data validation : checking if inputput matches expected format\n",
    "\n",
    "    3- Data CLeaning : Remove unwanted charatcers\n",
    "\n",
    "    4- Text Processing: Extracting and spilting the text"
   ]
  },
  {
   "cell_type": "code",
   "execution_count": 7,
   "id": "934af1b7-b48f-4cf3-9ada-d50fab29a5e9",
   "metadata": {},
   "outputs": [],
   "source": [
    "import re"
   ]
  },
  {
   "cell_type": "code",
   "execution_count": 18,
   "id": "99c1fc16-de03-44da-9f76-e96bbea4cf7c",
   "metadata": {},
   "outputs": [
    {
     "name": "stdout",
     "output_type": "stream",
     "text": [
      "Hello\n",
      "Hello\n"
     ]
    }
   ],
   "source": [
    "# search\n",
    "\n",
    "text = \"Hello World\"\n",
    "\n",
    "pattern = \"Hello\"\n",
    "match = re.search(pattern,text)\n",
    "print(match.group())\n",
    "\n",
    "# with case sensitive\n",
    "pattern = \"hello\"\n",
    "match = re.search(pattern,text,re.IGNORECASE)\n",
    "print(match.group())\n"
   ]
  },
  {
   "cell_type": "markdown",
   "id": "e7f28640-7a4c-4a18-845d-1379a195f887",
   "metadata": {},
   "source": [
    "# MetaCharacter"
   ]
  },
  {
   "cell_type": "markdown",
   "id": "73ea5a78-689a-42ef-b1d4-6b6edbc965cc",
   "metadata": {},
   "source": [
    "![](https://kb.4d.com/kbase/assets/images/77249-3.jpg)"
   ]
  },
  {
   "cell_type": "code",
   "execution_count": 53,
   "id": "5f9ef42b-6905-4f56-aedc-08bfa167fa6e",
   "metadata": {},
   "outputs": [
    {
     "name": "stdout",
     "output_type": "stream",
     "text": [
      "['abc', 'axc', 'a1c']\n",
      "['Hello']\n",
      "['World']\n",
      "['5', '3', '3', '3', '3', '3', '3']\n",
      "['5', '333333']\n",
      "['The', 'car', 'price', 'in', 'india', 'is', 'minimum', 'lakhs', 'and', 'other', 'country', 'has', 'more', 'than', 'india', 'india']\n",
      "['india', 'india', 'india']\n",
      "['india', 'india', 'india']\n",
      "['india', 'india', 'india']\n"
     ]
    }
   ],
   "source": [
    "# Dot Metacharacter\n",
    "\n",
    "print(re.findall(\"a..\",\"abc axc a1c\"))\n",
    "\n",
    "# start matching words\n",
    "print(re.findall(\"^Hello\",\"Hello World\"))\n",
    "\n",
    "# end matching words\n",
    "print(re.findall(\"World$\",\"Hello World\"))\n",
    "\n",
    "text = \"The car price in india is minimum 5 lakhs and other country has more than india,333333,india\"\n",
    "print(re.findall(\"[0-9]\",text))\n",
    "print(re.findall(\"[0-9]+\",text))\n",
    "print(re.findall(\"[a-zA-Z]+\",text))\n",
    "\n",
    "print(re.findall(\"india{1}\",text))\n",
    "print(re.findall(\"india*\",text))\n",
    "print(re.findall(\"india?\",text))"
   ]
  },
  {
   "cell_type": "markdown",
   "id": "8eabc039-cc91-4e4e-a197-3628a6b0e378",
   "metadata": {},
   "source": [
    "# Common Charatcer Classes\n",
    "\n",
    "![](https://miro.medium.com/v2/resize:fit:1244/1*-0KNCt7wBY1T6lt3mCkCuQ.png)"
   ]
  },
  {
   "cell_type": "code",
   "execution_count": 67,
   "id": "f85b4e1a-daaf-4e2c-937c-7fcd2f01ac07",
   "metadata": {},
   "outputs": [
    {
     "name": "stdout",
     "output_type": "stream",
     "text": [
      "['223232223', '23422']\n",
      "['example@gmail.com']\n"
     ]
    }
   ],
   "source": [
    "numbers =\"call me at this number 223232223, and my email id : example@gmail.com, My flat number is 23422 thrid floor\"\n",
    "\n",
    "# find all the numbers\n",
    "print(re.findall(r\"\\d+\",numbers))\n",
    "\n",
    "# FInd the email\n",
    "print(re.findall(r\"\\w+@\\w+.com\",numbers))"
   ]
  },
  {
   "cell_type": "code",
   "execution_count": 68,
   "id": "9df4873f-5a16-449f-b98c-c9fab8db02ac",
   "metadata": {},
   "outputs": [
    {
     "name": "stdout",
     "output_type": "stream",
     "text": [
      "['red', 'green']\n"
     ]
    }
   ],
   "source": [
    "text = \"the color is red or green\"\n",
    "print(re.findall(\"(?:red|green)\",text))\n"
   ]
  },
  {
   "cell_type": "code",
   "execution_count": 73,
   "id": "a1dacd5b-35b7-46da-a6de-6059782912e0",
   "metadata": {},
   "outputs": [
    {
     "name": "stdout",
     "output_type": "stream",
     "text": [
      "first\n",
      "line\n"
     ]
    }
   ],
   "source": [
    "text2 = \"\"\"first line we found something,\n",
    "\n",
    "Second line\n",
    "\n",
    "third line \n",
    "\"\"\"\n",
    "print(re.search(\"^first\",text2).group())\n",
    "\n",
    "print(re.search(\"line$\",text2,re.MULTILINE).group())\n"
   ]
  },
  {
   "cell_type": "code",
   "execution_count": 79,
   "id": "052742d4-6c0c-427f-b0f6-4ea68a7259bc",
   "metadata": {},
   "outputs": [
    {
     "name": "stdout",
     "output_type": "stream",
     "text": [
      "02555-12342322\n"
     ]
    }
   ],
   "source": [
    "# Match\n",
    "\n",
    "text = \"02555-12342322 is the number of place\"\n",
    "\n",
    "match_words = re.match(r\"\\d+-\\d+\",text)\n",
    "print(match_words.group())"
   ]
  },
  {
   "cell_type": "code",
   "execution_count": 83,
   "id": "e262b455-1dfd-4777-b679-e2cabcf7d0fa",
   "metadata": {},
   "outputs": [
    {
     "name": "stdout",
     "output_type": "stream",
     "text": [
      "demo@example.com\n",
      "example@gmail.com\n"
     ]
    }
   ],
   "source": [
    "# FIndIter\n",
    "text = \"Emails : demo@example.com and example@gmail.com\"\n",
    "\n",
    "matches = re.finditer(r\"\\w+@\\w+\\.\\w+\",text)\n",
    "for match in matches:\n",
    "    print(match.group())\n"
   ]
  },
  {
   "cell_type": "code",
   "execution_count": 93,
   "id": "b927df3c-1ab3-459a-b2c9-2d94d102ca2f",
   "metadata": {},
   "outputs": [
    {
     "name": "stdout",
     "output_type": "stream",
     "text": [
      "['apple', 'banana', 'orange', 'mango']\n"
     ]
    }
   ],
   "source": [
    "# split\n",
    "text = \"apple,banana:orange mango\"\n",
    "\n",
    "s = re.split(r\"[,: ]\",text)\n",
    "print(s)"
   ]
  },
  {
   "cell_type": "code",
   "execution_count": 95,
   "id": "df3d19f3-dfa0-4a40-979f-2e2dbac898e3",
   "metadata": {},
   "outputs": [
    {
     "data": {
      "text/plain": [
       "'2322323'"
      ]
     },
     "execution_count": 95,
     "metadata": {},
     "output_type": "execute_result"
    }
   ],
   "source": [
    "# compile\n",
    "\n",
    "text = \"my number is 2322323\"\n",
    "pattern = re.compile(r\"\\d+\")\n",
    "pattern.search(text).group()"
   ]
  },
  {
   "cell_type": "code",
   "execution_count": null,
   "id": "6b46c16a-ec52-498a-af20-56dc3639f3a0",
   "metadata": {},
   "outputs": [],
   "source": [
    "## Find and email ids\n",
    "\n",
    "1 -text = \" Thease are email which we need to find the email ids emails@.uk.com, ai@ai.com, invalid.email, 123@email-world.io\" \n",
    "\n",
    "Output - all emails is needed as output\n",
    "\n",
    "2- Text2 = \"\"\"\n",
    "my phone numbers are \n",
    "0542- 23232333\n",
    "2343232535\n",
    "3433-12122\n",
    "+91-745443534\n",
    "\n",
    "\"\"\"\n",
    "Out - all numbers is needed as output\n",
    "\n"
   ]
  }
 ],
 "metadata": {
  "kernelspec": {
   "display_name": "Python 3 (ipykernel)",
   "language": "python",
   "name": "python3"
  },
  "language_info": {
   "codemirror_mode": {
    "name": "ipython",
    "version": 3
   },
   "file_extension": ".py",
   "mimetype": "text/x-python",
   "name": "python",
   "nbconvert_exporter": "python",
   "pygments_lexer": "ipython3",
   "version": "3.13.3"
  }
 },
 "nbformat": 4,
 "nbformat_minor": 5
}
