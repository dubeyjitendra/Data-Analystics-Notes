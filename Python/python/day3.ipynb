{
 "cells": [
  {
   "cell_type": "code",
   "execution_count": 1,
   "id": "36285b1e-e9e7-4792-bbb6-b0e6f7d11996",
   "metadata": {},
   "outputs": [],
   "source": [
    "age=  50\n",
    "\n",
    "_age =  50\n",
    "\n",
    "name = \"john\"\n",
    "\n",
    "name1 = \"bob\"\n",
    "\n"
   ]
  },
  {
   "cell_type": "code",
   "execution_count": 2,
   "id": "abd4472d-8c6f-49fc-8d24-63132cda33f5",
   "metadata": {},
   "outputs": [
    {
     "name": "stdout",
     "output_type": "stream",
     "text": [
      "<class 'str'>\n"
     ]
    }
   ],
   "source": [
    "print(type(name))"
   ]
  },
  {
   "cell_type": "code",
   "execution_count": 5,
   "id": "59df9644-8d0f-45e1-943a-f977af9b6ac1",
   "metadata": {},
   "outputs": [
    {
     "name": "stdout",
     "output_type": "stream",
     "text": [
      "True\n"
     ]
    }
   ],
   "source": [
    "print(isinstance(name,str))"
   ]
  },
  {
   "cell_type": "code",
   "execution_count": 6,
   "id": "32266eb8-79da-47bb-b164-aa7dedc1868c",
   "metadata": {},
   "outputs": [
    {
     "name": "stdout",
     "output_type": "stream",
     "text": [
      "<class 'float'>\n"
     ]
    }
   ],
   "source": [
    "price = 10.5\n",
    "\n",
    "print(type(price))"
   ]
  },
  {
   "cell_type": "markdown",
   "id": "2f7be1aa-3673-4828-be64-d96bfa34db0c",
   "metadata": {},
   "source": [
    "# Basic Data Types"
   ]
  },
  {
   "cell_type": "markdown",
   "id": "9e4bb968-67e0-48c9-a550-3ee1bf30911b",
   "metadata": {},
   "source": [
    "# Numbers"
   ]
  },
  {
   "cell_type": "code",
   "execution_count": null,
   "id": "186f46fc-8b0f-46de-9d34-568eadd216c8",
   "metadata": {},
   "outputs": [],
   "source": [
    "height = 157 # integer\n",
    "\n",
    "cost= 1200.2345 # flaot\n",
    "\n",
    "z = 3 + 4j  # complex "
   ]
  },
  {
   "cell_type": "code",
   "execution_count": null,
   "id": "f3178ae2-b539-4ae1-b5f2-72ca8b76e06e",
   "metadata": {},
   "outputs": [],
   "source": [
    "# characteristics\n",
    "\n",
    "1- Arithematic operation ==> +,-,/,//,%,**\n",
    "\n",
    "# Use cases\n",
    "\n",
    "1- mathematical calculation\n",
    "2- index values\n",
    "3- Counter varaible\n",
    "4- boolean flags"
   ]
  },
  {
   "cell_type": "code",
   "execution_count": null,
   "id": "9a7665c9-81d9-4b90-a1a5-33b0ea0d669e",
   "metadata": {},
   "outputs": [],
   "source": [
    "# Integer Operations"
   ]
  },
  {
   "cell_type": "code",
   "execution_count": 27,
   "id": "dbb1cc7c-7679-4b5c-9d12-cc7c103a04dd",
   "metadata": {},
   "outputs": [
    {
     "name": "stdout",
     "output_type": "stream",
     "text": [
      " addition 13\n",
      " substraction 7\n",
      " multiplication 30\n",
      " division 3.3333333333333335\n",
      " floor division 3\n",
      " modulo 1\n",
      " power 1000\n"
     ]
    }
   ],
   "source": [
    "x, y =  10,3\n",
    "\n",
    "print(f\" addition {x + y}\")\n",
    "print(f\" substraction {x - y}\")\n",
    "print(f\" multiplication {x * y}\")\n",
    "print(f\" division {x / y}\")\n",
    "print(f\" floor division {x // y}\")\n",
    "print(f\" modulo {x % y}\") # remainder\n",
    "print(f\" power {x ** y}\")\n"
   ]
  },
  {
   "cell_type": "code",
   "execution_count": 36,
   "id": "038903c3-5639-41be-9014-f487296fc053",
   "metadata": {},
   "outputs": [
    {
     "name": "stdout",
     "output_type": "stream",
     "text": [
      "99.9098988\n",
      "99.91\n",
      "Price values with 2 letter : 99.91\n"
     ]
    }
   ],
   "source": [
    "# float\n",
    "\n",
    "price =  99.9098988\n",
    "print(price)\n",
    "\n",
    "print(round(price,2))\n",
    "print(f\"Price values with 2 letter : {price:.2f}\" )"
   ]
  },
  {
   "cell_type": "code",
   "execution_count": 40,
   "id": "8a67d089-5a27-4513-8bb9-660583d2c359",
   "metadata": {},
   "outputs": [
    {
     "name": "stdout",
     "output_type": "stream",
     "text": [
      "sum (4+2j)\n",
      "4.0\n",
      "2.0\n"
     ]
    }
   ],
   "source": [
    "# complex \n",
    "\n",
    "z1 = 3 + 4j\n",
    "z2 =  1 -  2j\n",
    "\n",
    "print(f\"sum {z1+z2}\")\n",
    "\n",
    "z3 =z1+z2\n",
    "\n",
    "print(z3.real)\n",
    "print(z3.imag)\n",
    "\n"
   ]
  },
  {
   "cell_type": "code",
   "execution_count": 48,
   "id": "4bb82d77-0cb0-49d3-95e2-066e19b4734b",
   "metadata": {},
   "outputs": [
    {
     "name": "stdout",
     "output_type": "stream",
     "text": [
      "=========== conversion string to int =========================\n",
      "<class 'str'>\n",
      "42\n",
      "<class 'int'>\n",
      "=========== conversion int to string =========================\n",
      "<class 'int'>\n",
      "42\n",
      "<class 'str'>\n",
      "=========== conversion int to float =========================\n",
      "<class 'int'>\n",
      "42.0\n",
      "<class 'float'>\n",
      "=========== conversion float to int =========================\n",
      "<class 'float'>\n",
      "42\n",
      "<class 'int'>\n"
     ]
    }
   ],
   "source": [
    "# Type Conversion\n",
    "\n",
    "# conversion string to int\n",
    "print(\"=========== conversion string to int =========================\")\n",
    "value = \"42\"\n",
    "print(type(value))\n",
    "\n",
    "convert_to_integer = int(value)\n",
    "print(convert_to_integer)\n",
    "print(type(convert_to_integer))\n",
    "\n",
    "# conversion int to string\n",
    "\n",
    "print(\"=========== conversion int to string =========================\")\n",
    "value1 = 42\n",
    "print(type(value1))\n",
    "\n",
    "convert_to_string = str(value1)\n",
    "print(convert_to_string)\n",
    "print(type(convert_to_string))\n",
    "\n",
    "print(\"=========== conversion int to float =========================\")\n",
    "\n",
    "value2 = 42\n",
    "print(type(value2))\n",
    "\n",
    "convert_to_float = float(value2)\n",
    "print(convert_to_float)\n",
    "print(type(convert_to_float))\n",
    "\n",
    "print(\"=========== conversion float to int =========================\")\n",
    "\n",
    "value3 = 42.03433\n",
    "print(type(value3))\n",
    "\n",
    "convert_to_int = int(value3)\n",
    "print(convert_to_int)\n",
    "print(type(convert_to_int))"
   ]
  },
  {
   "cell_type": "code",
   "execution_count": 49,
   "id": "265ee833-d2e8-450d-b05f-8d9bd0b4f0c1",
   "metadata": {},
   "outputs": [
    {
     "data": {
      "text/plain": [
       "['a', 'j', 'a', 'y', ' ', 'g', 'u', 'r', 'j', 'a', 'r']"
      ]
     },
     "execution_count": 49,
     "metadata": {},
     "output_type": "execute_result"
    }
   ],
   "source": [
    "s = \"ajay gurjar\"\n",
    "list(s)"
   ]
  },
  {
   "cell_type": "code",
   "execution_count": null,
   "id": "2fb2ac38-5cca-4234-a8e8-cf538d3ba13d",
   "metadata": {},
   "outputs": [],
   "source": []
  },
  {
   "cell_type": "code",
   "execution_count": 23,
   "id": "802c38fb-9eb1-4d23-be4d-e9d4e0783393",
   "metadata": {},
   "outputs": [
    {
     "data": {
      "text/plain": [
       "10"
      ]
     },
     "execution_count": 23,
     "metadata": {},
     "output_type": "execute_result"
    }
   ],
   "source": [
    "x"
   ]
  },
  {
   "cell_type": "code",
   "execution_count": null,
   "id": "2d06f224-98ac-40e3-89f3-d97ef277dd4d",
   "metadata": {},
   "outputs": [],
   "source": [
    "# mutable and Immutable\n",
    "\n",
    "Mutable - can be changes after creation\n",
    "\n",
    "Immutable - can not be changes after creation"
   ]
  },
  {
   "cell_type": "code",
   "execution_count": null,
   "id": "de127567-d66d-4973-b311-b660c06ba97e",
   "metadata": {},
   "outputs": [],
   "source": []
  },
  {
   "cell_type": "code",
   "execution_count": null,
   "id": "e9887df3-247a-46fe-b5a1-dd7be83d605d",
   "metadata": {},
   "outputs": [],
   "source": []
  },
  {
   "cell_type": "markdown",
   "id": "f3ae7534-7ebf-4f24-8b77-6e5a8f7d65cf",
   "metadata": {},
   "source": [
    "# Strings"
   ]
  },
  {
   "cell_type": "code",
   "execution_count": 7,
   "id": "011877c7-737f-430f-b34c-3503e09dec3f",
   "metadata": {},
   "outputs": [],
   "source": [
    "# strings\n",
    "\n",
    "single_quote = 'hello world'\n",
    "\n",
    "double_quote = \"Next world\"\n",
    "\n",
    "triple_quote = \"\"\" Hi, world\"\"\""
   ]
  },
  {
   "cell_type": "code",
   "execution_count": 8,
   "id": "ab6788ad-d33a-4b21-9abe-c9b604355496",
   "metadata": {},
   "outputs": [
    {
     "data": {
      "text/plain": [
       "'good morning'"
      ]
     },
     "execution_count": 8,
     "metadata": {},
     "output_type": "execute_result"
    }
   ],
   "source": [
    "# strings operations\n",
    "\n",
    "greet = \"good\" + \" \" + \"morning\" \n",
    "greet"
   ]
  },
  {
   "cell_type": "code",
   "execution_count": 10,
   "id": "d785bec0-724b-4cb0-8e51-9b9b00e66f63",
   "metadata": {},
   "outputs": [
    {
     "name": "stdout",
     "output_type": "stream",
     "text": [
      "hello hello hello hello hello \n"
     ]
    }
   ],
   "source": [
    "print(\"hello \" * 5)"
   ]
  },
  {
   "cell_type": "code",
   "execution_count": 16,
   "id": "43087503-343c-41cc-875d-098253fff918",
   "metadata": {},
   "outputs": [
    {
     "data": {
      "text/plain": [
       "\"my name is john and I'm 29\""
      ]
     },
     "execution_count": 16,
     "metadata": {},
     "output_type": "execute_result"
    }
   ],
   "source": [
    "# formatting\n",
    "name = \"john\"\n",
    "age =  29\n",
    "f1 = f\"my name is {name} and I'm {age}\"\n",
    "f1"
   ]
  },
  {
   "cell_type": "code",
   "execution_count": 14,
   "id": "e2de23c4-4694-40c6-acf9-9a8fd9a218f7",
   "metadata": {},
   "outputs": [
    {
     "data": {
      "text/plain": [
       "\"my name is john and I'm 29\""
      ]
     },
     "execution_count": 14,
     "metadata": {},
     "output_type": "execute_result"
    }
   ],
   "source": [
    "f2 = \"my name is {} and I'm {}\".format(name,age)\n",
    "f2"
   ]
  },
  {
   "cell_type": "code",
   "execution_count": 15,
   "id": "f9c2e0b0-0b93-4b8d-b532-49eea9348083",
   "metadata": {},
   "outputs": [
    {
     "data": {
      "text/plain": [
       "\"my name is john and I'm 29\""
      ]
     },
     "execution_count": 15,
     "metadata": {},
     "output_type": "execute_result"
    }
   ],
   "source": [
    "f3 = \"my name is %s and I'm %d\"%(name,age)\n",
    "f3"
   ]
  },
  {
   "cell_type": "code",
   "execution_count": null,
   "id": "4e311f48-a86b-416d-9d72-c5dd2f602d14",
   "metadata": {},
   "outputs": [],
   "source": []
  },
  {
   "cell_type": "code",
   "execution_count": 19,
   "id": "64f4b6f7-9dc7-42fe-baf1-1d313f4ebd68",
   "metadata": {},
   "outputs": [],
   "source": [
    "# Boolean\n",
    "\n",
    "is_true = True\n",
    "is_false = False\n",
    "\n",
    "var = 50 < 3"
   ]
  },
  {
   "cell_type": "code",
   "execution_count": 20,
   "id": "5df37367-714b-4e95-8612-81819ba7b9fc",
   "metadata": {},
   "outputs": [
    {
     "data": {
      "text/plain": [
       "False"
      ]
     },
     "execution_count": 20,
     "metadata": {},
     "output_type": "execute_result"
    }
   ],
   "source": [
    "var"
   ]
  },
  {
   "cell_type": "code",
   "execution_count": 21,
   "id": "4da36d7e-c69d-44bf-b9aa-0ce056d63999",
   "metadata": {},
   "outputs": [],
   "source": [
    "# None Type\n",
    "age = None\n"
   ]
  }
 ],
 "metadata": {
  "kernelspec": {
   "display_name": "Python 3 (ipykernel)",
   "language": "python",
   "name": "python3"
  },
  "language_info": {
   "codemirror_mode": {
    "name": "ipython",
    "version": 3
   },
   "file_extension": ".py",
   "mimetype": "text/x-python",
   "name": "python",
   "nbconvert_exporter": "python",
   "pygments_lexer": "ipython3",
   "version": "3.13.3"
  }
 },
 "nbformat": 4,
 "nbformat_minor": 5
}
