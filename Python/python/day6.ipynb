{
 "cells": [
  {
   "cell_type": "code",
   "execution_count": null,
   "id": "becb2cfc-c0cd-4d54-9b5b-a0a352858a48",
   "metadata": {},
   "outputs": [],
   "source": [
    "# Tuple\n",
    "\n",
    "tuple is denoted by round brackets\n",
    "\n",
    "- Tuple is Immutable(Can not modified after creation)\n",
    "\n",
    "- Ordered :  the elements is  maintain their position\n",
    "\n",
    "- Tuple is used the Indexed(0 - based)\n",
    "\n",
    "- Heterogenous -->it can store different data types\n",
    "\n",
    "\n",
    "# Characteristics\n",
    "\n",
    "1- Tuple is Fatser than list for access operations\n",
    "\n",
    "2- support mutiple assignment and Unpacking"
   ]
  },
  {
   "cell_type": "code",
   "execution_count": 2,
   "id": "0ddcefbc-928c-4607-9479-2420a19d8ca3",
   "metadata": {},
   "outputs": [
    {
     "data": {
      "text/plain": [
       "(10, 20)"
      ]
     },
     "execution_count": 2,
     "metadata": {},
     "output_type": "execute_result"
    }
   ],
   "source": [
    "x , y =  20, 10\n",
    "\n",
    "def calc(x,y):\n",
    "    return x, y\n",
    "\n",
    "calc(10,20)"
   ]
  },
  {
   "cell_type": "code",
   "execution_count": 4,
   "id": "2b90b46a-bee2-409c-a4e7-9080f6c276c3",
   "metadata": {},
   "outputs": [
    {
     "name": "stdout",
     "output_type": "stream",
     "text": [
      "()\n",
      "(1, 'john', 2.5, True, [123, 23, 423, 42, 432, 4])\n"
     ]
    }
   ],
   "source": [
    "# Operations\n",
    "\n",
    "tup = ()\n",
    "print(tup)\n",
    "tup1 = (1,\"john\",2.5,True,[123,23,423,42,432,4])\n",
    "print(tup1)"
   ]
  },
  {
   "cell_type": "code",
   "execution_count": 9,
   "id": "f31bd29b-97db-4045-9183-777e32a8d3c8",
   "metadata": {},
   "outputs": [
    {
     "data": {
      "text/plain": [
       "tuple"
      ]
     },
     "execution_count": 9,
     "metadata": {},
     "output_type": "execute_result"
    }
   ],
   "source": [
    "tup2 = (1,)\n",
    "type(tup2)"
   ]
  },
  {
   "cell_type": "code",
   "execution_count": 10,
   "id": "21bc55ff-a625-40aa-b169-5a9ac5085cd2",
   "metadata": {},
   "outputs": [
    {
     "name": "stdout",
     "output_type": "stream",
     "text": [
      "<class 'tuple'>\n"
     ]
    }
   ],
   "source": [
    "tup2 = (\"1\",)\n",
    "print(type(tup2))"
   ]
  },
  {
   "cell_type": "code",
   "execution_count": 21,
   "id": "df522b6b-cbc2-47d3-bdb8-1d99a42e5d29",
   "metadata": {},
   "outputs": [],
   "source": [
    "# unpacking\n",
    "values = 10, 20,30,\"hello world\"\n",
    "x,y,z,m = values  # unpacking"
   ]
  },
  {
   "cell_type": "code",
   "execution_count": 25,
   "id": "7374a4bb-f4ae-4245-b2eb-1e4750377e6b",
   "metadata": {},
   "outputs": [
    {
     "data": {
      "text/plain": [
       "'hello world'"
      ]
     },
     "execution_count": 25,
     "metadata": {},
     "output_type": "execute_result"
    }
   ],
   "source": [
    "m"
   ]
  },
  {
   "cell_type": "code",
   "execution_count": null,
   "id": "15e20c43-830b-4258-8960-538de95cb349",
   "metadata": {},
   "outputs": [],
   "source": [
    "# Indexing and slicing\n",
    "    --------------------> right to left (forword indexing)\n",
    "    0,  1, 2,3\n",
    "t = (10, 20,30,\"hello world\")\n",
    "\n",
    "   left to right <---------- ( backword indexing)\n",
    "    -1,-2,-3,-4\n",
    "\n"
   ]
  },
  {
   "cell_type": "code",
   "execution_count": 32,
   "id": "d7178739-44b7-4418-9080-c7485e7a4ee5",
   "metadata": {},
   "outputs": [
    {
     "name": "stdout",
     "output_type": "stream",
     "text": [
      "10\n",
      "hello world\n",
      "30\n",
      "(10, 20)\n"
     ]
    }
   ],
   "source": [
    "t = (10, 20,30,\"hello world\")\n",
    "\n",
    "print(t[0])\n",
    "print(t[3])\n",
    "print(t[-2])\n",
    "\n",
    "print(t[0:2])"
   ]
  },
  {
   "cell_type": "code",
   "execution_count": 37,
   "id": "f626d8ea-3915-4d2a-8a5d-f71eec03da22",
   "metadata": {},
   "outputs": [
    {
     "name": "stdout",
     "output_type": "stream",
     "text": [
      "9\n",
      "9\n",
      "2\n",
      "3\n"
     ]
    }
   ],
   "source": [
    "numbers = (2,4,5,6,7,8,9,2,2)\n",
    "\n",
    "print(len(numbers))\n",
    "print(max(numbers))\n",
    "print(min(numbers))\n",
    "print(numbers.count(2))"
   ]
  },
  {
   "cell_type": "code",
   "execution_count": null,
   "id": "21e7e785-3073-4409-ac94-1b75079f7ba3",
   "metadata": {},
   "outputs": [],
   "source": [
    "a,b = 20,40 \n",
    "\n",
    "a,b  = b,a # swap values"
   ]
  },
  {
   "cell_type": "code",
   "execution_count": null,
   "id": "f6aced65-be93-4acb-a332-bcc1cb4ea80e",
   "metadata": {},
   "outputs": [],
   "source": []
  }
 ],
 "metadata": {
  "kernelspec": {
   "display_name": "Python 3 (ipykernel)",
   "language": "python",
   "name": "python3"
  },
  "language_info": {
   "codemirror_mode": {
    "name": "ipython",
    "version": 3
   },
   "file_extension": ".py",
   "mimetype": "text/x-python",
   "name": "python",
   "nbconvert_exporter": "python",
   "pygments_lexer": "ipython3",
   "version": "3.13.3"
  }
 },
 "nbformat": 4,
 "nbformat_minor": 5
}
