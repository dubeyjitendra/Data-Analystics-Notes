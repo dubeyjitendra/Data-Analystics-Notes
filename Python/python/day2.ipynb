{
 "cells": [
  {
   "cell_type": "code",
   "execution_count": 2,
   "id": "f7fcc237-f7e7-4899-bab6-7e9321a872c4",
   "metadata": {},
   "outputs": [
    {
     "name": "stdout",
     "output_type": "stream",
     "text": [
      "hello world\n"
     ]
    }
   ],
   "source": [
    "print(\"hello world\")"
   ]
  },
  {
   "cell_type": "markdown",
   "id": "e7f6aa8d-f132-4aa8-ad86-c6d7866f018e",
   "metadata": {},
   "source": [
    "# Keyword"
   ]
  },
  {
   "cell_type": "code",
   "execution_count": 3,
   "id": "ba088795-62f2-464b-b7d3-7b1b8038e46f",
   "metadata": {},
   "outputs": [],
   "source": [
    "import keyword"
   ]
  },
  {
   "cell_type": "code",
   "execution_count": 6,
   "id": "b3a6d725-ef2a-41fd-96cf-9a9526931f02",
   "metadata": {},
   "outputs": [
    {
     "name": "stdout",
     "output_type": "stream",
     "text": [
      "['False', 'None', 'True', 'and', 'as', 'assert', 'async', 'await', 'break', 'class', 'continue', 'def', 'del', 'elif', 'else', 'except', 'finally', 'for', 'from', 'global', 'if', 'import', 'in', 'is', 'lambda', 'nonlocal', 'not', 'or', 'pass', 'raise', 'return', 'try', 'while', 'with', 'yield']\n"
     ]
    }
   ],
   "source": [
    "print(keyword.kwlist)"
   ]
  },
  {
   "cell_type": "code",
   "execution_count": 7,
   "id": "c191a667-123e-418d-9917-b1ac9274d8c7",
   "metadata": {},
   "outputs": [
    {
     "name": "stdout",
     "output_type": "stream",
     "text": [
      "35\n"
     ]
    }
   ],
   "source": [
    "print(len(keyword.kwlist))"
   ]
  },
  {
   "cell_type": "code",
   "execution_count": 9,
   "id": "632556cf-1c3f-48fe-a1e4-a2def21a9bcb",
   "metadata": {},
   "outputs": [
    {
     "data": {
      "text/plain": [
       "False"
      ]
     },
     "execution_count": 9,
     "metadata": {},
     "output_type": "execute_result"
    }
   ],
   "source": [
    "keyword.iskeyword('pritam')"
   ]
  },
  {
   "cell_type": "markdown",
   "id": "ceb0858f-5cb2-4333-95c9-6df24062dac7",
   "metadata": {},
   "source": [
    "# Comments "
   ]
  },
  {
   "cell_type": "code",
   "execution_count": 23,
   "id": "ea830b2e-c664-4e67-9c05-8e54d9558d18",
   "metadata": {},
   "outputs": [
    {
     "data": {
      "text/plain": [
       "30"
      ]
     },
     "execution_count": 23,
     "metadata": {},
     "output_type": "execute_result"
    }
   ],
   "source": [
    "# single line comments\n",
    "\n",
    "#print(\"Hi, there\")\n",
    "\n",
    "x = 5 # this is inline comment\n",
    "\n",
    "# Multi line comments\n",
    "\n",
    "'''if keyword.iskeyword(\"True\"):\n",
    "    print(x)'''\n",
    "\n",
    "\n",
    "# special comments for documentation\n",
    "\n",
    "def add(x,y):\n",
    "    \"\"\"\n",
    "        the add function has 2 input parameter, whereas \n",
    "        x-- > int\n",
    "        y-- > int\n",
    "        z -- > it is storing the value of x  + y \n",
    "    \"\"\"\n",
    "\n",
    "    z = x + y\n",
    "\n",
    "    return z\n",
    "    \n",
    "add(10,20)\n",
    " "
   ]
  },
  {
   "cell_type": "code",
   "execution_count": 20,
   "id": "d0889c00-6ad3-4c7f-bb16-770d8760e71a",
   "metadata": {},
   "outputs": [],
   "source": [
    "import sys"
   ]
  },
  {
   "cell_type": "code",
   "execution_count": 21,
   "id": "178ed967-6bd9-4852-94e9-343356e05839",
   "metadata": {},
   "outputs": [
    {
     "data": {
      "text/plain": [
       "'3.13.3 (tags/v3.13.3:6280bb5, Apr  8 2025, 14:47:33) [MSC v.1943 64 bit (AMD64)]'"
      ]
     },
     "execution_count": 21,
     "metadata": {},
     "output_type": "execute_result"
    }
   ],
   "source": [
    "sys.version"
   ]
  },
  {
   "cell_type": "markdown",
   "id": "36489c3e-3d39-423b-b210-85c303b555b5",
   "metadata": {},
   "source": [
    "# Variables"
   ]
  },
  {
   "cell_type": "code",
   "execution_count": 28,
   "id": "48579fd6-6325-41dd-82a3-06a89a2b6c1e",
   "metadata": {},
   "outputs": [],
   "source": [
    "_x = \"Alice\""
   ]
  },
  {
   "cell_type": "code",
   "execution_count": 29,
   "id": "f2c51e51-7f28-4c1d-9195-af7d140987e6",
   "metadata": {},
   "outputs": [],
   "source": [
    "_X = \"john\""
   ]
  },
  {
   "cell_type": "code",
   "execution_count": 30,
   "id": "d8dbe524-e169-42b6-a607-efb720cf9e26",
   "metadata": {},
   "outputs": [
    {
     "data": {
      "text/plain": [
       "str"
      ]
     },
     "execution_count": 30,
     "metadata": {},
     "output_type": "execute_result"
    }
   ],
   "source": [
    "type(x)"
   ]
  },
  {
   "cell_type": "code",
   "execution_count": 32,
   "id": "443596a9-2968-4023-a4d5-6c77279b0021",
   "metadata": {},
   "outputs": [
    {
     "data": {
      "text/plain": [
       "'john'"
      ]
     },
     "execution_count": 32,
     "metadata": {},
     "output_type": "execute_result"
    }
   ],
   "source": [
    "_X"
   ]
  },
  {
   "cell_type": "code",
   "execution_count": 26,
   "id": "bb467ef3-9364-40f3-ad2d-8056bca5550a",
   "metadata": {},
   "outputs": [],
   "source": [
    "# variable naming rules\n",
    "1- Must start with letter or underscore\n",
    "\n",
    "2- Can obtain letter , number, and underscore\n",
    "\n",
    "3-  first word can not start with number\n",
    "\n",
    "4- case-sensitive language\n",
    "\n",
    "5- you can not use python keywords\n",
    "\n"
   ]
  },
  {
   "cell_type": "code",
   "execution_count": null,
   "id": "19d315b4-2097-4d66-9ccb-384cae896bc6",
   "metadata": {},
   "outputs": [],
   "source": []
  }
 ],
 "metadata": {
  "kernelspec": {
   "display_name": "Python 3 (ipykernel)",
   "language": "python",
   "name": "python3"
  },
  "language_info": {
   "codemirror_mode": {
    "name": "ipython",
    "version": 3
   },
   "file_extension": ".py",
   "mimetype": "text/x-python",
   "name": "python",
   "nbconvert_exporter": "python",
   "pygments_lexer": "ipython3",
   "version": "3.13.3"
  }
 },
 "nbformat": 4,
 "nbformat_minor": 5
}
