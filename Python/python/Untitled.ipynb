{
 "cells": [
  {
   "cell_type": "code",
   "execution_count": 2,
   "id": "12774694-38e0-4296-9052-1965e4f8c5d9",
   "metadata": {},
   "outputs": [
    {
     "data": {
      "text/plain": [
       "30"
      ]
     },
     "execution_count": 2,
     "metadata": {},
     "output_type": "execute_result"
    }
   ],
   "source": [
    "# Iterators\n",
    "\n",
    "def add(a,b):\n",
    "    z = a + b\n",
    "    return z\n",
    "\n",
    "add(10,20)"
   ]
  },
  {
   "cell_type": "code",
   "execution_count": 15,
   "id": "96eae8ae-38e4-46b5-9e57-598cfa650c93",
   "metadata": {},
   "outputs": [],
   "source": [
    "my_list = [10,20,30]\n",
    "\n",
    "my_iter = iter(my_list) # converting "
   ]
  },
  {
   "cell_type": "code",
   "execution_count": 24,
   "id": "aee4b023-3328-45bc-aed9-e0700a1469d0",
   "metadata": {},
   "outputs": [
    {
     "data": {
      "text/plain": [
       "<list_iterator at 0x2cda6d458a0>"
      ]
     },
     "execution_count": 24,
     "metadata": {},
     "output_type": "execute_result"
    }
   ],
   "source": [
    "iter(my_list)"
   ]
  },
  {
   "cell_type": "code",
   "execution_count": 4,
   "id": "b4ada70f-7532-45a9-923b-0f086353e35a",
   "metadata": {},
   "outputs": [
    {
     "name": "stdout",
     "output_type": "stream",
     "text": [
      "10\n",
      "20\n",
      "30\n"
     ]
    }
   ],
   "source": [
    "for i in iter(my_list):\n",
    "    print(i)"
   ]
  },
  {
   "cell_type": "code",
   "execution_count": 18,
   "id": "dff1372c-1cc6-4acf-ad8f-3d8beb57e1ac",
   "metadata": {},
   "outputs": [
    {
     "name": "stdout",
     "output_type": "stream",
     "text": [
      "30\n"
     ]
    }
   ],
   "source": [
    "print(next(my_iter))"
   ]
  },
  {
   "cell_type": "code",
   "execution_count": 13,
   "id": "4ca3d462-0d76-46c8-bdc8-37a7a84aee6f",
   "metadata": {},
   "outputs": [
    {
     "name": "stdout",
     "output_type": "stream",
     "text": [
      "20\n"
     ]
    }
   ],
   "source": [
    "print(next(my_iter))"
   ]
  },
  {
   "cell_type": "code",
   "execution_count": 14,
   "id": "c77357fb-1724-4824-8959-59794d5af277",
   "metadata": {},
   "outputs": [
    {
     "name": "stdout",
     "output_type": "stream",
     "text": [
      "30\n"
     ]
    }
   ],
   "source": [
    "print(next(my_iter))"
   ]
  },
  {
   "cell_type": "code",
   "execution_count": 22,
   "id": "4befd983-2467-4a95-a53a-55a5eaae8205",
   "metadata": {},
   "outputs": [
    {
     "name": "stdout",
     "output_type": "stream",
     "text": [
      "[23, 234, 11, 4, 5]\n"
     ]
    }
   ],
   "source": [
    "lst = [23,234,11]\n",
    "\n",
    "lst.append(4)\n",
    "lst.append(5)\n",
    "print(lst)"
   ]
  },
  {
   "cell_type": "code",
   "execution_count": 23,
   "id": "5cd350c3-1876-4a13-976e-1d9b58a4ed88",
   "metadata": {},
   "outputs": [
    {
     "data": {
      "text/plain": [
       "<generator object counter at 0x000002CDA6A5A380>"
      ]
     },
     "execution_count": 23,
     "metadata": {},
     "output_type": "execute_result"
    }
   ],
   "source": [
    "# generator\n",
    "\n",
    "# generators are a simpler way to create iterator using the functions with \"Yield\" statement.\n",
    "\n",
    "def counter(n):\n",
    "    i = 0\n",
    "    while i <=n:\n",
    "        yield i\n",
    "        i+=1\n",
    "counter(10)"
   ]
  },
  {
   "cell_type": "code",
   "execution_count": 25,
   "id": "ed718ce9-e14e-41df-8c54-a671a1a5f78f",
   "metadata": {},
   "outputs": [],
   "source": [
    "my_generator = counter(10)"
   ]
  },
  {
   "cell_type": "code",
   "execution_count": 31,
   "id": "7c420ddd-4a2a-4198-8b83-fcecd33dc1a4",
   "metadata": {},
   "outputs": [
    {
     "data": {
      "text/plain": [
       "5"
      ]
     },
     "execution_count": 31,
     "metadata": {},
     "output_type": "execute_result"
    }
   ],
   "source": [
    "next(my_generator)"
   ]
  },
  {
   "cell_type": "code",
   "execution_count": 32,
   "id": "74383271-128a-44ef-b1e2-6c1c71f31b64",
   "metadata": {},
   "outputs": [
    {
     "name": "stdout",
     "output_type": "stream",
     "text": [
      "6\n",
      "7\n",
      "8\n",
      "9\n",
      "10\n"
     ]
    }
   ],
   "source": [
    "for num in my_generator:\n",
    "    print(num)\n"
   ]
  },
  {
   "cell_type": "code",
   "execution_count": null,
   "id": "6d3f60cf-c3b0-4588-85bd-eb9960c427cc",
   "metadata": {},
   "outputs": [],
   "source": [
    "# Decorator\n",
    "\n",
    "definition1 - a function call function is called the decorator \n",
    "\n",
    "Or\n",
    "\n",
    "a function call inside the function is called the decorator \n",
    "\n",
    "Or\n",
    "\n",
    "Decorator are functions that modify or extend the behaviour of other functions without modify"
   ]
  },
  {
   "cell_type": "code",
   "execution_count": null,
   "id": "0dc307b8-a0c1-4888-834b-a82271821b8e",
   "metadata": {},
   "outputs": [],
   "source": [
    "# Baisc"
   ]
  },
  {
   "cell_type": "code",
   "execution_count": 33,
   "id": "150b3cf3-f099-4fb1-8007-6aa2ffc4095f",
   "metadata": {},
   "outputs": [],
   "source": [
    "def hello_world():\n",
    "    \n",
    "    def hello():\n",
    "        print(\"Hi I am Hello function\")\n",
    "        \n",
    "    return hello"
   ]
  },
  {
   "cell_type": "code",
   "execution_count": 35,
   "id": "75ab2c4d-265a-4957-9cca-3413c8e17291",
   "metadata": {},
   "outputs": [],
   "source": [
    "h = hello_world()"
   ]
  },
  {
   "cell_type": "code",
   "execution_count": 36,
   "id": "0510db61-498f-4243-9a86-d046a3ade446",
   "metadata": {},
   "outputs": [
    {
     "name": "stdout",
     "output_type": "stream",
     "text": [
      "Hi I am Hello function\n"
     ]
    }
   ],
   "source": [
    "h()"
   ]
  },
  {
   "cell_type": "code",
   "execution_count": 37,
   "id": "4cf5a978-2b6c-473f-94b5-daf1cb10d25a",
   "metadata": {},
   "outputs": [
    {
     "data": {
      "text/plain": [
       "30"
      ]
     },
     "execution_count": 37,
     "metadata": {},
     "output_type": "execute_result"
    }
   ],
   "source": [
    "# 2\n",
    "\n",
    "def outer(x):\n",
    "\n",
    "    def inner(y):\n",
    "        return x + y\n",
    "    return inner\n",
    "    \n",
    "add = outer(10)\n",
    "add(20)"
   ]
  },
  {
   "cell_type": "code",
   "execution_count": 38,
   "id": "c7e04bf1-731f-46c0-9c0d-65970a2c7c8f",
   "metadata": {},
   "outputs": [],
   "source": [
    "# @\n",
    "\n",
    "def make(func):\n",
    "\n",
    "    def inner():\n",
    "        print(\"I am the decorator function\")\n",
    "        func()\n",
    "    return inner"
   ]
  },
  {
   "cell_type": "code",
   "execution_count": 47,
   "id": "844cf5d7-fca1-41a2-9ab1-481478b013b9",
   "metadata": {},
   "outputs": [],
   "source": [
    "\n",
    "@make\n",
    "def outer():\n",
    "    print(\"I am the outer function\")"
   ]
  },
  {
   "cell_type": "code",
   "execution_count": 48,
   "id": "0bfd9082-693f-4c0d-ac8d-ad83f9d86302",
   "metadata": {},
   "outputs": [
    {
     "name": "stdout",
     "output_type": "stream",
     "text": [
      "I am the decorator function\n",
      "I am the outer function\n"
     ]
    }
   ],
   "source": [
    "outer()"
   ]
  },
  {
   "cell_type": "code",
   "execution_count": 56,
   "id": "89095f93-5d45-4dbb-aa5c-35840c5b0ada",
   "metadata": {},
   "outputs": [],
   "source": [
    "@make\n",
    "def add():\n",
    "    print(eval(\"10+20\"))\n"
   ]
  },
  {
   "cell_type": "code",
   "execution_count": 57,
   "id": "a19d8b51-4a65-4ef5-9c0a-663a94f9b982",
   "metadata": {},
   "outputs": [
    {
     "name": "stdout",
     "output_type": "stream",
     "text": [
      "I am the decorator function\n",
      "30\n"
     ]
    }
   ],
   "source": [
    "add()"
   ]
  },
  {
   "cell_type": "code",
   "execution_count": 58,
   "id": "191da626-e322-4bfc-9db1-81e6d444119a",
   "metadata": {},
   "outputs": [],
   "source": [
    "# \n",
    "def s_divide(func):\n",
    "\n",
    "    def inner(a,b):\n",
    "        if b == 0:\n",
    "            print(\"You can not divide anything by zero\")\n",
    "            return\n",
    "        return func(a,b)\n",
    "    return inner\n"
   ]
  },
  {
   "cell_type": "code",
   "execution_count": 60,
   "id": "99522532-dedf-4510-93a8-1053848a6444",
   "metadata": {},
   "outputs": [
    {
     "name": "stdout",
     "output_type": "stream",
     "text": [
      "0.4\n",
      "You can not divide anything by zero\n"
     ]
    }
   ],
   "source": [
    "@s_divide\n",
    "def divide(a,b):\n",
    "    print(a/b)\n",
    "\n",
    "divide(2,5)\n",
    "divide(2,0)"
   ]
  },
  {
   "cell_type": "code",
   "execution_count": null,
   "id": "f19c7786-e7e6-4434-bf1b-2f816b5587ea",
   "metadata": {},
   "outputs": [],
   "source": []
  }
 ],
 "metadata": {
  "kernelspec": {
   "display_name": "Python 3 (ipykernel)",
   "language": "python",
   "name": "python3"
  },
  "language_info": {
   "codemirror_mode": {
    "name": "ipython",
    "version": 3
   },
   "file_extension": ".py",
   "mimetype": "text/x-python",
   "name": "python",
   "nbconvert_exporter": "python",
   "pygments_lexer": "ipython3",
   "version": "3.13.3"
  }
 },
 "nbformat": 4,
 "nbformat_minor": 5
}
