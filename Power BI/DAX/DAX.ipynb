{
 "cells": [
  {
   "cell_type": "code",
   "execution_count": null,
   "id": "eb2a4f92",
   "metadata": {},
   "outputs": [],
   "source": [
    "DAX - Data Analysis Expressions\n",
    "\n",
    "DAX - DAX is a formula Expression language and can be used in POWER BI and VIsualization tools"
   ]
  },
  {
   "cell_type": "code",
   "execution_count": null,
   "id": "86054dd2",
   "metadata": {},
   "outputs": [],
   "source": [
    "DAX Function\n",
    "\n",
    "1- Aggregate\n",
    "\n",
    "2- text\n",
    "\n",
    "3- date\n",
    "\n",
    "4- Counting\n",
    "\n",
    "5- Logical"
   ]
  }
 ],
 "metadata": {
  "kernelspec": {
   "display_name": "Python 3 (ipykernel)",
   "language": "python",
   "name": "python3"
  },
  "language_info": {
   "codemirror_mode": {
    "name": "ipython",
    "version": 3
   },
   "file_extension": ".py",
   "mimetype": "text/x-python",
   "name": "python",
   "nbconvert_exporter": "python",
   "pygments_lexer": "ipython3",
   "version": "3.8.8"
  }
 },
 "nbformat": 4,
 "nbformat_minor": 5
}
