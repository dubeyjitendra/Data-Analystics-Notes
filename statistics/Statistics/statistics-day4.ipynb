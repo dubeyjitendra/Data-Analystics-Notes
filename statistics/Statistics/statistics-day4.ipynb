{
 "cells": [
  {
   "cell_type": "code",
   "execution_count": null,
   "id": "07cddcb0-b76d-493a-8e0e-3e3e14c1640d",
   "metadata": {},
   "outputs": [],
   "source": [
    "# Inferential statistics\n",
    "\n",
    "It is allowing us to draw conclusion about population based on sample data.\n",
    "\n",
    "\n",
    "Population -- N-whole data \n",
    "\n",
    "sample -- n - small numbers of data\n",
    "\n",
    "\n",
    "What is the purpose :\n",
    "\n",
    "1- To forecast future outcomes.\n",
    "2- to extends the results from a small samples to an entire population.\n",
    "3- test hypothesis \n",
    "    1- Null hypothesis(Ho)\n",
    "    2- ALternative hypothesis(H1)\n",
    "\n",
    "4- Estimate parameters"
   ]
  },
  {
   "cell_type": "code",
   "execution_count": null,
   "id": "378fe665-ab2c-45e1-ad3d-ead53a5d7ea1",
   "metadata": {},
   "outputs": [],
   "source": [
    "# Types of Inferential statistics\n",
    "\n",
    "1- Hypothesis Testing\n",
    "\n",
    "    - Z-test\n",
    "    - T-test\n",
    "    - F-test\n",
    "    - confidence interval - Provide the range of values within which a population parameter is likely to fall within certian level of confidence\n",
    "    - ANOVA(Analysis of variance)- Compare the means of more than two groups to see how they differ fromaone another\n",
    "\n",
    "\n",
    "2- Regression Analysis\n",
    "\n",
    "    - Linear Regression\n",
    "    - Multi-Linear Regression\n",
    "    - Nomial Regression\n",
    "    - Logistic Regression\n"
   ]
  },
  {
   "cell_type": "code",
   "execution_count": null,
   "id": "1ceef15d-ece6-47e6-ba26-7aab2bd2d0ee",
   "metadata": {},
   "outputs": [],
   "source": []
  }
 ],
 "metadata": {
  "kernelspec": {
   "display_name": "Python 3 (ipykernel)",
   "language": "python",
   "name": "python3"
  },
  "language_info": {
   "codemirror_mode": {
    "name": "ipython",
    "version": 3
   },
   "file_extension": ".py",
   "mimetype": "text/x-python",
   "name": "python",
   "nbconvert_exporter": "python",
   "pygments_lexer": "ipython3",
   "version": "3.13.3"
  }
 },
 "nbformat": 4,
 "nbformat_minor": 5
}
