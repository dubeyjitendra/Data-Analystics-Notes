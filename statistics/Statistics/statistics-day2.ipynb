{
 "cells": [
  {
   "cell_type": "code",
   "execution_count": null,
   "id": "0338d217-8cbe-4945-b317-0124cc69aea8",
   "metadata": {},
   "outputs": [],
   "source": [
    "# Measure of dispersion \n",
    "\n",
    "- Nee to quantify, how spread out  or scattered the data points in the dataset are around a central value(like mean, median, mode)\n",
    "\n",
    "- it describes the extent to which values in a dataset differ from each other or from the central.\n"
   ]
  },
  {
   "cell_type": "code",
   "execution_count": null,
   "id": "00f519cb-6950-49e6-8eff-1f51b70fde49",
   "metadata": {},
   "outputs": [],
   "source": [
    "# Types of Measure of dispersion \n",
    "\n",
    "1- Range\n",
    "\n",
    "2- IQR\n",
    "\n",
    "3- Variance\n",
    "\n",
    "4- statand deviation"
   ]
  },
  {
   "cell_type": "markdown",
   "id": "23bf670d-110c-4af2-b2e1-6965a7ccbe75",
   "metadata": {},
   "source": [
    "# Range"
   ]
  },
  {
   "cell_type": "code",
   "execution_count": null,
   "id": "60f8359c-17f7-408a-bb13-9e60e6f2ba6e",
   "metadata": {},
   "outputs": [],
   "source": [
    "# definition -- \n",
    "the difference between the maximum and minimum value in dataset\n",
    "\n",
    "Range = Maximum value - Minimum value"
   ]
  },
  {
   "cell_type": "code",
   "execution_count": 2,
   "id": "a3da8478-42b0-411e-ae8b-f86705d334a8",
   "metadata": {},
   "outputs": [],
   "source": [
    "import numpy as np\n",
    "import statistics as s"
   ]
  },
  {
   "cell_type": "code",
   "execution_count": 1,
   "id": "36d5fdba-0a9e-4e83-8233-51c65497c0f4",
   "metadata": {},
   "outputs": [
    {
     "data": {
      "text/plain": [
       "19"
      ]
     },
     "execution_count": 1,
     "metadata": {},
     "output_type": "execute_result"
    }
   ],
   "source": [
    "lst = [4,8,15,16,23]\n",
    "value = max(lst) - min(lst)\n",
    "value\n"
   ]
  },
  {
   "cell_type": "markdown",
   "id": "6a9cf624-95e7-4200-a111-941956979f3e",
   "metadata": {},
   "source": [
    "# IQR"
   ]
  },
  {
   "cell_type": "code",
   "execution_count": null,
   "id": "fdbb70fb-0ed4-4041-ae88-b473c9e4765e",
   "metadata": {},
   "outputs": [],
   "source": [
    "IQR = Q3 - Q1\n",
    "\n",
    "Definition  : The Range of middle 50% of the data , calculated the differnce between the 3rd quartile  and first 1st quartile "
   ]
  },
  {
   "cell_type": "code",
   "execution_count": 3,
   "id": "5ce6b4c1-11ee-4343-a2cc-761c1517abbe",
   "metadata": {},
   "outputs": [
    {
     "data": {
      "text/plain": [
       "[1, 4, 7, 8, 15, 16, 23]"
      ]
     },
     "execution_count": 3,
     "metadata": {},
     "output_type": "execute_result"
    }
   ],
   "source": [
    "lst  = [4,8,15,16,23,1,7]\n",
    "\n",
    "lst = sorted(lst)\n",
    "lst"
   ]
  },
  {
   "cell_type": "code",
   "execution_count": null,
   "id": "60b9e861-a4a5-44a3-8bea-e28be8a01e73",
   "metadata": {},
   "outputs": [],
   "source": [
    "Q1 = 1 /4 (n+1)nth terms --- lower bound \n",
    "\n",
    "Q3 =  3 /4 (n+1)nth terms  ---upper bound\n",
    "\n",
    "IQR = Q3- Q1"
   ]
  },
  {
   "cell_type": "code",
   "execution_count": 12,
   "id": "98eb519b-0f91-4ed6-ba25-20ae7d3fbe6c",
   "metadata": {},
   "outputs": [
    {
     "data": {
      "text/plain": [
       "2.0"
      ]
     },
     "execution_count": 12,
     "metadata": {},
     "output_type": "execute_result"
    }
   ],
   "source": [
    "Q1 = 1 / 4 *(7+1)\n",
    "Q1 # --- it is returning the index value of 2"
   ]
  },
  {
   "cell_type": "code",
   "execution_count": 10,
   "id": "32567062-367b-45f1-9075-c3a505e1b3dc",
   "metadata": {},
   "outputs": [
    {
     "data": {
      "text/plain": [
       "6.0"
      ]
     },
     "execution_count": 10,
     "metadata": {},
     "output_type": "execute_result"
    }
   ],
   "source": [
    "Q3 = 3/4 * (7 + 1)\n",
    "Q3  # --- it is returning the index value of 6"
   ]
  },
  {
   "cell_type": "code",
   "execution_count": 14,
   "id": "41b57043-058e-4121-95e9-29a9d6d4f043",
   "metadata": {},
   "outputs": [
    {
     "data": {
      "text/plain": [
       "16"
      ]
     },
     "execution_count": 14,
     "metadata": {},
     "output_type": "execute_result"
    }
   ],
   "source": [
    "Q1  = 7 \n",
    "Q3 =  23\n",
    "\n",
    "IQR = Q3 -  Q1\n",
    "IQR"
   ]
  },
  {
   "cell_type": "code",
   "execution_count": 16,
   "id": "8bf3878d-7cc6-4864-8af1-1692fdb5b470",
   "metadata": {},
   "outputs": [
    {
     "data": {
      "text/plain": [
       "10.571428571428571"
      ]
     },
     "execution_count": 16,
     "metadata": {},
     "output_type": "execute_result"
    }
   ],
   "source": [
    "lst  = [4,8,15,16,23,1,7] \n",
    "\n",
    "sum(lst)/7"
   ]
  },
  {
   "cell_type": "code",
   "execution_count": null,
   "id": "ec7702a4-c296-4982-af0f-65fe433c7dbd",
   "metadata": {},
   "outputs": [],
   "source": [
    "# Variance\n",
    "\n",
    "the average of the squared differnece between each data point and the mean.\n",
    "\n",
    "lst  = [4,8,15,16,23,1,7]\n",
    "Mean value  = 10\n",
    "\n",
    "(4 -10)2 = (-6)2 ===> 36 + 4 + 22 + 22+ 29 +2+3 / 7\n",
    "\n",
    "Population  -- whole \n",
    "\n",
    "Population Variance (σ²): Σ(xᵢ - μ)² / N\n",
    "\n",
    "where xi is each data point , mu --> is the mean N is the total no of data points\n",
    "\n",
    "\n",
    "Sample --  sample\n",
    "\n",
    "Sample Variance (s²): Σ(xᵢ - x̄)² / (n - 1)\n",
    "where xi is each data point , mu --> is the mean n is the no of sample size"
   ]
  },
  {
   "cell_type": "code",
   "execution_count": 17,
   "id": "91931db0-7b9f-4f1d-91a5-58c27e164980",
   "metadata": {},
   "outputs": [
    {
     "data": {
      "text/plain": [
       "59.61904761904762"
      ]
     },
     "execution_count": 17,
     "metadata": {},
     "output_type": "execute_result"
    }
   ],
   "source": [
    "lst  = [4,8,15,16,23,1,7]\n",
    "\n",
    "s.variance(lst)"
   ]
  },
  {
   "cell_type": "markdown",
   "id": "92ba27c7-c56f-44b8-a370-c5d88a82e5ea",
   "metadata": {},
   "source": [
    "# Standard deviation --> squraed root of variance is called standard deviation\n",
    "\n",
    "![](https://images.shiksha.com/mediadata/ugcDocuments/images/wordpressImages/2022_09_formula-of-population-standard-deviation.jpg)"
   ]
  },
  {
   "cell_type": "code",
   "execution_count": null,
   "id": "56f46714-e327-4991-b00a-7cba681164dc",
   "metadata": {},
   "outputs": [],
   "source": []
  },
  {
   "cell_type": "code",
   "execution_count": 24,
   "id": "882e84ce-ea41-476c-8219-38cc56f5d4d9",
   "metadata": {},
   "outputs": [
    {
     "data": {
      "text/plain": [
       "[4, 8, 15, 16, 23, 1, 7]"
      ]
     },
     "execution_count": 24,
     "metadata": {},
     "output_type": "execute_result"
    }
   ],
   "source": [
    "lst"
   ]
  },
  {
   "cell_type": "code",
   "execution_count": 23,
   "id": "60a64e55-7953-442b-8b43-1e7215697a53",
   "metadata": {},
   "outputs": [
    {
     "data": {
      "text/plain": [
       "7.7213371652225895"
      ]
     },
     "execution_count": 23,
     "metadata": {},
     "output_type": "execute_result"
    }
   ],
   "source": [
    "s.stdev(lst) "
   ]
  },
  {
   "cell_type": "code",
   "execution_count": null,
   "id": "57307a5b-b18b-4c6b-a1f1-15ee73fb0ba1",
   "metadata": {},
   "outputs": [],
   "source": []
  }
 ],
 "metadata": {
  "kernelspec": {
   "display_name": "Python 3 (ipykernel)",
   "language": "python",
   "name": "python3"
  },
  "language_info": {
   "codemirror_mode": {
    "name": "ipython",
    "version": 3
   },
   "file_extension": ".py",
   "mimetype": "text/x-python",
   "name": "python",
   "nbconvert_exporter": "python",
   "pygments_lexer": "ipython3",
   "version": "3.13.3"
  }
 },
 "nbformat": 4,
 "nbformat_minor": 5
}
