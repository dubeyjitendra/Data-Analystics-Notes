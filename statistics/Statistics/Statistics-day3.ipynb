{
 "cells": [
  {
   "cell_type": "code",
   "execution_count": null,
   "id": "418f959a-d6e7-4730-b6bc-7a48c9bd128e",
   "metadata": {},
   "outputs": [],
   "source": [
    "- Variables or Data types\n",
    "- Normal distribution"
   ]
  },
  {
   "cell_type": "markdown",
   "id": "1696e005-9871-4fd2-a80f-b412e13ae0f3",
   "metadata": {},
   "source": [
    "# Variables or Data types"
   ]
  },
  {
   "cell_type": "code",
   "execution_count": null,
   "id": "2abb5d8b-00f6-4615-b049-2e3c0bf3d093",
   "metadata": {},
   "outputs": [],
   "source": [
    "1- Qualitative(catgorical) data\n",
    "    1- Nominal Data\n",
    "        - Categories with no inherent order or ranking\n",
    "            examples - Blood group(A,B,AB,O) hair color(black, brown) , Gender(Male and Female) \n",
    "    2- Ordinal data\n",
    "        - Categories that have a natural order or ranking\n",
    "            exaples - Human life cycle(Born-->child-->adult-->midage-->old age), grade(A,B,C), income(low, medium, high\n",
    "\n",
    "2- Qunatative(numerical) data\n",
    "    1- discreate Data\n",
    "        - countable whole number  ---> often represtening \"How Many\"\n",
    "           examples- cricket match,No of children in your family                                                                                          \n",
    "                                                                                                              \n",
    "    2- continuous Data\n",
    "        - can take any value from the range\n",
    "        examples - heights, weight, temperature    \n"
   ]
  },
  {
   "attachments": {},
   "cell_type": "markdown",
   "id": "d7d4179f-b7ce-463d-b006-4651277d95a8",
   "metadata": {},
   "source": [
    "# Standard Normal Distribution\n",
    "\n",
    "![](https://media.licdn.com/dms/image/v2/D5612AQHOIMLZir_fNw/article-cover_image-shrink_720_1280/article-cover_image-shrink_720_1280/0/1709288139142?e=2147483647&v=beta&t=k2YuMVlY3ZGGbIwVROu-EM73uE-dzVhCRVqWH7P45TY)"
   ]
  },
  {
   "cell_type": "code",
   "execution_count": null,
   "id": "5d55b475-9495-4726-8b0c-64903120b41a",
   "metadata": {},
   "outputs": [],
   "source": [
    "A special Bell-shaped probablity distribution with mean = 0 And sigma(standard distibution)=1\n",
    "\n",
    "- Properties(empirical rules)\n",
    "\n",
    "    1-  About 68% of data falls within 1 standrad deviation of the mean\n",
    "    2-  About 95% of data falls within 2 standrad deviation\n",
    "    3-  About 99% of data falls within 3 standrad deviation\n",
    "\n"
   ]
  }
 ],
 "metadata": {
  "kernelspec": {
   "display_name": "Python 3 (ipykernel)",
   "language": "python",
   "name": "python3"
  },
  "language_info": {
   "codemirror_mode": {
    "name": "ipython",
    "version": 3
   },
   "file_extension": ".py",
   "mimetype": "text/x-python",
   "name": "python",
   "nbconvert_exporter": "python",
   "pygments_lexer": "ipython3",
   "version": "3.13.3"
  }
 },
 "nbformat": 4,
 "nbformat_minor": 5
}
