{
 "cells": [
  {
   "cell_type": "code",
   "execution_count": null,
   "id": "310e5635-654f-4b99-b5ac-9b91df58d1ae",
   "metadata": {},
   "outputs": [],
   "source": [
    "statistics--->\n",
    "\n",
    "statistics is the branch of science which helps to undersatnd the analyzing , summarizing and collecting the data for \n",
    "making the decision.\n",
    "\n",
    "types of statistics:\n",
    "\n",
    "    1- descriptive statistics : \n",
    "        - the data is available on physical form.\n",
    "        - we have complete data available, its called population\n",
    "        - we used that data for analyzing and summarazing based on numeric and chracters forms.\n",
    "        - we'll represent that data in the different different forms like - table, pivot form, charts, frequency table, image etc.       \n",
    "\n",
    "\n",
    "    2- Inferential statistics\n",
    "\n",
    "    - we have a small data, its called sample.\n",
    "    - To make a decision based on small data to make a decision that's called Inferential statistics\n",
    "    eg - election poll, bloup group identify, to identify fishes from sea etc.\n",
    "    \n",
    "    "
   ]
  },
  {
   "cell_type": "markdown",
   "id": "85842ce6-9a08-498b-af77-f295d62396ad",
   "metadata": {},
   "source": [
    "# descriptive statistics"
   ]
  },
  {
   "cell_type": "code",
   "execution_count": null,
   "id": "6c007d1e-b456-44ea-a544-1f268d655d3f",
   "metadata": {},
   "outputs": [],
   "source": [
    "1- measure of central tendency\n",
    "2- measure of dispersion"
   ]
  },
  {
   "cell_type": "markdown",
   "id": "57deb272-5c14-44ad-bc5b-fdb0949b5c8d",
   "metadata": {},
   "source": [
    "# 1- measure of central tendency\n",
    "\n",
    "    - Mean\n",
    "    - Median\n",
    "    - Mode"
   ]
  },
  {
   "cell_type": "code",
   "execution_count": 2,
   "id": "a7d57c38-ccac-41c8-b8d8-ba883099934d",
   "metadata": {},
   "outputs": [
    {
     "data": {
      "text/plain": [
       "4.5"
      ]
     },
     "execution_count": 2,
     "metadata": {},
     "output_type": "execute_result"
    }
   ],
   "source": [
    "# mean\n",
    "\n",
    "# formula - add all no of items / count of total numbers \n",
    "\n",
    "# formula -  2 + 3+ 4+ 5+ 6+ 7/ 6\n",
    "\n",
    "values = [2,3,4,5,6,7]\n",
    "\n",
    "mean = sum(values) / 6\n",
    "mean\n",
    "\n"
   ]
  },
  {
   "cell_type": "code",
   "execution_count": 4,
   "id": "b3a00992-69e7-44a2-92d9-7b035cd79f40",
   "metadata": {},
   "outputs": [
    {
     "data": {
      "text/plain": [
       "4.5"
      ]
     },
     "execution_count": 4,
     "metadata": {},
     "output_type": "execute_result"
    }
   ],
   "source": [
    "(2 + 3+ 4+ 5+ 6+ 7)/ 6\n",
    "\n",
    "\n",
    "#BODMAS RULE ----> Bracket, Orders,Divide,multiple,addition,substraction"
   ]
  },
  {
   "cell_type": "code",
   "execution_count": 5,
   "id": "1bc0921b-53dd-4db5-a0d3-185fe86a781b",
   "metadata": {},
   "outputs": [],
   "source": [
    "import numpy as np"
   ]
  },
  {
   "cell_type": "code",
   "execution_count": 7,
   "id": "37bd3206-7982-474d-b092-e01c66830757",
   "metadata": {},
   "outputs": [
    {
     "name": "stdout",
     "output_type": "stream",
     "text": [
      "4.5\n"
     ]
    }
   ],
   "source": [
    "print(np.mean(values))"
   ]
  },
  {
   "cell_type": "markdown",
   "id": "fe4a2f39-161c-4f91-9ea2-994274e93e97",
   "metadata": {},
   "source": [
    "# Median"
   ]
  },
  {
   "cell_type": "code",
   "execution_count": null,
   "id": "2ab68dee-6536-4b04-85c6-1a6be2428f76",
   "metadata": {},
   "outputs": [],
   "source": [
    "# odd\n",
    "\n",
    "1,2,3\n",
    "N + 1 / 2\n",
    "\n",
    "# even\n",
    "1,2\n",
    "N/2 + 1"
   ]
  },
  {
   "cell_type": "code",
   "execution_count": 8,
   "id": "93672644-e6a3-4880-a345-6871ca1bc9c8",
   "metadata": {},
   "outputs": [
    {
     "name": "stdout",
     "output_type": "stream",
     "text": [
      "2.0\n"
     ]
    }
   ],
   "source": [
    "lst = [1,2,3]\n",
    "\n",
    "print(np.median(lst))"
   ]
  },
  {
   "cell_type": "code",
   "execution_count": 9,
   "id": "6254c540-f67b-4db3-83ce-033359c006c3",
   "metadata": {},
   "outputs": [
    {
     "data": {
      "text/plain": [
       "2.0"
      ]
     },
     "execution_count": 9,
     "metadata": {},
     "output_type": "execute_result"
    }
   ],
   "source": [
    "(3 + 1 ) /2 "
   ]
  },
  {
   "cell_type": "code",
   "execution_count": 12,
   "id": "a09b8c17-6322-4c1b-acf7-24f7962b294b",
   "metadata": {},
   "outputs": [
    {
     "data": {
      "text/plain": [
       "5"
      ]
     },
     "execution_count": 12,
     "metadata": {},
     "output_type": "execute_result"
    }
   ],
   "source": [
    "# Mode\n",
    "lst2 =[1,2,3,4,5,5,6,7,8]\n",
    "import statistics as s \n",
    "s.mode(lst2)"
   ]
  },
  {
   "cell_type": "code",
   "execution_count": null,
   "id": "123edffa-0883-4a3b-af0b-650ff2e6efee",
   "metadata": {},
   "outputs": [],
   "source": []
  }
 ],
 "metadata": {
  "kernelspec": {
   "display_name": "Python 3 (ipykernel)",
   "language": "python",
   "name": "python3"
  },
  "language_info": {
   "codemirror_mode": {
    "name": "ipython",
    "version": 3
   },
   "file_extension": ".py",
   "mimetype": "text/x-python",
   "name": "python",
   "nbconvert_exporter": "python",
   "pygments_lexer": "ipython3",
   "version": "3.13.3"
  }
 },
 "nbformat": 4,
 "nbformat_minor": 5
}
