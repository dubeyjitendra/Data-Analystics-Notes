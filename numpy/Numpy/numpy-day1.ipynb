{
 "cells": [
  {
   "cell_type": "code",
   "execution_count": null,
   "id": "0205bce3-935f-4270-be45-10dbeda566de",
   "metadata": {},
   "outputs": [],
   "source": [
    "numpy --> numerical + python\n",
    "\n",
    "scipy --->\n",
    "\n",
    "numpy --> numpy is basically use for multidimensional arrays and metrics\n",
    "\n",
    "\n",
    "travis oliphant -  2005\n",
    "\n",
    "release 1.0 version in 2006."
   ]
  },
  {
   "cell_type": "code",
   "execution_count": 2,
   "id": "91ea382e-4cca-4697-9d96-8a1fc0fb7ea8",
   "metadata": {},
   "outputs": [
    {
     "data": {
      "text/plain": [
       "'11'"
      ]
     },
     "execution_count": 2,
     "metadata": {},
     "output_type": "execute_result"
    }
   ],
   "source": [
    "\"1\" + \"1\""
   ]
  },
  {
   "cell_type": "code",
   "execution_count": 3,
   "id": "d782fbfc-ac62-4993-81c8-68fdf400609b",
   "metadata": {},
   "outputs": [
    {
     "name": "stdout",
     "output_type": "stream",
     "text": [
      "Requirement already satisfied: numpy in c:\\users\\jitud\\appdata\\local\\programs\\python\\python313\\lib\\site-packages (2.2.6)\n"
     ]
    },
    {
     "name": "stderr",
     "output_type": "stream",
     "text": [
      "\n",
      "[notice] A new release of pip is available: 25.1.1 -> 25.2\n",
      "[notice] To update, run: python.exe -m pip install --upgrade pip\n"
     ]
    }
   ],
   "source": [
    "!pip install numpy"
   ]
  },
  {
   "cell_type": "code",
   "execution_count": 4,
   "id": "ddacca90-5a5f-442a-a323-dd9e90e5919f",
   "metadata": {},
   "outputs": [],
   "source": [
    "import numpy as np"
   ]
  },
  {
   "cell_type": "code",
   "execution_count": 5,
   "id": "75ee30c8-1621-4a1b-92c2-0f74e2c5426f",
   "metadata": {},
   "outputs": [
    {
     "data": {
      "text/plain": [
       "'2.2.6'"
      ]
     },
     "execution_count": 5,
     "metadata": {},
     "output_type": "execute_result"
    }
   ],
   "source": [
    "np.__version__"
   ]
  },
  {
   "cell_type": "markdown",
   "id": "c4e753ac-af60-428f-bf96-0b2c821343aa",
   "metadata": {},
   "source": [
    "# 1 dimension"
   ]
  },
  {
   "cell_type": "code",
   "execution_count": 9,
   "id": "f4590823-fd23-45d3-a8ec-81bbe6959438",
   "metadata": {},
   "outputs": [
    {
     "name": "stdout",
     "output_type": "stream",
     "text": [
      "[20, 30, 40, 50]\n"
     ]
    },
    {
     "data": {
      "text/plain": [
       "array([20, 30, 40, 50])"
      ]
     },
     "execution_count": 9,
     "metadata": {},
     "output_type": "execute_result"
    }
   ],
   "source": [
    "# convert list to array\n",
    "\n",
    "\n",
    "my_list = [20,30,40,50]\n",
    "print(my_list)\n",
    "myarray = np.array(my_list)\n",
    "myarray"
   ]
  },
  {
   "cell_type": "code",
   "execution_count": 10,
   "id": "6cddcccb-3ce7-4e41-b91d-f7fdcdbf5129",
   "metadata": {},
   "outputs": [
    {
     "data": {
      "text/plain": [
       "list"
      ]
     },
     "execution_count": 10,
     "metadata": {},
     "output_type": "execute_result"
    }
   ],
   "source": [
    "type(my_list)"
   ]
  },
  {
   "cell_type": "code",
   "execution_count": 11,
   "id": "e171606c-2c46-4f4e-be35-de8032211879",
   "metadata": {},
   "outputs": [
    {
     "data": {
      "text/plain": [
       "numpy.ndarray"
      ]
     },
     "execution_count": 11,
     "metadata": {},
     "output_type": "execute_result"
    }
   ],
   "source": [
    "type(myarray)"
   ]
  },
  {
   "cell_type": "code",
   "execution_count": 12,
   "id": "316a3ff0-3570-48b9-bebe-1fa4442e6abc",
   "metadata": {},
   "outputs": [
    {
     "data": {
      "text/plain": [
       "array([1, 2, 3, 4, 5])"
      ]
     },
     "execution_count": 12,
     "metadata": {},
     "output_type": "execute_result"
    }
   ],
   "source": [
    "np.array(range(1,6))"
   ]
  },
  {
   "cell_type": "markdown",
   "id": "1287e1cc-d0e6-458e-bdc0-f770ce0b5063",
   "metadata": {},
   "source": [
    "# 2 dimension(2d)"
   ]
  },
  {
   "cell_type": "code",
   "execution_count": 13,
   "id": "71607811-1f14-4544-a8d0-873979f95a48",
   "metadata": {},
   "outputs": [
    {
     "data": {
      "text/plain": [
       "array([[1, 2],\n",
       "       [3, 4]])"
      ]
     },
     "execution_count": 13,
     "metadata": {},
     "output_type": "execute_result"
    }
   ],
   "source": [
    "d2 = np.array([[1,2],[3,4]])\n",
    "d2"
   ]
  },
  {
   "cell_type": "code",
   "execution_count": 14,
   "id": "47f2de41-9e90-4eaa-b022-4a289190bb2f",
   "metadata": {},
   "outputs": [
    {
     "data": {
      "text/plain": [
       "(2, 2)"
      ]
     },
     "execution_count": 14,
     "metadata": {},
     "output_type": "execute_result"
    }
   ],
   "source": [
    "d2.shape"
   ]
  },
  {
   "cell_type": "code",
   "execution_count": 15,
   "id": "ad52b140-9aba-42dc-a876-6480b116f28d",
   "metadata": {},
   "outputs": [
    {
     "data": {
      "text/plain": [
       "numpy.ndarray"
      ]
     },
     "execution_count": 15,
     "metadata": {},
     "output_type": "execute_result"
    }
   ],
   "source": [
    "type(d2)"
   ]
  },
  {
   "cell_type": "code",
   "execution_count": 16,
   "id": "91977431-7df8-47af-b675-bfd44d6091e0",
   "metadata": {},
   "outputs": [
    {
     "data": {
      "text/plain": [
       "2"
      ]
     },
     "execution_count": 16,
     "metadata": {},
     "output_type": "execute_result"
    }
   ],
   "source": [
    "d2.ndim # to know the dimension"
   ]
  },
  {
   "cell_type": "code",
   "execution_count": 17,
   "id": "e0e449ff-371c-4b92-a1a4-81febba8af41",
   "metadata": {},
   "outputs": [
    {
     "data": {
      "text/plain": [
       "32"
      ]
     },
     "execution_count": 17,
     "metadata": {},
     "output_type": "execute_result"
    }
   ],
   "source": [
    "d2.nbytes"
   ]
  },
  {
   "cell_type": "code",
   "execution_count": 18,
   "id": "97ac171b-576f-4f82-97c7-fe4a505a5cad",
   "metadata": {},
   "outputs": [
    {
     "data": {
      "text/plain": [
       "4"
      ]
     },
     "execution_count": 18,
     "metadata": {},
     "output_type": "execute_result"
    }
   ],
   "source": [
    "d2.size"
   ]
  },
  {
   "cell_type": "code",
   "execution_count": 19,
   "id": "94bfe4d6-e3cb-4e39-a0f0-475c13bf4c2d",
   "metadata": {},
   "outputs": [
    {
     "data": {
      "text/plain": [
       "array([[ True, False],\n",
       "       [False,  True]])"
      ]
     },
     "execution_count": 19,
     "metadata": {},
     "output_type": "execute_result"
    }
   ],
   "source": [
    "d3 = np.array([[True, False],[False, True]])\n",
    "d3"
   ]
  },
  {
   "cell_type": "code",
   "execution_count": 20,
   "id": "f306eec5-4f26-4f9c-aa03-795136a950a3",
   "metadata": {},
   "outputs": [
    {
     "data": {
      "text/plain": [
       "(2, 2)"
      ]
     },
     "execution_count": 20,
     "metadata": {},
     "output_type": "execute_result"
    }
   ],
   "source": [
    "d3.shape"
   ]
  },
  {
   "cell_type": "markdown",
   "id": "fd6cc014-cc7d-45cc-850b-9471deca07c5",
   "metadata": {},
   "source": [
    "# 3D"
   ]
  },
  {
   "cell_type": "code",
   "execution_count": 34,
   "id": "142c9af3-206d-43c9-9082-864842ff0d9d",
   "metadata": {},
   "outputs": [
    {
     "data": {
      "text/plain": [
       "array([[[1, 2],\n",
       "        [3, 4],\n",
       "        [4, 5]]])"
      ]
     },
     "execution_count": 34,
     "metadata": {},
     "output_type": "execute_result"
    }
   ],
   "source": [
    "d3 = np.array([[[1,2],[3,4],[4,5]]])\n",
    "d3"
   ]
  },
  {
   "cell_type": "code",
   "execution_count": 35,
   "id": "fa37b1ec-5536-4349-a5ff-44db378a5ccf",
   "metadata": {},
   "outputs": [
    {
     "data": {
      "text/plain": [
       "3"
      ]
     },
     "execution_count": 35,
     "metadata": {},
     "output_type": "execute_result"
    }
   ],
   "source": [
    "d3.ndim"
   ]
  },
  {
   "cell_type": "code",
   "execution_count": 36,
   "id": "3f1f36e9-08d6-4fc8-ba04-23c2c10ff560",
   "metadata": {},
   "outputs": [
    {
     "data": {
      "text/plain": [
       "(1, 3, 2)"
      ]
     },
     "execution_count": 36,
     "metadata": {},
     "output_type": "execute_result"
    }
   ],
   "source": [
    "d3.shape"
   ]
  },
  {
   "cell_type": "markdown",
   "id": "d27b5363-8dd8-4f98-95c0-cd985f4ffe3d",
   "metadata": {},
   "source": [
    "# Array with random number\n",
    "\n"
   ]
  },
  {
   "cell_type": "code",
   "execution_count": null,
   "id": "b69b6424-2b3b-4f32-81db-4384a6eaba1c",
   "metadata": {},
   "outputs": [],
   "source": [
    "# rand() --> generate a new number"
   ]
  },
  {
   "cell_type": "code",
   "execution_count": 40,
   "id": "592e96f2-0940-4e96-9dd2-59831dac3931",
   "metadata": {},
   "outputs": [
    {
     "data": {
      "text/plain": [
       "0.13152334757433426"
      ]
     },
     "execution_count": 40,
     "metadata": {},
     "output_type": "execute_result"
    }
   ],
   "source": [
    "np.random.rand()"
   ]
  },
  {
   "cell_type": "code",
   "execution_count": 44,
   "id": "eb0b2e53-776d-4753-93de-6056598b6238",
   "metadata": {},
   "outputs": [
    {
     "data": {
      "text/plain": [
       "array([0.37674613, 0.63755376, 0.31668569])"
      ]
     },
     "execution_count": 44,
     "metadata": {},
     "output_type": "execute_result"
    }
   ],
   "source": [
    "np.random.rand(3)"
   ]
  },
  {
   "cell_type": "code",
   "execution_count": 46,
   "id": "0f3b68a2-d93a-4acc-ab8e-ac2a399770bc",
   "metadata": {},
   "outputs": [
    {
     "data": {
      "text/plain": [
       "array([[0.00324818, 0.01584879],\n",
       "       [0.97827107, 0.86280402]])"
      ]
     },
     "execution_count": 46,
     "metadata": {},
     "output_type": "execute_result"
    }
   ],
   "source": [
    "np.random.rand(2,2)"
   ]
  },
  {
   "cell_type": "code",
   "execution_count": 48,
   "id": "eea7624d-3a94-4e8a-8cb7-f6005efa3a51",
   "metadata": {},
   "outputs": [
    {
     "data": {
      "text/plain": [
       "21"
      ]
     },
     "execution_count": 48,
     "metadata": {},
     "output_type": "execute_result"
    }
   ],
   "source": [
    "# randint \n",
    "\n",
    "np.random.randint(2,100)"
   ]
  },
  {
   "cell_type": "code",
   "execution_count": 60,
   "id": "c38733c0-7b72-4307-a71f-953fb9454901",
   "metadata": {},
   "outputs": [],
   "source": [
    "x = np.random.randint(2,10000,5)"
   ]
  },
  {
   "cell_type": "code",
   "execution_count": 61,
   "id": "db8b2ca3-ea8a-4b57-bc1e-df9a55e4a097",
   "metadata": {},
   "outputs": [
    {
     "data": {
      "text/plain": [
       "array([8509, 9877, 5212, 4029, 3163], dtype=int32)"
      ]
     },
     "execution_count": 61,
     "metadata": {},
     "output_type": "execute_result"
    }
   ],
   "source": [
    "x"
   ]
  },
  {
   "cell_type": "code",
   "execution_count": 62,
   "id": "3dc7ed12-ba93-4062-a86b-b62c61e37abc",
   "metadata": {},
   "outputs": [
    {
     "data": {
      "text/plain": [
       "np.int32(9877)"
      ]
     },
     "execution_count": 62,
     "metadata": {},
     "output_type": "execute_result"
    }
   ],
   "source": [
    "x.max()"
   ]
  },
  {
   "cell_type": "code",
   "execution_count": 63,
   "id": "fd7ef8aa-e16e-430f-8c75-ea7234f9f862",
   "metadata": {},
   "outputs": [
    {
     "data": {
      "text/plain": [
       "np.int32(3163)"
      ]
     },
     "execution_count": 63,
     "metadata": {},
     "output_type": "execute_result"
    }
   ],
   "source": [
    "x.min()"
   ]
  },
  {
   "cell_type": "code",
   "execution_count": 65,
   "id": "e3593a60-7f15-4144-b4e5-ab9a7680e92e",
   "metadata": {},
   "outputs": [
    {
     "data": {
      "text/plain": [
       "np.int64(1)"
      ]
     },
     "execution_count": 65,
     "metadata": {},
     "output_type": "execute_result"
    }
   ],
   "source": [
    "x.argmax()"
   ]
  },
  {
   "cell_type": "code",
   "execution_count": null,
   "id": "4d1ea713-ca39-4d0d-9e90-b15ad72cd546",
   "metadata": {},
   "outputs": [],
   "source": []
  }
 ],
 "metadata": {
  "kernelspec": {
   "display_name": "Python 3 (ipykernel)",
   "language": "python",
   "name": "python3"
  },
  "language_info": {
   "codemirror_mode": {
    "name": "ipython",
    "version": 3
   },
   "file_extension": ".py",
   "mimetype": "text/x-python",
   "name": "python",
   "nbconvert_exporter": "python",
   "pygments_lexer": "ipython3",
   "version": "3.13.3"
  }
 },
 "nbformat": 4,
 "nbformat_minor": 5
}
