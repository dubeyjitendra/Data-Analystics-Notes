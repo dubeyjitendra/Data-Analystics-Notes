{
 "cells": [
  {
   "cell_type": "markdown",
   "id": "e0cb9786-f702-4401-8745-8aa4aac19cb6",
   "metadata": {},
   "source": [
    "# Numpy Function"
   ]
  },
  {
   "cell_type": "code",
   "execution_count": 1,
   "id": "6a9c7eca-8d7f-4266-9ab5-0d948f9b6f49",
   "metadata": {},
   "outputs": [],
   "source": [
    "import numpy as np"
   ]
  },
  {
   "cell_type": "code",
   "execution_count": 2,
   "id": "2e3f1b7b-2235-4653-84fb-3ee2abaa2a55",
   "metadata": {},
   "outputs": [
    {
     "data": {
      "text/plain": [
       "array([0., 0., 0., 0.])"
      ]
     },
     "execution_count": 2,
     "metadata": {},
     "output_type": "execute_result"
    }
   ],
   "source": [
    "# zeros\n",
    "\n",
    "np.zeros(4)"
   ]
  },
  {
   "cell_type": "code",
   "execution_count": 4,
   "id": "b1af703b-cbc2-4760-a491-8534b7844667",
   "metadata": {},
   "outputs": [
    {
     "data": {
      "text/plain": [
       "array([[0., 0., 0., 0.],\n",
       "       [0., 0., 0., 0.]])"
      ]
     },
     "execution_count": 4,
     "metadata": {},
     "output_type": "execute_result"
    }
   ],
   "source": [
    "np.zeros((2,4))"
   ]
  },
  {
   "cell_type": "code",
   "execution_count": 12,
   "id": "71a49825-f266-4dca-9c36-5abc7d10f31f",
   "metadata": {},
   "outputs": [
    {
     "data": {
      "text/plain": [
       "array([[0, 0, 0, 0],\n",
       "       [0, 0, 0, 0]])"
      ]
     },
     "execution_count": 12,
     "metadata": {},
     "output_type": "execute_result"
    }
   ],
   "source": [
    "np.zeros((2,4),dtype =\"int\")"
   ]
  },
  {
   "cell_type": "code",
   "execution_count": 14,
   "id": "90a6e3d2-1e1f-40da-8e24-2028c8a98b4a",
   "metadata": {},
   "outputs": [
    {
     "data": {
      "text/plain": [
       "array([1, 1, 1, 1])"
      ]
     },
     "execution_count": 14,
     "metadata": {},
     "output_type": "execute_result"
    }
   ],
   "source": [
    "# ones\n",
    "\n",
    "np.ones(4,dtype=\"int\")"
   ]
  },
  {
   "cell_type": "code",
   "execution_count": 16,
   "id": "82dd384a-3a76-4d2f-830c-dd480a495cef",
   "metadata": {},
   "outputs": [
    {
     "data": {
      "text/plain": [
       "array([[1, 1],\n",
       "       [1, 1],\n",
       "       [1, 1],\n",
       "       [1, 1]])"
      ]
     },
     "execution_count": 16,
     "metadata": {},
     "output_type": "execute_result"
    }
   ],
   "source": [
    "np.ones((4,2),dtype=\"int\")"
   ]
  },
  {
   "cell_type": "code",
   "execution_count": 28,
   "id": "98fe5abf-ea75-4eef-8841-c3860d5604a4",
   "metadata": {},
   "outputs": [
    {
     "data": {
      "text/plain": [
       "array([[50, 50],\n",
       "       [50, 50],\n",
       "       [50, 50],\n",
       "       [50, 50]])"
      ]
     },
     "execution_count": 28,
     "metadata": {},
     "output_type": "execute_result"
    }
   ],
   "source": [
    "np.ones((4,2),dtype=\"int\") * 2 * 5 *5"
   ]
  },
  {
   "cell_type": "code",
   "execution_count": 33,
   "id": "7ce9172f-9bb5-4334-a120-95650f08b9da",
   "metadata": {},
   "outputs": [
    {
     "data": {
      "text/plain": [
       "array([[2, 2, 2],\n",
       "       [2, 2, 2],\n",
       "       [2, 2, 2]])"
      ]
     },
     "execution_count": 33,
     "metadata": {},
     "output_type": "execute_result"
    }
   ],
   "source": [
    "# full\n",
    "np.full((3,3),2)"
   ]
  },
  {
   "cell_type": "code",
   "execution_count": 39,
   "id": "74cdb4cc-6917-4b2c-9532-d388c7a35318",
   "metadata": {},
   "outputs": [
    {
     "data": {
      "text/plain": [
       "array([[1, 0, 0, 0],\n",
       "       [0, 1, 0, 0],\n",
       "       [0, 0, 1, 0],\n",
       "       [0, 0, 0, 1]])"
      ]
     },
     "execution_count": 39,
     "metadata": {},
     "output_type": "execute_result"
    }
   ],
   "source": [
    "z = np.identity(4,dtype = \"int\")\n",
    "z"
   ]
  },
  {
   "cell_type": "code",
   "execution_count": 40,
   "id": "f15daf50-733e-4058-845b-e43a112462dc",
   "metadata": {},
   "outputs": [
    {
     "data": {
      "text/plain": [
       "array([1, 1, 1, 1])"
      ]
     },
     "execution_count": 40,
     "metadata": {},
     "output_type": "execute_result"
    }
   ],
   "source": [
    "np.diag(z)"
   ]
  },
  {
   "cell_type": "markdown",
   "id": "17244eed-3ee0-4e65-9043-50e88693ad68",
   "metadata": {},
   "source": [
    "# Array Indexing"
   ]
  },
  {
   "cell_type": "code",
   "execution_count": 42,
   "id": "ed29327a-2b96-478f-b09d-2dc58137c3a6",
   "metadata": {},
   "outputs": [
    {
     "data": {
      "text/plain": [
       "array([ 1,  2,  3,  4,  5,  6,  7,  8,  9, 10])"
      ]
     },
     "execution_count": 42,
     "metadata": {},
     "output_type": "execute_result"
    }
   ],
   "source": [
    "a = np.array(range(1,11))\n",
    "a"
   ]
  },
  {
   "cell_type": "code",
   "execution_count": 45,
   "id": "5d490f50-0bc2-426b-ad04-d26643d8dc4d",
   "metadata": {},
   "outputs": [
    {
     "name": "stdout",
     "output_type": "stream",
     "text": [
      "1\n",
      "5\n"
     ]
    }
   ],
   "source": [
    "print(a[0])\n",
    "print(a[4])"
   ]
  },
  {
   "cell_type": "code",
   "execution_count": 49,
   "id": "cb47157f-ee01-48b4-9a97-00ab765bf8fd",
   "metadata": {},
   "outputs": [
    {
     "name": "stdout",
     "output_type": "stream",
     "text": [
      "[2]\n",
      "[1 2 3 4 5 6 7 8 9]\n",
      "10\n"
     ]
    }
   ],
   "source": [
    "print(a[1:2])\n",
    "print(a[:-1])\n",
    "print(a[-1])"
   ]
  },
  {
   "cell_type": "code",
   "execution_count": null,
   "id": "2db0750d-d798-4dd7-91d2-cf8a2d1d6e87",
   "metadata": {},
   "outputs": [],
   "source": [
    "# deep copy and swallow copy "
   ]
  },
  {
   "cell_type": "markdown",
   "id": "61702548-dc5f-46ad-806e-39dd3fd34657",
   "metadata": {},
   "source": [
    "# Deep copy"
   ]
  },
  {
   "cell_type": "code",
   "execution_count": 50,
   "id": "6683f186-1cf6-41ae-b232-23afe2578c15",
   "metadata": {},
   "outputs": [
    {
     "data": {
      "text/plain": [
       "array([ 1,  2,  3,  4,  5,  6,  7,  8,  9, 10])"
      ]
     },
     "execution_count": 50,
     "metadata": {},
     "output_type": "execute_result"
    }
   ],
   "source": [
    "a"
   ]
  },
  {
   "cell_type": "code",
   "execution_count": 51,
   "id": "53505dd9-e8de-4f6e-ac3f-8f119a760d26",
   "metadata": {},
   "outputs": [
    {
     "data": {
      "text/plain": [
       "array([ 1,  2,  3,  4,  5,  6,  7,  8,  9, 10])"
      ]
     },
     "execution_count": 51,
     "metadata": {},
     "output_type": "execute_result"
    }
   ],
   "source": [
    "b = a.copy()\n",
    "b"
   ]
  },
  {
   "cell_type": "code",
   "execution_count": 52,
   "id": "e125e0a3-cfef-4cb8-b014-0da2c3848f38",
   "metadata": {},
   "outputs": [],
   "source": [
    "b[:] =100"
   ]
  },
  {
   "cell_type": "code",
   "execution_count": 53,
   "id": "439f7275-11db-4164-bba0-e75338b8ea0c",
   "metadata": {},
   "outputs": [
    {
     "data": {
      "text/plain": [
       "array([100, 100, 100, 100, 100, 100, 100, 100, 100, 100])"
      ]
     },
     "execution_count": 53,
     "metadata": {},
     "output_type": "execute_result"
    }
   ],
   "source": [
    "b"
   ]
  },
  {
   "cell_type": "code",
   "execution_count": 54,
   "id": "838d4195-69d3-4c87-81ee-76b0ad98989d",
   "metadata": {},
   "outputs": [
    {
     "data": {
      "text/plain": [
       "array([ 1,  2,  3,  4,  5,  6,  7,  8,  9, 10])"
      ]
     },
     "execution_count": 54,
     "metadata": {},
     "output_type": "execute_result"
    }
   ],
   "source": [
    "a"
   ]
  },
  {
   "cell_type": "markdown",
   "id": "459ad083-aaf1-4214-841e-5632144b5040",
   "metadata": {},
   "source": [
    "# Shallow copy"
   ]
  },
  {
   "cell_type": "code",
   "execution_count": 55,
   "id": "45991c15-fec7-41f7-83be-dc9164daec88",
   "metadata": {},
   "outputs": [
    {
     "data": {
      "text/plain": [
       "array([ 1,  2,  3,  4,  5,  6,  7,  8,  9, 10])"
      ]
     },
     "execution_count": 55,
     "metadata": {},
     "output_type": "execute_result"
    }
   ],
   "source": [
    "c = a\n",
    "c"
   ]
  },
  {
   "cell_type": "code",
   "execution_count": 56,
   "id": "5094b0e8-cd2c-4ffa-95ea-08b3d4429a17",
   "metadata": {},
   "outputs": [],
   "source": [
    "c[:] = 100"
   ]
  },
  {
   "cell_type": "code",
   "execution_count": 57,
   "id": "49ccc92f-9f03-496b-a2d6-b54b2a9f3d26",
   "metadata": {},
   "outputs": [
    {
     "data": {
      "text/plain": [
       "array([100, 100, 100, 100, 100, 100, 100, 100, 100, 100])"
      ]
     },
     "execution_count": 57,
     "metadata": {},
     "output_type": "execute_result"
    }
   ],
   "source": [
    "c"
   ]
  },
  {
   "cell_type": "code",
   "execution_count": 58,
   "id": "22e4099c-8943-407c-a5bb-132f4b5f776f",
   "metadata": {},
   "outputs": [
    {
     "data": {
      "text/plain": [
       "array([100, 100, 100, 100, 100, 100, 100, 100, 100, 100])"
      ]
     },
     "execution_count": 58,
     "metadata": {},
     "output_type": "execute_result"
    }
   ],
   "source": [
    "a"
   ]
  },
  {
   "cell_type": "markdown",
   "id": "f716792f-3a6c-474e-aacf-c1593651df0c",
   "metadata": {},
   "source": [
    "# Array Math"
   ]
  },
  {
   "cell_type": "code",
   "execution_count": 59,
   "id": "02aff2b3-042c-4e3f-8ee9-45896490b18c",
   "metadata": {},
   "outputs": [
    {
     "data": {
      "text/plain": [
       "array([100, 100, 100, 100, 100, 100, 100, 100, 100, 100])"
      ]
     },
     "execution_count": 59,
     "metadata": {},
     "output_type": "execute_result"
    }
   ],
   "source": [
    "a"
   ]
  },
  {
   "cell_type": "code",
   "execution_count": 61,
   "id": "f6294ca4-013d-404c-a956-320c084a2034",
   "metadata": {},
   "outputs": [
    {
     "data": {
      "text/plain": [
       "array([1, 1, 1, 1, 1, 1, 1, 1, 1, 1])"
      ]
     },
     "execution_count": 61,
     "metadata": {},
     "output_type": "execute_result"
    }
   ],
   "source": [
    "a - 99"
   ]
  },
  {
   "cell_type": "code",
   "execution_count": 62,
   "id": "722b9887-3940-464f-89bf-ae36abdc846a",
   "metadata": {},
   "outputs": [
    {
     "data": {
      "text/plain": [
       "array([110, 110, 110, 110, 110, 110, 110, 110, 110, 110])"
      ]
     },
     "execution_count": 62,
     "metadata": {},
     "output_type": "execute_result"
    }
   ],
   "source": [
    "a + 10"
   ]
  },
  {
   "cell_type": "code",
   "execution_count": 63,
   "id": "003492f3-de67-4e7b-b304-ac05a49dc877",
   "metadata": {},
   "outputs": [
    {
     "data": {
      "text/plain": [
       "array([1000, 1000, 1000, 1000, 1000, 1000, 1000, 1000, 1000, 1000])"
      ]
     },
     "execution_count": 63,
     "metadata": {},
     "output_type": "execute_result"
    }
   ],
   "source": [
    "a * 10"
   ]
  },
  {
   "cell_type": "code",
   "execution_count": 64,
   "id": "c222c8e6-a591-4571-b3c2-748a51a1ffc6",
   "metadata": {},
   "outputs": [
    {
     "data": {
      "text/plain": [
       "array([10., 10., 10., 10., 10., 10., 10., 10., 10., 10.])"
      ]
     },
     "execution_count": 64,
     "metadata": {},
     "output_type": "execute_result"
    }
   ],
   "source": [
    "a /10"
   ]
  },
  {
   "cell_type": "code",
   "execution_count": 65,
   "id": "e4d9dd31-9b9d-49c1-93cc-6c2c20562c31",
   "metadata": {},
   "outputs": [
    {
     "data": {
      "text/plain": [
       "array([100, 100, 100, 100, 100, 100, 100, 100, 100, 100])"
      ]
     },
     "execution_count": 65,
     "metadata": {},
     "output_type": "execute_result"
    }
   ],
   "source": [
    "c "
   ]
  },
  {
   "cell_type": "code",
   "execution_count": 67,
   "id": "af33c84b-f05b-4a16-baf7-c1fa0ef7baeb",
   "metadata": {},
   "outputs": [
    {
     "data": {
      "text/plain": [
       "array([200, 200, 200, 200, 200, 200, 200, 200, 200, 200])"
      ]
     },
     "execution_count": 67,
     "metadata": {},
     "output_type": "execute_result"
    }
   ],
   "source": [
    "# adding two array\n",
    "a + c"
   ]
  },
  {
   "cell_type": "code",
   "execution_count": 68,
   "id": "5e5a9d48-d962-4137-b74a-43e4afc728dd",
   "metadata": {},
   "outputs": [
    {
     "data": {
      "text/plain": [
       "array([10., 10., 10., 10., 10., 10., 10., 10., 10., 10.])"
      ]
     },
     "execution_count": 68,
     "metadata": {},
     "output_type": "execute_result"
    }
   ],
   "source": [
    "np.sqrt(a)"
   ]
  },
  {
   "cell_type": "code",
   "execution_count": 69,
   "id": "56a60c2e-efe3-4ad8-9464-25d03ea3d481",
   "metadata": {},
   "outputs": [
    {
     "data": {
      "text/plain": [
       "array([10000, 10000, 10000, 10000, 10000, 10000, 10000, 10000, 10000,\n",
       "       10000])"
      ]
     },
     "execution_count": 69,
     "metadata": {},
     "output_type": "execute_result"
    }
   ],
   "source": [
    "np.square(a)"
   ]
  },
  {
   "cell_type": "markdown",
   "id": "5e51dda2-6e54-4d07-88d3-5659b676d924",
   "metadata": {},
   "source": [
    "# Matrix multiplication\n",
    "\n",
    "table -- row , colum  ...matrix\n",
    "\n",
    "In NumPy, a matrix is essentially a two-dimensional array, specifically represented by the numpy.ndarray object. "
   ]
  },
  {
   "cell_type": "code",
   "execution_count": 70,
   "id": "0a73296a-2b7d-478e-9374-030dfd3a90eb",
   "metadata": {},
   "outputs": [],
   "source": [
    "m1 = np.array([[1,2],[3,4]])\n",
    "m2 = np.array([[5,6],[7,8]])"
   ]
  },
  {
   "cell_type": "code",
   "execution_count": 71,
   "id": "56a2092d-d9ee-4e5e-9f6b-b8c11cf9899f",
   "metadata": {},
   "outputs": [
    {
     "data": {
      "text/plain": [
       "(2, 2)"
      ]
     },
     "execution_count": 71,
     "metadata": {},
     "output_type": "execute_result"
    }
   ],
   "source": [
    "m1.shape"
   ]
  },
  {
   "cell_type": "code",
   "execution_count": 72,
   "id": "0f6a681a-1f01-4c75-839b-f31bcfd540cf",
   "metadata": {},
   "outputs": [
    {
     "data": {
      "text/plain": [
       "2"
      ]
     },
     "execution_count": 72,
     "metadata": {},
     "output_type": "execute_result"
    }
   ],
   "source": [
    "m1.ndim"
   ]
  },
  {
   "cell_type": "code",
   "execution_count": 73,
   "id": "136c270a-079e-4614-aa45-654278f6c3a1",
   "metadata": {},
   "outputs": [
    {
     "data": {
      "text/plain": [
       "array([[ 5, 12],\n",
       "       [21, 32]])"
      ]
     },
     "execution_count": 73,
     "metadata": {},
     "output_type": "execute_result"
    }
   ],
   "source": [
    "m1 * m2  # you can use all type of arithmatic operation on the matrices"
   ]
  },
  {
   "cell_type": "code",
   "execution_count": 74,
   "id": "6845da6f-4706-4e4b-9a6c-330deb1f8414",
   "metadata": {},
   "outputs": [
    {
     "data": {
      "text/plain": [
       "array([[ 6,  8],\n",
       "       [10, 12]])"
      ]
     },
     "execution_count": 74,
     "metadata": {},
     "output_type": "execute_result"
    }
   ],
   "source": [
    "m1 +  m2 "
   ]
  },
  {
   "cell_type": "code",
   "execution_count": 75,
   "id": "83330d15-e4dc-4119-bc29-11e766478a09",
   "metadata": {},
   "outputs": [
    {
     "data": {
      "text/plain": [
       "array([[-4, -4],\n",
       "       [-4, -4]])"
      ]
     },
     "execution_count": 75,
     "metadata": {},
     "output_type": "execute_result"
    }
   ],
   "source": [
    "m1 -   m2 "
   ]
  },
  {
   "cell_type": "code",
   "execution_count": 77,
   "id": "6a1ce9b8-5498-40ec-8bd6-9f1590e5e448",
   "metadata": {},
   "outputs": [
    {
     "data": {
      "text/plain": [
       "array([[0.2       , 0.33333333],\n",
       "       [0.42857143, 0.5       ]])"
      ]
     },
     "execution_count": 77,
     "metadata": {},
     "output_type": "execute_result"
    }
   ],
   "source": [
    "m1 / m2"
   ]
  },
  {
   "cell_type": "markdown",
   "id": "ba1f843c-20cf-485d-bc51-d43ca8711294",
   "metadata": {},
   "source": [
    "# dot  matrix multiplication"
   ]
  },
  {
   "cell_type": "code",
   "execution_count": 76,
   "id": "72e79a18-bd7d-463c-aeab-c1bddfad703a",
   "metadata": {},
   "outputs": [
    {
     "data": {
      "text/plain": [
       "array([[19, 22],\n",
       "       [43, 50]])"
      ]
     },
     "execution_count": 76,
     "metadata": {},
     "output_type": "execute_result"
    }
   ],
   "source": [
    "np.dot(m1,m2)"
   ]
  },
  {
   "cell_type": "code",
   "execution_count": null,
   "id": "dbf85363-691e-4760-b593-0043030c920c",
   "metadata": {},
   "outputs": [],
   "source": [
    "1  2          5    6\n",
    "     \n",
    "3  4          7    8\n",
    "\n",
    "\n",
    "=  19   22\n",
    "   43   50\n",
    "   \n",
    "\n",
    "1 * 5 + 2 * 7  = 19 \n",
    "1 * 6 + 2 * 8   = 22\n",
    "\n",
    "3 * 5  + 4 * 7 = 43\n",
    "3 * 6 + 4 * 8 =  50\n"
   ]
  },
  {
   "cell_type": "markdown",
   "id": "c2122ff1-0ad7-41dd-a6f9-46a2438c1523",
   "metadata": {},
   "source": [
    " # Broadcasting"
   ]
  },
  {
   "cell_type": "code",
   "execution_count": null,
   "id": "5c14e5f7-a5e2-432d-854d-700eb56a1ecf",
   "metadata": {},
   "outputs": [],
   "source": [
    "# Rules\n",
    "\n",
    "The dimensions have the same size.\n",
    "One of the dimensions has a size of 1."
   ]
  },
  {
   "cell_type": "markdown",
   "id": "d6dbbcf9-8eb7-4e95-9489-1f28e450bd8c",
   "metadata": {},
   "source": [
    "![](https://www.tutorialspoint.com/numpy/images/array.jpg)"
   ]
  },
  {
   "cell_type": "code",
   "execution_count": 78,
   "id": "b971d41e-d46e-47ac-aa45-0ec68e382748",
   "metadata": {},
   "outputs": [
    {
     "data": {
      "text/plain": [
       "array([ 4, 10, 18])"
      ]
     },
     "execution_count": 78,
     "metadata": {},
     "output_type": "execute_result"
    }
   ],
   "source": [
    "a  = np.array([1,2,3])\n",
    "\n",
    "b  = np.array([4,5,6])\n",
    "\n",
    "a * b"
   ]
  },
  {
   "cell_type": "code",
   "execution_count": 79,
   "id": "1eaba40b-c0d0-471d-9f86-ae4ac6f23932",
   "metadata": {},
   "outputs": [
    {
     "data": {
      "text/plain": [
       "array([[ 4,  9, 20],\n",
       "       [ 8, 15, 28]])"
      ]
     },
     "execution_count": 79,
     "metadata": {},
     "output_type": "execute_result"
    }
   ],
   "source": [
    "c = np.array([[2,3,5],[4,5,7]]) # 2d\n",
    "d = np.array([2,3,4]) # 1\n",
    "c * d"
   ]
  },
  {
   "cell_type": "code",
   "execution_count": null,
   "id": "6e7e9bef-185b-40cd-9b4b-42c41188e207",
   "metadata": {},
   "outputs": [],
   "source": []
  }
 ],
 "metadata": {
  "kernelspec": {
   "display_name": "Python 3 (ipykernel)",
   "language": "python",
   "name": "python3"
  },
  "language_info": {
   "codemirror_mode": {
    "name": "ipython",
    "version": 3
   },
   "file_extension": ".py",
   "mimetype": "text/x-python",
   "name": "python",
   "nbconvert_exporter": "python",
   "pygments_lexer": "ipython3",
   "version": "3.13.3"
  }
 },
 "nbformat": 4,
 "nbformat_minor": 5
}
